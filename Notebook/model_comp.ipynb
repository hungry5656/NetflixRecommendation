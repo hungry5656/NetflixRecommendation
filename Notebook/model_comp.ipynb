{
  "cells": [
    {
      "attachments": {},
      "cell_type": "markdown",
      "metadata": {
        "id": "3PgRD3bU5-0-"
      },
      "source": [
        "# Netflix Recommendation System Comparison\n"
      ]
    },
    {
      "attachments": {},
      "cell_type": "markdown",
      "metadata": {
        "id": "HQdmJZKV6ON5"
      },
      "source": [
        "## 1.Library import"
      ]
    },
    {
      "cell_type": "code",
      "execution_count": 1,
      "metadata": {
        "id": "FdPZbruc4XHr"
      },
      "outputs": [],
      "source": [
        "\n",
        "\n",
        "import os\n",
        "import logging\n",
        "os.environ['TF_CPP_MIN_LOG_LEVEL'] = '3'\n",
        "\n",
        "# from wordcloud import WordCloud\n",
        "import random\n",
        "import pandas as pd\n",
        "import numpy as np\n",
        "import tensorflow as tf\n",
        "import tensorflow_recommenders as tfrs\n",
        "from tensorflow.keras.metrics import MeanAbsoluteError, RootMeanSquaredError, MeanSquaredError\n",
        "import sklearn\n",
        "from matplotlib import pyplot as plt\n",
        "from typing import Dict, Text\n",
        "\n",
        "tf.get_logger().setLevel('ERROR')\n",
        "# tf.logging.set_verbosity(tf.logging.ERROR)\n",
        "logging.getLogger('tensorflow').setLevel(logging.FATAL)\n",
        "\n"
      ]
    },
    {
      "attachments": {},
      "cell_type": "markdown",
      "metadata": {
        "id": "dCaFOCTs6UYf"
      },
      "source": [
        "## 2. Data Preprocessing"
      ]
    },
    {
      "cell_type": "code",
      "execution_count": 3,
      "metadata": {
        "colab": {
          "base_uri": "https://localhost:8080/",
          "height": 1000
        },
        "id": "-C2JNf7w4ZvJ",
        "outputId": "2896bdf3-1d3b-4867-9b4e-55aa2ca975a3"
      },
      "outputs": [
        {
          "name": "stderr",
          "output_type": "stream",
          "text": [
            "/tmp/ipykernel_163345/480806534.py:4: DtypeWarning: Columns (10) have mixed types. Specify dtype option on import or set low_memory=False.\n",
            "  df_movies = pd.read_csv(movies_path).drop([19730, 29503, 35587])\n"
          ]
        },
        {
          "data": {
            "text/html": [
              "<div>\n",
              "<style scoped>\n",
              "    .dataframe tbody tr th:only-of-type {\n",
              "        vertical-align: middle;\n",
              "    }\n",
              "\n",
              "    .dataframe tbody tr th {\n",
              "        vertical-align: top;\n",
              "    }\n",
              "\n",
              "    .dataframe thead th {\n",
              "        text-align: right;\n",
              "    }\n",
              "</style>\n",
              "<table border=\"1\" class=\"dataframe\">\n",
              "  <thead>\n",
              "    <tr style=\"text-align: right;\">\n",
              "      <th></th>\n",
              "      <th>id</th>\n",
              "      <th>original_title</th>\n",
              "    </tr>\n",
              "  </thead>\n",
              "  <tbody>\n",
              "    <tr>\n",
              "      <th>0</th>\n",
              "      <td>862</td>\n",
              "      <td>Toy Story</td>\n",
              "    </tr>\n",
              "    <tr>\n",
              "      <th>1</th>\n",
              "      <td>8844</td>\n",
              "      <td>Jumanji</td>\n",
              "    </tr>\n",
              "    <tr>\n",
              "      <th>2</th>\n",
              "      <td>15602</td>\n",
              "      <td>Grumpier Old Men</td>\n",
              "    </tr>\n",
              "    <tr>\n",
              "      <th>3</th>\n",
              "      <td>31357</td>\n",
              "      <td>Waiting to Exhale</td>\n",
              "    </tr>\n",
              "    <tr>\n",
              "      <th>4</th>\n",
              "      <td>11862</td>\n",
              "      <td>Father of the Bride Part II</td>\n",
              "    </tr>\n",
              "  </tbody>\n",
              "</table>\n",
              "</div>"
            ],
            "text/plain": [
              "      id               original_title\n",
              "0    862                    Toy Story\n",
              "1   8844                      Jumanji\n",
              "2  15602             Grumpier Old Men\n",
              "3  31357            Waiting to Exhale\n",
              "4  11862  Father of the Bride Part II"
            ]
          },
          "metadata": {},
          "output_type": "display_data"
        },
        {
          "data": {
            "text/html": [
              "<div>\n",
              "<style scoped>\n",
              "    .dataframe tbody tr th:only-of-type {\n",
              "        vertical-align: middle;\n",
              "    }\n",
              "\n",
              "    .dataframe tbody tr th {\n",
              "        vertical-align: top;\n",
              "    }\n",
              "\n",
              "    .dataframe thead th {\n",
              "        text-align: right;\n",
              "    }\n",
              "</style>\n",
              "<table border=\"1\" class=\"dataframe\">\n",
              "  <thead>\n",
              "    <tr style=\"text-align: right;\">\n",
              "      <th></th>\n",
              "      <th>movieId</th>\n",
              "      <th>userId</th>\n",
              "      <th>rating</th>\n",
              "    </tr>\n",
              "  </thead>\n",
              "  <tbody>\n",
              "    <tr>\n",
              "      <th>0</th>\n",
              "      <td>31</td>\n",
              "      <td>1</td>\n",
              "      <td>2.5</td>\n",
              "    </tr>\n",
              "    <tr>\n",
              "      <th>1</th>\n",
              "      <td>1029</td>\n",
              "      <td>1</td>\n",
              "      <td>3.0</td>\n",
              "    </tr>\n",
              "    <tr>\n",
              "      <th>2</th>\n",
              "      <td>1061</td>\n",
              "      <td>1</td>\n",
              "      <td>3.0</td>\n",
              "    </tr>\n",
              "    <tr>\n",
              "      <th>3</th>\n",
              "      <td>1129</td>\n",
              "      <td>1</td>\n",
              "      <td>2.0</td>\n",
              "    </tr>\n",
              "    <tr>\n",
              "      <th>4</th>\n",
              "      <td>1172</td>\n",
              "      <td>1</td>\n",
              "      <td>4.0</td>\n",
              "    </tr>\n",
              "  </tbody>\n",
              "</table>\n",
              "</div>"
            ],
            "text/plain": [
              "   movieId  userId  rating\n",
              "0       31       1     2.5\n",
              "1     1029       1     3.0\n",
              "2     1061       1     3.0\n",
              "3     1129       1     2.0\n",
              "4     1172       1     4.0"
            ]
          },
          "metadata": {},
          "output_type": "display_data"
        },
        {
          "name": "stderr",
          "output_type": "stream",
          "text": [
            "/tmp/ipykernel_163345/480806534.py:11: SettingWithCopyWarning: \n",
            "A value is trying to be set on a copy of a slice from a DataFrame.\n",
            "Try using .loc[row_indexer,col_indexer] = value instead\n",
            "\n",
            "See the caveats in the documentation: https://pandas.pydata.org/pandas-docs/stable/user_guide/indexing.html#returning-a-view-versus-a-copy\n",
            "  df_movies_cleaned['id'] = df_movies_cleaned['id'].astype('int64')\n",
            "/tmp/ipykernel_163345/480806534.py:13: SettingWithCopyWarning: \n",
            "A value is trying to be set on a copy of a slice from a DataFrame.\n",
            "Try using .loc[row_indexer,col_indexer] = value instead\n",
            "\n",
            "See the caveats in the documentation: https://pandas.pydata.org/pandas-docs/stable/user_guide/indexing.html#returning-a-view-versus-a-copy\n",
            "  df_movies_cleaned.loc[:, 'id'] = pd.to_numeric(df_movies_cleaned['id'], errors='coerce').astype('Int64')\n",
            "/tmp/ipykernel_163345/480806534.py:13: DeprecationWarning: In a future version, `df.iloc[:, i] = newvals` will attempt to set the values inplace instead of always setting a new array. To retain the old behavior, use either `df[df.columns[i]] = newvals` or, if columns are non-unique, `df.isetitem(i, newvals)`\n",
            "  df_movies_cleaned.loc[:, 'id'] = pd.to_numeric(df_movies_cleaned['id'], errors='coerce').astype('Int64')\n"
          ]
        },
        {
          "data": {
            "text/html": [
              "<div>\n",
              "<style scoped>\n",
              "    .dataframe tbody tr th:only-of-type {\n",
              "        vertical-align: middle;\n",
              "    }\n",
              "\n",
              "    .dataframe tbody tr th {\n",
              "        vertical-align: top;\n",
              "    }\n",
              "\n",
              "    .dataframe thead th {\n",
              "        text-align: right;\n",
              "    }\n",
              "</style>\n",
              "<table border=\"1\" class=\"dataframe\">\n",
              "  <thead>\n",
              "    <tr style=\"text-align: right;\">\n",
              "      <th></th>\n",
              "      <th>id</th>\n",
              "      <th>original_title</th>\n",
              "    </tr>\n",
              "  </thead>\n",
              "  <tbody>\n",
              "    <tr>\n",
              "      <th>0</th>\n",
              "      <td>862</td>\n",
              "      <td>Toy Story</td>\n",
              "    </tr>\n",
              "    <tr>\n",
              "      <th>1</th>\n",
              "      <td>8844</td>\n",
              "      <td>Jumanji</td>\n",
              "    </tr>\n",
              "    <tr>\n",
              "      <th>2</th>\n",
              "      <td>15602</td>\n",
              "      <td>Grumpier Old Men</td>\n",
              "    </tr>\n",
              "    <tr>\n",
              "      <th>3</th>\n",
              "      <td>31357</td>\n",
              "      <td>Waiting to Exhale</td>\n",
              "    </tr>\n",
              "    <tr>\n",
              "      <th>4</th>\n",
              "      <td>11862</td>\n",
              "      <td>Father of the Bride Part II</td>\n",
              "    </tr>\n",
              "  </tbody>\n",
              "</table>\n",
              "</div>"
            ],
            "text/plain": [
              "      id               original_title\n",
              "0    862                    Toy Story\n",
              "1   8844                      Jumanji\n",
              "2  15602             Grumpier Old Men\n",
              "3  31357            Waiting to Exhale\n",
              "4  11862  Father of the Bride Part II"
            ]
          },
          "metadata": {},
          "output_type": "display_data"
        },
        {
          "data": {
            "text/plain": [
              "count         44994.0\n",
              "mean      6010.754901\n",
              "std      15918.243916\n",
              "min               2.0\n",
              "25%             500.0\n",
              "50%            1394.0\n",
              "75%            2805.0\n",
              "max          160718.0\n",
              "Name: id, dtype: Float64"
            ]
          },
          "metadata": {},
          "output_type": "display_data"
        },
        {
          "data": {
            "text/html": [
              "<div>\n",
              "<style scoped>\n",
              "    .dataframe tbody tr th:only-of-type {\n",
              "        vertical-align: middle;\n",
              "    }\n",
              "\n",
              "    .dataframe tbody tr th {\n",
              "        vertical-align: top;\n",
              "    }\n",
              "\n",
              "    .dataframe thead th {\n",
              "        text-align: right;\n",
              "    }\n",
              "</style>\n",
              "<table border=\"1\" class=\"dataframe\">\n",
              "  <thead>\n",
              "    <tr style=\"text-align: right;\">\n",
              "      <th></th>\n",
              "      <th>userId</th>\n",
              "      <th>rating</th>\n",
              "      <th>id</th>\n",
              "      <th>original_title</th>\n",
              "    </tr>\n",
              "  </thead>\n",
              "  <tbody>\n",
              "    <tr>\n",
              "      <th>0</th>\n",
              "      <td>1</td>\n",
              "      <td>2.5</td>\n",
              "      <td>1371</td>\n",
              "      <td>Rocky III</td>\n",
              "    </tr>\n",
              "    <tr>\n",
              "      <th>1</th>\n",
              "      <td>1</td>\n",
              "      <td>1.0</td>\n",
              "      <td>1405</td>\n",
              "      <td>Greed</td>\n",
              "    </tr>\n",
              "    <tr>\n",
              "      <th>2</th>\n",
              "      <td>1</td>\n",
              "      <td>4.0</td>\n",
              "      <td>2105</td>\n",
              "      <td>American Pie</td>\n",
              "    </tr>\n",
              "    <tr>\n",
              "      <th>3</th>\n",
              "      <td>1</td>\n",
              "      <td>2.0</td>\n",
              "      <td>2193</td>\n",
              "      <td>My Tutor</td>\n",
              "    </tr>\n",
              "    <tr>\n",
              "      <th>4</th>\n",
              "      <td>1</td>\n",
              "      <td>2.0</td>\n",
              "      <td>2294</td>\n",
              "      <td>Jay and Silent Bob Strike Back</td>\n",
              "    </tr>\n",
              "  </tbody>\n",
              "</table>\n",
              "</div>"
            ],
            "text/plain": [
              "   userId  rating    id                  original_title\n",
              "0       1     2.5  1371                       Rocky III\n",
              "1       1     1.0  1405                           Greed\n",
              "2       1     4.0  2105                    American Pie\n",
              "3       1     2.0  2193                        My Tutor\n",
              "4       1     2.0  2294  Jay and Silent Bob Strike Back"
            ]
          },
          "metadata": {},
          "output_type": "display_data"
        }
      ],
      "source": [
        "movies_path = '../dataset/movies_metadata.csv'\n",
        "rating_path = '../dataset/ratings_small.csv'\n",
        "\n",
        "df_movies = pd.read_csv(movies_path).drop([19730, 29503, 35587])\n",
        "df_rating = pd.read_csv(rating_path)\n",
        "\n",
        "df_movies_cleaned = df_movies[['id', 'original_title']]\n",
        "df_rating_cleaned = df_rating[['movieId', 'userId', 'rating']]\n",
        "display(df_movies_cleaned.head(5))\n",
        "display(df_rating_cleaned.head(5))\n",
        "df_movies_cleaned['id'] = df_movies_cleaned['id'].astype('int64')\n",
        "\n",
        "df_movies_cleaned.loc[:, 'id'] = pd.to_numeric(df_movies_cleaned['id'], errors='coerce').astype('Int64')\n",
        "df_movies_cleaned = df_movies_cleaned.dropna(subset=['id']) # remove any line with NaN\n",
        "display(df_movies_cleaned.head(5))\n",
        "\n",
        "merged_dataset = pd.merge(df_rating_cleaned, df_movies_cleaned[['id', 'original_title']], left_on='movieId', right_on='id', how='left')\n",
        "\n",
        "merged_dataset = merged_dataset[~merged_dataset['id'].isna()]\n",
        "merged_dataset.dropna(inplace=True)\n",
        "merged_dataset.drop('movieId', axis=1, inplace=True)\n",
        "display(merged_dataset['id'].describe())\n",
        "dataset_size = merged_dataset.shape[0] # count final size for dataset\n",
        "\n",
        "merged_dataset.reset_index(drop=True, inplace=True)\n",
        "\n",
        "display(merged_dataset.head())\n",
        "\n",
        "df_movies_cleaned = df_movies_cleaned[~df_movies_cleaned['original_title'].duplicated()]\n",
        "df_movies_cleaned['original_title'].head()\n",
        "\n",
        "merged_dataset['userId'] = merged_dataset['userId'].astype(str)\n",
        "# df_movies_cleaned['original_title'] = df_movies_cleaned['original_title'].astype(str)\n",
        "\n",
        "rating_dict = dict(merged_dataset[['userId', 'original_title', 'rating']])\n",
        "movies_dict = dict(df_movies_cleaned[['original_title']])\n",
        "\n",
        "# Transfer to tf.tensor_slice\n",
        "ratings_tf = tf.data.Dataset.from_tensor_slices(rating_dict)\n",
        "movies_tf = tf.data.Dataset.from_tensor_slices(movies_dict)\n",
        "\n",
        "movies_tf = movies_tf.map(lambda x: x[\"original_title\"])\n",
        "\n",
        "ratings_tf = ratings_tf.map(lambda x: {\n",
        "    \"original_title\": x[\"original_title\"],\n",
        "    \"rating\": float(x[\"rating\"]),\n",
        "    \"userId\": x[\"userId\"]\n",
        "})\n",
        "\n",
        "def slice_df_data(data_tf, total_size, test_rate=0.2):\n",
        "    test_size = int(total_size * test_rate)\n",
        "    train_size = total_size - test_size\n",
        "    return data_tf.take(train_size), data_tf.skip(train_size).take(test_size)\n",
        "\n",
        "train_ds, test_ds = slice_df_data(ratings_tf, dataset_size)\n",
        "usrID_lookup = np.unique(np.concatenate([merged_dataset['userId'].to_numpy()]))\n",
        "title_lookup = np.unique(np.concatenate([df_movies_cleaned['original_title']]))"
      ]
    },
    {
      "attachments": {},
      "cell_type": "markdown",
      "metadata": {
        "id": "moyzn_176fzZ"
      },
      "source": [
        "## 3. Model construction"
      ]
    },
    {
      "cell_type": "code",
      "execution_count": 4,
      "metadata": {
        "id": "QLSqClvp6gYP"
      },
      "outputs": [],
      "source": [
        "# customized model for collaborative-based system\n",
        "class CollabModel(tfrs.models.Model):\n",
        "  def __init__(self, rating_w, retrieval_w, embedding_dim=64, L1_num=256, L2_num=128, L3_num=32, act_func=\"relu\") -> None:\n",
        "    super().__init__()\n",
        "    embedding_dim = embedding_dim # number of dimension for embedding\n",
        "\n",
        "    self.movie_model: tf.keras.layers.Layer = tf.keras.Sequential([\n",
        "      tf.keras.layers.StringLookup(\n",
        "        vocabulary=title_lookup, mask_token=None),\n",
        "      tf.keras.layers.Embedding(len(title_lookup) + 1, embedding_dim)\n",
        "    ])\n",
        "    self.user_model: tf.keras.layers.Layer = tf.keras.Sequential([\n",
        "      tf.keras.layers.StringLookup(\n",
        "        vocabulary=usrID_lookup, mask_token=None),\n",
        "      tf.keras.layers.Embedding(len(usrID_lookup) + 1, embedding_dim)\n",
        "    ])\n",
        "    self.rating_model = tf.keras.Sequential([\n",
        "        tf.keras.layers.Dense(L1_num, activation=act_func), # first layer\n",
        "        tf.keras.layers.Dense(L2_num, activation=act_func), # second layer\n",
        "        tf.keras.layers.Dense(L3_num, activation=act_func),# third layer\n",
        "        tf.keras.layers.Dense(1), # output layer\n",
        "    ])\n",
        "\n",
        "    self.rating_eval: tf.keras.layers.Layer = tfrs.tasks.Ranking(\n",
        "        loss = MeanSquaredError(),\n",
        "        metrics = [RootMeanSquaredError(), MeanAbsoluteError()],\n",
        "    )\n",
        "    self.retrieval_eval: tf.keras.layers.Layer = tfrs.tasks.Retrieval(\n",
        "        metrics=tfrs.metrics.FactorizedTopK(\n",
        "            candidates=movies_tf.batch(128).map(self.movie_model)\n",
        "        )\n",
        "    )\n",
        "\n",
        "    self.rating_weight = rating_w\n",
        "    self.retrieval_weight = retrieval_w\n",
        "\n",
        "  # overloading call function\n",
        "  def call(self, features: Dict[Text, tf.Tensor]) -> tf.Tensor:\n",
        "    user_embeddings = self.user_model(features[\"userId\"])\n",
        "    movie_embeddings = self.movie_model(features[\"original_title\"])\n",
        "    \n",
        "    return (\n",
        "        user_embeddings,\n",
        "        movie_embeddings,\n",
        "        self.rating_model(\n",
        "            tf.concat([user_embeddings, movie_embeddings], axis=1)\n",
        "        ),\n",
        "    )\n",
        "\n",
        "  # overloading compute_loss function\n",
        "  def compute_loss(self, features: Dict[Text, tf.Tensor], training=False) -> tf.Tensor: \n",
        "    label_r = features.pop(\"rating\")\n",
        "    user_embeddings, movie_embeddings, rating_pred = self(features)\n",
        "    rating_loss = self.rating_eval(labels=label_r, predictions=rating_pred)\n",
        "    retrieval_loss = self.retrieval_eval(user_embeddings, movie_embeddings)\n",
        "\n",
        "    return (self.rating_weight * rating_loss\n",
        "            + self.retrieval_weight * retrieval_loss)"
      ]
    },
    {
      "attachments": {},
      "cell_type": "markdown",
      "metadata": {
        "id": "awfSm8ju6lwj"
      },
      "source": [
        "## 4. Model training"
      ]
    },
    {
      "cell_type": "code",
      "execution_count": 38,
      "metadata": {
        "colab": {
          "base_uri": "https://localhost:8080/"
        },
        "id": "fGL3tKTr6mRs",
        "outputId": "d81be200-d7c9-4dad-ca7d-56388a38a474"
      },
      "outputs": [
        {
          "name": "stdout",
          "output_type": "stream",
          "text": [
            "Epoch 1/50\n",
            "36/36 [==============================] - 32s 840ms/step - mean_squared_error: 13.7374 - root_mean_squared_error: 3.7064 - mean_absolute_error: 3.5506 - factorized_top_k/top_1_categorical_accuracy: 2.7781e-04 - factorized_top_k/top_5_categorical_accuracy: 0.0057 - factorized_top_k/top_10_categorical_accuracy: 0.0153 - factorized_top_k/top_50_categorical_accuracy: 0.0983 - factorized_top_k/top_100_categorical_accuracy: 0.1759 - loss: 6781.2153 - regularization_loss: 0.0000e+00 - total_loss: 6781.2153\n",
            "Epoch 2/50\n",
            "36/36 [==============================] - 30s 842ms/step - mean_squared_error: 13.6985 - root_mean_squared_error: 3.7011 - mean_absolute_error: 3.5448 - factorized_top_k/top_1_categorical_accuracy: 2.5003e-04 - factorized_top_k/top_5_categorical_accuracy: 0.0124 - factorized_top_k/top_10_categorical_accuracy: 0.0331 - factorized_top_k/top_50_categorical_accuracy: 0.1877 - factorized_top_k/top_100_categorical_accuracy: 0.3155 - loss: 6325.3446 - regularization_loss: 0.0000e+00 - total_loss: 6325.3446\n",
            "Epoch 3/50\n",
            "36/36 [==============================] - 31s 866ms/step - mean_squared_error: 13.6680 - root_mean_squared_error: 3.6970 - mean_absolute_error: 3.5403 - factorized_top_k/top_1_categorical_accuracy: 2.5003e-04 - factorized_top_k/top_5_categorical_accuracy: 0.0182 - factorized_top_k/top_10_categorical_accuracy: 0.0511 - factorized_top_k/top_50_categorical_accuracy: 0.2599 - factorized_top_k/top_100_categorical_accuracy: 0.4021 - loss: 6001.2911 - regularization_loss: 0.0000e+00 - total_loss: 6001.2911\n",
            "Epoch 4/50\n",
            "36/36 [==============================] - 32s 893ms/step - mean_squared_error: 13.6398 - root_mean_squared_error: 3.6932 - mean_absolute_error: 3.5361 - factorized_top_k/top_1_categorical_accuracy: 0.0011 - factorized_top_k/top_5_categorical_accuracy: 0.0291 - factorized_top_k/top_10_categorical_accuracy: 0.0708 - factorized_top_k/top_50_categorical_accuracy: 0.3071 - factorized_top_k/top_100_categorical_accuracy: 0.4558 - loss: 5781.9388 - regularization_loss: 0.0000e+00 - total_loss: 5781.9388\n",
            "Epoch 5/50\n",
            "36/36 [==============================] - 33s 909ms/step - mean_squared_error: 13.6182 - root_mean_squared_error: 3.6903 - mean_absolute_error: 3.5329 - factorized_top_k/top_1_categorical_accuracy: 0.0039 - factorized_top_k/top_5_categorical_accuracy: 0.0349 - factorized_top_k/top_10_categorical_accuracy: 0.0819 - factorized_top_k/top_50_categorical_accuracy: 0.3456 - factorized_top_k/top_100_categorical_accuracy: 0.5068 - loss: 5644.3224 - regularization_loss: 0.0000e+00 - total_loss: 5644.3224\n",
            "Epoch 6/50\n",
            "36/36 [==============================] - 33s 907ms/step - mean_squared_error: 13.6021 - root_mean_squared_error: 3.6881 - mean_absolute_error: 3.5304 - factorized_top_k/top_1_categorical_accuracy: 0.0020 - factorized_top_k/top_5_categorical_accuracy: 0.0357 - factorized_top_k/top_10_categorical_accuracy: 0.0863 - factorized_top_k/top_50_categorical_accuracy: 0.3734 - factorized_top_k/top_100_categorical_accuracy: 0.5444 - loss: 5552.2398 - regularization_loss: 0.0000e+00 - total_loss: 5552.2398\n",
            "Epoch 7/50\n",
            "36/36 [==============================] - 33s 904ms/step - mean_squared_error: 13.5912 - root_mean_squared_error: 3.6866 - mean_absolute_error: 3.5287 - factorized_top_k/top_1_categorical_accuracy: 0.0038 - factorized_top_k/top_5_categorical_accuracy: 0.0383 - factorized_top_k/top_10_categorical_accuracy: 0.0903 - factorized_top_k/top_50_categorical_accuracy: 0.3928 - factorized_top_k/top_100_categorical_accuracy: 0.5722 - loss: 5484.9508 - regularization_loss: 0.0000e+00 - total_loss: 5484.9508\n",
            "Epoch 8/50\n",
            "36/36 [==============================] - 33s 918ms/step - mean_squared_error: 13.5821 - root_mean_squared_error: 3.6854 - mean_absolute_error: 3.5273 - factorized_top_k/top_1_categorical_accuracy: 0.0024 - factorized_top_k/top_5_categorical_accuracy: 0.0376 - factorized_top_k/top_10_categorical_accuracy: 0.0921 - factorized_top_k/top_50_categorical_accuracy: 0.4061 - factorized_top_k/top_100_categorical_accuracy: 0.5911 - loss: 5433.8263 - regularization_loss: 0.0000e+00 - total_loss: 5433.8263\n",
            "Epoch 9/50\n",
            "36/36 [==============================] - 34s 939ms/step - mean_squared_error: 13.5749 - root_mean_squared_error: 3.6844 - mean_absolute_error: 3.5262 - factorized_top_k/top_1_categorical_accuracy: 0.0039 - factorized_top_k/top_5_categorical_accuracy: 0.0398 - factorized_top_k/top_10_categorical_accuracy: 0.0944 - factorized_top_k/top_50_categorical_accuracy: 0.4191 - factorized_top_k/top_100_categorical_accuracy: 0.6063 - loss: 5392.5610 - regularization_loss: 0.0000e+00 - total_loss: 5392.5610\n",
            "Epoch 10/50\n",
            "36/36 [==============================] - 34s 936ms/step - mean_squared_error: 13.5687 - root_mean_squared_error: 3.6836 - mean_absolute_error: 3.5252 - factorized_top_k/top_1_categorical_accuracy: 0.0028 - factorized_top_k/top_5_categorical_accuracy: 0.0392 - factorized_top_k/top_10_categorical_accuracy: 0.0952 - factorized_top_k/top_50_categorical_accuracy: 0.4273 - factorized_top_k/top_100_categorical_accuracy: 0.6166 - loss: 5358.5941 - regularization_loss: 0.0000e+00 - total_loss: 5358.5941\n",
            "Epoch 11/50\n",
            "36/36 [==============================] - 35s 966ms/step - mean_squared_error: 13.5634 - root_mean_squared_error: 3.6829 - mean_absolute_error: 3.5244 - factorized_top_k/top_1_categorical_accuracy: 0.0039 - factorized_top_k/top_5_categorical_accuracy: 0.0410 - factorized_top_k/top_10_categorical_accuracy: 0.0980 - factorized_top_k/top_50_categorical_accuracy: 0.4346 - factorized_top_k/top_100_categorical_accuracy: 0.6259 - loss: 5329.5142 - regularization_loss: 0.0000e+00 - total_loss: 5329.5142\n",
            "Epoch 12/50\n",
            "36/36 [==============================] - 38s 1s/step - mean_squared_error: 13.5586 - root_mean_squared_error: 3.6822 - mean_absolute_error: 3.5237 - factorized_top_k/top_1_categorical_accuracy: 0.0029 - factorized_top_k/top_5_categorical_accuracy: 0.0402 - factorized_top_k/top_10_categorical_accuracy: 0.0983 - factorized_top_k/top_50_categorical_accuracy: 0.4397 - factorized_top_k/top_100_categorical_accuracy: 0.6324 - loss: 5305.6702 - regularization_loss: 0.0000e+00 - total_loss: 5305.6702\n",
            "Epoch 13/50\n",
            "36/36 [==============================] - 38s 1s/step - mean_squared_error: 13.5548 - root_mean_squared_error: 3.6817 - mean_absolute_error: 3.5231 - factorized_top_k/top_1_categorical_accuracy: 0.0038 - factorized_top_k/top_5_categorical_accuracy: 0.0413 - factorized_top_k/top_10_categorical_accuracy: 0.0996 - factorized_top_k/top_50_categorical_accuracy: 0.4442 - factorized_top_k/top_100_categorical_accuracy: 0.6393 - loss: 5284.1190 - regularization_loss: 0.0000e+00 - total_loss: 5284.1190\n",
            "Epoch 14/50\n",
            "36/36 [==============================] - 39s 1s/step - mean_squared_error: 13.5511 - root_mean_squared_error: 3.6812 - mean_absolute_error: 3.5225 - factorized_top_k/top_1_categorical_accuracy: 0.0031 - factorized_top_k/top_5_categorical_accuracy: 0.0414 - factorized_top_k/top_10_categorical_accuracy: 0.1001 - factorized_top_k/top_50_categorical_accuracy: 0.4471 - factorized_top_k/top_100_categorical_accuracy: 0.6442 - loss: 5265.6868 - regularization_loss: 0.0000e+00 - total_loss: 5265.6868\n",
            "Epoch 15/50\n",
            "36/36 [==============================] - 38s 1s/step - mean_squared_error: 13.5481 - root_mean_squared_error: 3.6808 - mean_absolute_error: 3.5220 - factorized_top_k/top_1_categorical_accuracy: 0.0039 - factorized_top_k/top_5_categorical_accuracy: 0.0424 - factorized_top_k/top_10_categorical_accuracy: 0.1012 - factorized_top_k/top_50_categorical_accuracy: 0.4502 - factorized_top_k/top_100_categorical_accuracy: 0.6491 - loss: 5248.9838 - regularization_loss: 0.0000e+00 - total_loss: 5248.9838\n",
            "Epoch 16/50\n",
            "36/36 [==============================] - 40s 1s/step - mean_squared_error: 13.5450 - root_mean_squared_error: 3.6803 - mean_absolute_error: 3.5215 - factorized_top_k/top_1_categorical_accuracy: 0.0029 - factorized_top_k/top_5_categorical_accuracy: 0.0425 - factorized_top_k/top_10_categorical_accuracy: 0.1018 - factorized_top_k/top_50_categorical_accuracy: 0.4529 - factorized_top_k/top_100_categorical_accuracy: 0.6532 - loss: 5234.1530 - regularization_loss: 0.0000e+00 - total_loss: 5234.1530\n",
            "Epoch 17/50\n",
            "36/36 [==============================] - 35s 966ms/step - mean_squared_error: 13.5427 - root_mean_squared_error: 3.6800 - mean_absolute_error: 3.5211 - factorized_top_k/top_1_categorical_accuracy: 0.0039 - factorized_top_k/top_5_categorical_accuracy: 0.0431 - factorized_top_k/top_10_categorical_accuracy: 0.1025 - factorized_top_k/top_50_categorical_accuracy: 0.4556 - factorized_top_k/top_100_categorical_accuracy: 0.6555 - loss: 5220.5420 - regularization_loss: 0.0000e+00 - total_loss: 5220.5420\n",
            "Epoch 18/50\n",
            "36/36 [==============================] - 35s 965ms/step - mean_squared_error: 13.5400 - root_mean_squared_error: 3.6797 - mean_absolute_error: 3.5207 - factorized_top_k/top_1_categorical_accuracy: 0.0031 - factorized_top_k/top_5_categorical_accuracy: 0.0429 - factorized_top_k/top_10_categorical_accuracy: 0.1033 - factorized_top_k/top_50_categorical_accuracy: 0.4574 - factorized_top_k/top_100_categorical_accuracy: 0.6586 - loss: 5208.4658 - regularization_loss: 0.0000e+00 - total_loss: 5208.4658\n",
            "Epoch 19/50\n",
            "36/36 [==============================] - 34s 955ms/step - mean_squared_error: 13.5381 - root_mean_squared_error: 3.6794 - mean_absolute_error: 3.5204 - factorized_top_k/top_1_categorical_accuracy: 0.0039 - factorized_top_k/top_5_categorical_accuracy: 0.0439 - factorized_top_k/top_10_categorical_accuracy: 0.1036 - factorized_top_k/top_50_categorical_accuracy: 0.4600 - factorized_top_k/top_100_categorical_accuracy: 0.6612 - loss: 5197.3094 - regularization_loss: 0.0000e+00 - total_loss: 5197.3094\n",
            "Epoch 20/50\n",
            "36/36 [==============================] - 35s 964ms/step - mean_squared_error: 13.5358 - root_mean_squared_error: 3.6791 - mean_absolute_error: 3.5200 - factorized_top_k/top_1_categorical_accuracy: 0.0033 - factorized_top_k/top_5_categorical_accuracy: 0.0435 - factorized_top_k/top_10_categorical_accuracy: 0.1040 - factorized_top_k/top_50_categorical_accuracy: 0.4613 - factorized_top_k/top_100_categorical_accuracy: 0.6632 - loss: 5187.1212 - regularization_loss: 0.0000e+00 - total_loss: 5187.1212\n",
            "Epoch 21/50\n",
            "36/36 [==============================] - 35s 960ms/step - mean_squared_error: 13.5341 - root_mean_squared_error: 3.6789 - mean_absolute_error: 3.5197 - factorized_top_k/top_1_categorical_accuracy: 0.0041 - factorized_top_k/top_5_categorical_accuracy: 0.0444 - factorized_top_k/top_10_categorical_accuracy: 0.1049 - factorized_top_k/top_50_categorical_accuracy: 0.4629 - factorized_top_k/top_100_categorical_accuracy: 0.6649 - loss: 5177.5706 - regularization_loss: 0.0000e+00 - total_loss: 5177.5706\n",
            "Epoch 22/50\n",
            "36/36 [==============================] - 37s 1s/step - mean_squared_error: 13.5321 - root_mean_squared_error: 3.6786 - mean_absolute_error: 3.5194 - factorized_top_k/top_1_categorical_accuracy: 0.0032 - factorized_top_k/top_5_categorical_accuracy: 0.0440 - factorized_top_k/top_10_categorical_accuracy: 0.1049 - factorized_top_k/top_50_categorical_accuracy: 0.4643 - factorized_top_k/top_100_categorical_accuracy: 0.6663 - loss: 5168.9292 - regularization_loss: 0.0000e+00 - total_loss: 5168.9292\n",
            "Epoch 23/50\n",
            "36/36 [==============================] - 39s 1s/step - mean_squared_error: 13.5305 - root_mean_squared_error: 3.6784 - mean_absolute_error: 3.5191 - factorized_top_k/top_1_categorical_accuracy: 0.0042 - factorized_top_k/top_5_categorical_accuracy: 0.0449 - factorized_top_k/top_10_categorical_accuracy: 0.1059 - factorized_top_k/top_50_categorical_accuracy: 0.4661 - factorized_top_k/top_100_categorical_accuracy: 0.6681 - loss: 5160.7707 - regularization_loss: 0.0000e+00 - total_loss: 5160.7707\n",
            "Epoch 24/50\n",
            "36/36 [==============================] - 37s 1s/step - mean_squared_error: 13.5288 - root_mean_squared_error: 3.6782 - mean_absolute_error: 3.5189 - factorized_top_k/top_1_categorical_accuracy: 0.0032 - factorized_top_k/top_5_categorical_accuracy: 0.0440 - factorized_top_k/top_10_categorical_accuracy: 0.1059 - factorized_top_k/top_50_categorical_accuracy: 0.4663 - factorized_top_k/top_100_categorical_accuracy: 0.6698 - loss: 5153.2826 - regularization_loss: 0.0000e+00 - total_loss: 5153.2826\n",
            "Epoch 25/50\n",
            "36/36 [==============================] - 35s 979ms/step - mean_squared_error: 13.5274 - root_mean_squared_error: 3.6780 - mean_absolute_error: 3.5186 - factorized_top_k/top_1_categorical_accuracy: 0.0043 - factorized_top_k/top_5_categorical_accuracy: 0.0453 - factorized_top_k/top_10_categorical_accuracy: 0.1067 - factorized_top_k/top_50_categorical_accuracy: 0.4684 - factorized_top_k/top_100_categorical_accuracy: 0.6716 - loss: 5146.0990 - regularization_loss: 0.0000e+00 - total_loss: 5146.0990\n",
            "Epoch 26/50\n",
            "36/36 [==============================] - 38s 1s/step - mean_squared_error: 13.5259 - root_mean_squared_error: 3.6778 - mean_absolute_error: 3.5184 - factorized_top_k/top_1_categorical_accuracy: 0.0032 - factorized_top_k/top_5_categorical_accuracy: 0.0445 - factorized_top_k/top_10_categorical_accuracy: 0.1070 - factorized_top_k/top_50_categorical_accuracy: 0.4685 - factorized_top_k/top_100_categorical_accuracy: 0.6729 - loss: 5139.4387 - regularization_loss: 0.0000e+00 - total_loss: 5139.4387\n",
            "Epoch 27/50\n",
            "36/36 [==============================] - 38s 1s/step - mean_squared_error: 13.5247 - root_mean_squared_error: 3.6776 - mean_absolute_error: 3.5182 - factorized_top_k/top_1_categorical_accuracy: 0.0043 - factorized_top_k/top_5_categorical_accuracy: 0.0458 - factorized_top_k/top_10_categorical_accuracy: 0.1076 - factorized_top_k/top_50_categorical_accuracy: 0.4697 - factorized_top_k/top_100_categorical_accuracy: 0.6741 - loss: 5133.1459 - regularization_loss: 0.0000e+00 - total_loss: 5133.1459\n",
            "Epoch 28/50\n",
            "36/36 [==============================] - 37s 1s/step - mean_squared_error: 13.5234 - root_mean_squared_error: 3.6774 - mean_absolute_error: 3.5180 - factorized_top_k/top_1_categorical_accuracy: 0.0033 - factorized_top_k/top_5_categorical_accuracy: 0.0450 - factorized_top_k/top_10_categorical_accuracy: 0.1077 - factorized_top_k/top_50_categorical_accuracy: 0.4703 - factorized_top_k/top_100_categorical_accuracy: 0.6748 - loss: 5127.2620 - regularization_loss: 0.0000e+00 - total_loss: 5127.2620\n",
            "Epoch 29/50\n",
            "36/36 [==============================] - 36s 1s/step - mean_squared_error: 13.5223 - root_mean_squared_error: 3.6773 - mean_absolute_error: 3.5178 - factorized_top_k/top_1_categorical_accuracy: 0.0044 - factorized_top_k/top_5_categorical_accuracy: 0.0462 - factorized_top_k/top_10_categorical_accuracy: 0.1083 - factorized_top_k/top_50_categorical_accuracy: 0.4715 - factorized_top_k/top_100_categorical_accuracy: 0.6762 - loss: 5121.6826 - regularization_loss: 0.0000e+00 - total_loss: 5121.6826\n",
            "Epoch 30/50\n",
            "36/36 [==============================] - 37s 1s/step - mean_squared_error: 13.5211 - root_mean_squared_error: 3.6771 - mean_absolute_error: 3.5176 - factorized_top_k/top_1_categorical_accuracy: 0.0033 - factorized_top_k/top_5_categorical_accuracy: 0.0455 - factorized_top_k/top_10_categorical_accuracy: 0.1086 - factorized_top_k/top_50_categorical_accuracy: 0.4717 - factorized_top_k/top_100_categorical_accuracy: 0.6767 - loss: 5116.4054 - regularization_loss: 0.0000e+00 - total_loss: 5116.4054\n",
            "Epoch 31/50\n",
            "36/36 [==============================] - 37s 1s/step - mean_squared_error: 13.5201 - root_mean_squared_error: 3.6770 - mean_absolute_error: 3.5174 - factorized_top_k/top_1_categorical_accuracy: 0.0043 - factorized_top_k/top_5_categorical_accuracy: 0.0466 - factorized_top_k/top_10_categorical_accuracy: 0.1090 - factorized_top_k/top_50_categorical_accuracy: 0.4729 - factorized_top_k/top_100_categorical_accuracy: 0.6779 - loss: 5111.4207 - regularization_loss: 0.0000e+00 - total_loss: 5111.4207\n",
            "Epoch 32/50\n",
            "36/36 [==============================] - 37s 1s/step - mean_squared_error: 13.5190 - root_mean_squared_error: 3.6768 - mean_absolute_error: 3.5172 - factorized_top_k/top_1_categorical_accuracy: 0.0034 - factorized_top_k/top_5_categorical_accuracy: 0.0459 - factorized_top_k/top_10_categorical_accuracy: 0.1092 - factorized_top_k/top_50_categorical_accuracy: 0.4729 - factorized_top_k/top_100_categorical_accuracy: 0.6786 - loss: 5106.6582 - regularization_loss: 0.0000e+00 - total_loss: 5106.6582\n",
            "Epoch 33/50\n",
            "36/36 [==============================] - 36s 1s/step - mean_squared_error: 13.5181 - root_mean_squared_error: 3.6767 - mean_absolute_error: 3.5170 - factorized_top_k/top_1_categorical_accuracy: 0.0042 - factorized_top_k/top_5_categorical_accuracy: 0.0468 - factorized_top_k/top_10_categorical_accuracy: 0.1098 - factorized_top_k/top_50_categorical_accuracy: 0.4747 - factorized_top_k/top_100_categorical_accuracy: 0.6795 - loss: 5102.1330 - regularization_loss: 0.0000e+00 - total_loss: 5102.1330\n",
            "Epoch 34/50\n",
            "36/36 [==============================] - 37s 1s/step - mean_squared_error: 13.5171 - root_mean_squared_error: 3.6766 - mean_absolute_error: 3.5169 - factorized_top_k/top_1_categorical_accuracy: 0.0034 - factorized_top_k/top_5_categorical_accuracy: 0.0460 - factorized_top_k/top_10_categorical_accuracy: 0.1095 - factorized_top_k/top_50_categorical_accuracy: 0.4747 - factorized_top_k/top_100_categorical_accuracy: 0.6800 - loss: 5097.8106 - regularization_loss: 0.0000e+00 - total_loss: 5097.8106\n",
            "Epoch 35/50\n",
            "36/36 [==============================] - 37s 1s/step - mean_squared_error: 13.5162 - root_mean_squared_error: 3.6764 - mean_absolute_error: 3.5167 - factorized_top_k/top_1_categorical_accuracy: 0.0041 - factorized_top_k/top_5_categorical_accuracy: 0.0471 - factorized_top_k/top_10_categorical_accuracy: 0.1100 - factorized_top_k/top_50_categorical_accuracy: 0.4754 - factorized_top_k/top_100_categorical_accuracy: 0.6809 - loss: 5093.6658 - regularization_loss: 0.0000e+00 - total_loss: 5093.6658\n",
            "Epoch 36/50\n",
            "36/36 [==============================] - 37s 1s/step - mean_squared_error: 13.5153 - root_mean_squared_error: 3.6763 - mean_absolute_error: 3.5166 - factorized_top_k/top_1_categorical_accuracy: 0.0034 - factorized_top_k/top_5_categorical_accuracy: 0.0463 - factorized_top_k/top_10_categorical_accuracy: 0.1099 - factorized_top_k/top_50_categorical_accuracy: 0.4759 - factorized_top_k/top_100_categorical_accuracy: 0.6814 - loss: 5089.7012 - regularization_loss: 0.0000e+00 - total_loss: 5089.7012\n",
            "Epoch 37/50\n",
            "36/36 [==============================] - 37s 1s/step - mean_squared_error: 13.5145 - root_mean_squared_error: 3.6762 - mean_absolute_error: 3.5164 - factorized_top_k/top_1_categorical_accuracy: 0.0041 - factorized_top_k/top_5_categorical_accuracy: 0.0473 - factorized_top_k/top_10_categorical_accuracy: 0.1107 - factorized_top_k/top_50_categorical_accuracy: 0.4765 - factorized_top_k/top_100_categorical_accuracy: 0.6820 - loss: 5085.9106 - regularization_loss: 0.0000e+00 - total_loss: 5085.9106\n",
            "Epoch 38/50\n",
            "36/36 [==============================] - 37s 1s/step - mean_squared_error: 13.5136 - root_mean_squared_error: 3.6761 - mean_absolute_error: 3.5163 - factorized_top_k/top_1_categorical_accuracy: 0.0034 - factorized_top_k/top_5_categorical_accuracy: 0.0466 - factorized_top_k/top_10_categorical_accuracy: 0.1104 - factorized_top_k/top_50_categorical_accuracy: 0.4764 - factorized_top_k/top_100_categorical_accuracy: 0.6822 - loss: 5082.2647 - regularization_loss: 0.0000e+00 - total_loss: 5082.2647\n",
            "Epoch 39/50\n",
            "36/36 [==============================] - 38s 1s/step - mean_squared_error: 13.5128 - root_mean_squared_error: 3.6760 - mean_absolute_error: 3.5161 - factorized_top_k/top_1_categorical_accuracy: 0.0040 - factorized_top_k/top_5_categorical_accuracy: 0.0474 - factorized_top_k/top_10_categorical_accuracy: 0.1110 - factorized_top_k/top_50_categorical_accuracy: 0.4774 - factorized_top_k/top_100_categorical_accuracy: 0.6827 - loss: 5078.7667 - regularization_loss: 0.0000e+00 - total_loss: 5078.7667\n",
            "Epoch 40/50\n",
            "36/36 [==============================] - 40s 1s/step - mean_squared_error: 13.5120 - root_mean_squared_error: 3.6759 - mean_absolute_error: 3.5160 - factorized_top_k/top_1_categorical_accuracy: 0.0034 - factorized_top_k/top_5_categorical_accuracy: 0.0468 - factorized_top_k/top_10_categorical_accuracy: 0.1106 - factorized_top_k/top_50_categorical_accuracy: 0.4777 - factorized_top_k/top_100_categorical_accuracy: 0.6832 - loss: 5075.3933 - regularization_loss: 0.0000e+00 - total_loss: 5075.3933\n",
            "Epoch 41/50\n",
            "36/36 [==============================] - 36s 1s/step - mean_squared_error: 13.5113 - root_mean_squared_error: 3.6758 - mean_absolute_error: 3.5159 - factorized_top_k/top_1_categorical_accuracy: 0.0038 - factorized_top_k/top_5_categorical_accuracy: 0.0474 - factorized_top_k/top_10_categorical_accuracy: 0.1113 - factorized_top_k/top_50_categorical_accuracy: 0.4786 - factorized_top_k/top_100_categorical_accuracy: 0.6838 - loss: 5072.1725 - regularization_loss: 0.0000e+00 - total_loss: 5072.1725\n",
            "Epoch 42/50\n",
            "36/36 [==============================] - 36s 995ms/step - mean_squared_error: 13.5105 - root_mean_squared_error: 3.6757 - mean_absolute_error: 3.5157 - factorized_top_k/top_1_categorical_accuracy: 0.0035 - factorized_top_k/top_5_categorical_accuracy: 0.0470 - factorized_top_k/top_10_categorical_accuracy: 0.1113 - factorized_top_k/top_50_categorical_accuracy: 0.4784 - factorized_top_k/top_100_categorical_accuracy: 0.6839 - loss: 5069.0578 - regularization_loss: 0.0000e+00 - total_loss: 5069.0578\n",
            "Epoch 43/50\n",
            "36/36 [==============================] - 38s 1s/step - mean_squared_error: 13.5099 - root_mean_squared_error: 3.6756 - mean_absolute_error: 3.5156 - factorized_top_k/top_1_categorical_accuracy: 0.0038 - factorized_top_k/top_5_categorical_accuracy: 0.0477 - factorized_top_k/top_10_categorical_accuracy: 0.1121 - factorized_top_k/top_50_categorical_accuracy: 0.4794 - factorized_top_k/top_100_categorical_accuracy: 0.6844 - loss: 5066.0601 - regularization_loss: 0.0000e+00 - total_loss: 5066.0601\n",
            "Epoch 44/50\n",
            "36/36 [==============================] - 37s 1s/step - mean_squared_error: 13.5092 - root_mean_squared_error: 3.6755 - mean_absolute_error: 3.5155 - factorized_top_k/top_1_categorical_accuracy: 0.0035 - factorized_top_k/top_5_categorical_accuracy: 0.0471 - factorized_top_k/top_10_categorical_accuracy: 0.1115 - factorized_top_k/top_50_categorical_accuracy: 0.4794 - factorized_top_k/top_100_categorical_accuracy: 0.6845 - loss: 5063.1668 - regularization_loss: 0.0000e+00 - total_loss: 5063.1668\n",
            "Epoch 45/50\n",
            "36/36 [==============================] - 37s 1s/step - mean_squared_error: 13.5086 - root_mean_squared_error: 3.6754 - mean_absolute_error: 3.5154 - factorized_top_k/top_1_categorical_accuracy: 0.0039 - factorized_top_k/top_5_categorical_accuracy: 0.0480 - factorized_top_k/top_10_categorical_accuracy: 0.1125 - factorized_top_k/top_50_categorical_accuracy: 0.4803 - factorized_top_k/top_100_categorical_accuracy: 0.6852 - loss: 5060.3703 - regularization_loss: 0.0000e+00 - total_loss: 5060.3703\n",
            "Epoch 46/50\n",
            "36/36 [==============================] - 37s 1s/step - mean_squared_error: 13.5079 - root_mean_squared_error: 3.6753 - mean_absolute_error: 3.5153 - factorized_top_k/top_1_categorical_accuracy: 0.0036 - factorized_top_k/top_5_categorical_accuracy: 0.0473 - factorized_top_k/top_10_categorical_accuracy: 0.1119 - factorized_top_k/top_50_categorical_accuracy: 0.4802 - factorized_top_k/top_100_categorical_accuracy: 0.6856 - loss: 5057.6784 - regularization_loss: 0.0000e+00 - total_loss: 5057.6784\n",
            "Epoch 47/50\n",
            "36/36 [==============================] - 37s 1s/step - mean_squared_error: 13.5073 - root_mean_squared_error: 3.6752 - mean_absolute_error: 3.5152 - factorized_top_k/top_1_categorical_accuracy: 0.0039 - factorized_top_k/top_5_categorical_accuracy: 0.0483 - factorized_top_k/top_10_categorical_accuracy: 0.1128 - factorized_top_k/top_50_categorical_accuracy: 0.4814 - factorized_top_k/top_100_categorical_accuracy: 0.6860 - loss: 5055.0457 - regularization_loss: 0.0000e+00 - total_loss: 5055.0457\n",
            "Epoch 48/50\n",
            "36/36 [==============================] - 36s 1s/step - mean_squared_error: 13.5067 - root_mean_squared_error: 3.6751 - mean_absolute_error: 3.5151 - factorized_top_k/top_1_categorical_accuracy: 0.0036 - factorized_top_k/top_5_categorical_accuracy: 0.0478 - factorized_top_k/top_10_categorical_accuracy: 0.1123 - factorized_top_k/top_50_categorical_accuracy: 0.4810 - factorized_top_k/top_100_categorical_accuracy: 0.6862 - loss: 5052.5215 - regularization_loss: 0.0000e+00 - total_loss: 5052.5215\n",
            "Epoch 49/50\n",
            "36/36 [==============================] - 36s 1s/step - mean_squared_error: 13.5061 - root_mean_squared_error: 3.6751 - mean_absolute_error: 3.5150 - factorized_top_k/top_1_categorical_accuracy: 0.0037 - factorized_top_k/top_5_categorical_accuracy: 0.0484 - factorized_top_k/top_10_categorical_accuracy: 0.1130 - factorized_top_k/top_50_categorical_accuracy: 0.4817 - factorized_top_k/top_100_categorical_accuracy: 0.6866 - loss: 5050.0422 - regularization_loss: 0.0000e+00 - total_loss: 5050.0422\n",
            "Epoch 50/50\n",
            "36/36 [==============================] - 36s 1s/step - mean_squared_error: 13.5055 - root_mean_squared_error: 3.6750 - mean_absolute_error: 3.5149 - factorized_top_k/top_1_categorical_accuracy: 0.0038 - factorized_top_k/top_5_categorical_accuracy: 0.0480 - factorized_top_k/top_10_categorical_accuracy: 0.1128 - factorized_top_k/top_50_categorical_accuracy: 0.4817 - factorized_top_k/top_100_categorical_accuracy: 0.6867 - loss: 5047.6603 - regularization_loss: 0.0000e+00 - total_loss: 5047.6603\n"
          ]
        }
      ],
      "source": [
        "model = CollabModel(rating_w=1.0, retrieval_w=1.0, embedding_dim=64, L1_num=256, L2_num=128, L3_num=32, act_func=\"relu\")\n",
        "model.compile(optimizer=tf.keras.optimizers.Adagrad(0.2))\n",
        "\n",
        "train_ds_cache = train_ds.shuffle(10_000).batch(1_000).cache()\n",
        "test_ds_cache = test_ds.batch(1_000).cache()\n",
        "\n",
        "history = model.fit(train_ds_cache, epochs=50)"
      ]
    },
    {
      "cell_type": "code",
      "execution_count": null,
      "metadata": {},
      "outputs": [],
      "source": [
        "model.summary()"
      ]
    },
    {
      "cell_type": "code",
      "execution_count": 58,
      "metadata": {
        "id": "QQVKPP6X6rL7"
      },
      "outputs": [],
      "source": [
        "save_path = '../model/MRS_v2_e64_20_ep5.tf'\n",
        "model.save_weights(filepath=save_path, save_format='tf')"
      ]
    },
    {
      "attachments": {},
      "cell_type": "markdown",
      "metadata": {},
      "source": [
        "## 5. Model Evaluation"
      ]
    },
    {
      "attachments": {},
      "cell_type": "markdown",
      "metadata": {},
      "source": [
        "### retrieval_w = 1.0 rating_w = 1.0"
      ]
    },
    {
      "cell_type": "code",
      "execution_count": 6,
      "metadata": {
        "colab": {
          "base_uri": "https://localhost:8080/"
        },
        "id": "o4t4cn7j806A",
        "outputId": "8e48601b-2e19-47e7-b012-75692ab23183"
      },
      "outputs": [
        {
          "name": "stdout",
          "output_type": "stream",
          "text": [
            "9/9 [==============================] - 9s 855ms/step - mean_squared_error: 12.7441 - root_mean_squared_error: 3.5699 - mean_absolute_error: 3.4139 - factorized_top_k/top_1_categorical_accuracy: 1.1114e-04 - factorized_top_k/top_5_categorical_accuracy: 0.0026 - factorized_top_k/top_10_categorical_accuracy: 0.0062 - factorized_top_k/top_50_categorical_accuracy: 0.0277 - factorized_top_k/top_100_categorical_accuracy: 0.0547 - loss: 6959.1936 - regularization_loss: 0.0000e+00 - total_loss: 6959.1936\n"
          ]
        }
      ],
      "source": [
        "eval_metrics = model.evaluate(test_ds_cache, return_dict=True)"
      ]
    },
    {
      "cell_type": "code",
      "execution_count": 33,
      "metadata": {},
      "outputs": [
        {
          "data": {
            "text/html": [
              "<div>\n",
              "<style scoped>\n",
              "    .dataframe tbody tr th:only-of-type {\n",
              "        vertical-align: middle;\n",
              "    }\n",
              "\n",
              "    .dataframe tbody tr th {\n",
              "        vertical-align: top;\n",
              "    }\n",
              "\n",
              "    .dataframe thead th {\n",
              "        text-align: right;\n",
              "    }\n",
              "</style>\n",
              "<table border=\"1\" class=\"dataframe\">\n",
              "  <thead>\n",
              "    <tr style=\"text-align: right;\">\n",
              "      <th></th>\n",
              "      <th>Metrics</th>\n",
              "      <th>Value</th>\n",
              "    </tr>\n",
              "  </thead>\n",
              "  <tbody>\n",
              "    <tr>\n",
              "      <th>0</th>\n",
              "      <td>mean_squared_error</td>\n",
              "      <td>12.744113</td>\n",
              "    </tr>\n",
              "    <tr>\n",
              "      <th>1</th>\n",
              "      <td>root_mean_squared_error</td>\n",
              "      <td>3.569873</td>\n",
              "    </tr>\n",
              "    <tr>\n",
              "      <th>2</th>\n",
              "      <td>mean_absolute_error</td>\n",
              "      <td>3.413906</td>\n",
              "    </tr>\n",
              "    <tr>\n",
              "      <th>3</th>\n",
              "      <td>factorized_top_k/top_1_categorical_accuracy</td>\n",
              "      <td>0.000111</td>\n",
              "    </tr>\n",
              "    <tr>\n",
              "      <th>4</th>\n",
              "      <td>factorized_top_k/top_5_categorical_accuracy</td>\n",
              "      <td>0.002556</td>\n",
              "    </tr>\n",
              "    <tr>\n",
              "      <th>5</th>\n",
              "      <td>factorized_top_k/top_10_categorical_accuracy</td>\n",
              "      <td>0.006224</td>\n",
              "    </tr>\n",
              "    <tr>\n",
              "      <th>6</th>\n",
              "      <td>factorized_top_k/top_50_categorical_accuracy</td>\n",
              "      <td>0.027673</td>\n",
              "    </tr>\n",
              "    <tr>\n",
              "      <th>7</th>\n",
              "      <td>factorized_top_k/top_100_categorical_accuracy</td>\n",
              "      <td>0.054679</td>\n",
              "    </tr>\n",
              "    <tr>\n",
              "      <th>8</th>\n",
              "      <td>loss</td>\n",
              "      <td>6909.652832</td>\n",
              "    </tr>\n",
              "    <tr>\n",
              "      <th>9</th>\n",
              "      <td>regularization_loss</td>\n",
              "      <td>0.000000</td>\n",
              "    </tr>\n",
              "    <tr>\n",
              "      <th>10</th>\n",
              "      <td>total_loss</td>\n",
              "      <td>6909.652832</td>\n",
              "    </tr>\n",
              "  </tbody>\n",
              "</table>\n",
              "</div>"
            ],
            "text/plain": [
              "                                          Metrics        Value\n",
              "0                              mean_squared_error    12.744113\n",
              "1                         root_mean_squared_error     3.569873\n",
              "2                             mean_absolute_error     3.413906\n",
              "3     factorized_top_k/top_1_categorical_accuracy     0.000111\n",
              "4     factorized_top_k/top_5_categorical_accuracy     0.002556\n",
              "5    factorized_top_k/top_10_categorical_accuracy     0.006224\n",
              "6    factorized_top_k/top_50_categorical_accuracy     0.027673\n",
              "7   factorized_top_k/top_100_categorical_accuracy     0.054679\n",
              "8                                            loss  6909.652832\n",
              "9                             regularization_loss     0.000000\n",
              "10                                     total_loss  6909.652832"
            ]
          },
          "metadata": {},
          "output_type": "display_data"
        }
      ],
      "source": [
        "display(pd.DataFrame(eval_metrics.items(), columns=['Metrics', 'Value']))"
      ]
    },
    {
      "cell_type": "code",
      "execution_count": 10,
      "metadata": {},
      "outputs": [
        {
          "name": "stdout",
          "output_type": "stream",
          "text": [
            "top-100 accuracy: 0.054678816348314285\n",
            "RMSE: 3.569873332977295\n",
            "MAE: 3.413905620574951\n"
          ]
        }
      ],
      "source": [
        "top100acc = eval_metrics['factorized_top_k/top_100_categorical_accuracy']\n",
        "rmse_m = eval_metrics['root_mean_squared_error']\n",
        "mae_m = eval_metrics['mean_absolute_error']\n",
        "\n",
        "print(f\"top-100 accuracy:\", top100acc)\n",
        "print(f\"RMSE:\", rmse_m)\n",
        "print(f\"MAE:\", mae_m)"
      ]
    },
    {
      "attachments": {},
      "cell_type": "markdown",
      "metadata": {},
      "source": [
        "### retrieval_w = 1.0 rating_w = 0"
      ]
    },
    {
      "cell_type": "code",
      "execution_count": 11,
      "metadata": {},
      "outputs": [
        {
          "name": "stdout",
          "output_type": "stream",
          "text": [
            "Epoch 1/10\n",
            "36/36 [==============================] - 34s 917ms/step - mean_squared_error: 14.1705 - root_mean_squared_error: 3.7644 - mean_absolute_error: 3.6107 - factorized_top_k/top_1_categorical_accuracy: 2.2225e-04 - factorized_top_k/top_5_categorical_accuracy: 0.0051 - factorized_top_k/top_10_categorical_accuracy: 0.0143 - factorized_top_k/top_50_categorical_accuracy: 0.0944 - factorized_top_k/top_100_categorical_accuracy: 0.1687 - loss: 6769.9625 - regularization_loss: 0.0000e+00 - total_loss: 6769.9625\n",
            "Epoch 2/10\n",
            "36/36 [==============================] - 33s 904ms/step - mean_squared_error: 14.4294 - root_mean_squared_error: 3.7986 - mean_absolute_error: 3.6455 - factorized_top_k/top_1_categorical_accuracy: 2.7781e-04 - factorized_top_k/top_5_categorical_accuracy: 0.0128 - factorized_top_k/top_10_categorical_accuracy: 0.0342 - factorized_top_k/top_50_categorical_accuracy: 0.1866 - factorized_top_k/top_100_categorical_accuracy: 0.3149 - loss: 6306.9070 - regularization_loss: 0.0000e+00 - total_loss: 6306.9070\n",
            "Epoch 3/10\n",
            "36/36 [==============================] - 36s 989ms/step - mean_squared_error: 14.5808 - root_mean_squared_error: 3.8185 - mean_absolute_error: 3.6658 - factorized_top_k/top_1_categorical_accuracy: 1.9447e-04 - factorized_top_k/top_5_categorical_accuracy: 0.0176 - factorized_top_k/top_10_categorical_accuracy: 0.0516 - factorized_top_k/top_50_categorical_accuracy: 0.2643 - factorized_top_k/top_100_categorical_accuracy: 0.4045 - loss: 5979.7987 - regularization_loss: 0.0000e+00 - total_loss: 5979.7987\n",
            "Epoch 4/10\n",
            "36/36 [==============================] - 35s 973ms/step - mean_squared_error: 14.6816 - root_mean_squared_error: 3.8316 - mean_absolute_error: 3.6791 - factorized_top_k/top_1_categorical_accuracy: 7.7786e-04 - factorized_top_k/top_5_categorical_accuracy: 0.0291 - factorized_top_k/top_10_categorical_accuracy: 0.0720 - factorized_top_k/top_50_categorical_accuracy: 0.3098 - factorized_top_k/top_100_categorical_accuracy: 0.4561 - loss: 5760.9863 - regularization_loss: 0.0000e+00 - total_loss: 5760.9863\n",
            "Epoch 5/10\n",
            "36/36 [==============================] - 36s 990ms/step - mean_squared_error: 14.7502 - root_mean_squared_error: 3.8406 - mean_absolute_error: 3.6879 - factorized_top_k/top_1_categorical_accuracy: 0.0038 - factorized_top_k/top_5_categorical_accuracy: 0.0357 - factorized_top_k/top_10_categorical_accuracy: 0.0810 - factorized_top_k/top_50_categorical_accuracy: 0.3490 - factorized_top_k/top_100_categorical_accuracy: 0.5085 - loss: 5625.4367 - regularization_loss: 0.0000e+00 - total_loss: 5625.4367\n",
            "Epoch 6/10\n",
            "36/36 [==============================] - 37s 1s/step - mean_squared_error: 14.8047 - root_mean_squared_error: 3.8477 - mean_absolute_error: 3.6950 - factorized_top_k/top_1_categorical_accuracy: 0.0023 - factorized_top_k/top_5_categorical_accuracy: 0.0364 - factorized_top_k/top_10_categorical_accuracy: 0.0855 - factorized_top_k/top_50_categorical_accuracy: 0.3759 - factorized_top_k/top_100_categorical_accuracy: 0.5479 - loss: 5533.9709 - regularization_loss: 0.0000e+00 - total_loss: 5533.9709\n",
            "Epoch 7/10\n",
            "36/36 [==============================] - 37s 1s/step - mean_squared_error: 14.8482 - root_mean_squared_error: 3.8533 - mean_absolute_error: 3.7006 - factorized_top_k/top_1_categorical_accuracy: 0.0037 - factorized_top_k/top_5_categorical_accuracy: 0.0379 - factorized_top_k/top_10_categorical_accuracy: 0.0897 - factorized_top_k/top_50_categorical_accuracy: 0.3948 - factorized_top_k/top_100_categorical_accuracy: 0.5746 - loss: 5467.8667 - regularization_loss: 0.0000e+00 - total_loss: 5467.8667\n",
            "Epoch 8/10\n",
            "36/36 [==============================] - 40s 1s/step - mean_squared_error: 14.8855 - root_mean_squared_error: 3.8582 - mean_absolute_error: 3.7054 - factorized_top_k/top_1_categorical_accuracy: 0.0028 - factorized_top_k/top_5_categorical_accuracy: 0.0381 - factorized_top_k/top_10_categorical_accuracy: 0.0903 - factorized_top_k/top_50_categorical_accuracy: 0.4081 - factorized_top_k/top_100_categorical_accuracy: 0.5945 - loss: 5416.5949 - regularization_loss: 0.0000e+00 - total_loss: 5416.5949\n",
            "Epoch 9/10\n",
            "36/36 [==============================] - 39s 1s/step - mean_squared_error: 14.9167 - root_mean_squared_error: 3.8622 - mean_absolute_error: 3.7094 - factorized_top_k/top_1_categorical_accuracy: 0.0036 - factorized_top_k/top_5_categorical_accuracy: 0.0393 - factorized_top_k/top_10_categorical_accuracy: 0.0931 - factorized_top_k/top_50_categorical_accuracy: 0.4191 - factorized_top_k/top_100_categorical_accuracy: 0.6081 - loss: 5375.0588 - regularization_loss: 0.0000e+00 - total_loss: 5375.0588\n",
            "Epoch 10/10\n",
            "36/36 [==============================] - 39s 1s/step - mean_squared_error: 14.9438 - root_mean_squared_error: 3.8657 - mean_absolute_error: 3.7129 - factorized_top_k/top_1_categorical_accuracy: 0.0033 - factorized_top_k/top_5_categorical_accuracy: 0.0391 - factorized_top_k/top_10_categorical_accuracy: 0.0939 - factorized_top_k/top_50_categorical_accuracy: 0.4283 - factorized_top_k/top_100_categorical_accuracy: 0.6186 - loss: 5341.2684 - regularization_loss: 0.0000e+00 - total_loss: 5341.2684\n"
          ]
        }
      ],
      "source": [
        "model_retrieval = CollabModel(rating_w=0, retrieval_w=1.0, embedding_dim=64, L1_num=256, L2_num=128, L3_num=32, act_func=\"relu\")\n",
        "model_retrieval.compile(optimizer=tf.keras.optimizers.Adagrad(0.2))\n",
        "\n",
        "train_ds_cache = train_ds.shuffle(10_000).batch(1_000).cache()\n",
        "test_ds_cache = test_ds.batch(1_000).cache()\n",
        "\n",
        "history_retrieval = model_retrieval.fit(train_ds_cache, epochs=10)"
      ]
    },
    {
      "cell_type": "code",
      "execution_count": 12,
      "metadata": {},
      "outputs": [
        {
          "name": "stdout",
          "output_type": "stream",
          "text": [
            "9/9 [==============================] - 9s 827ms/step - mean_squared_error: 14.9505 - root_mean_squared_error: 3.8666 - mean_absolute_error: 3.7270 - factorized_top_k/top_1_categorical_accuracy: 0.0000e+00 - factorized_top_k/top_5_categorical_accuracy: 0.0026 - factorized_top_k/top_10_categorical_accuracy: 0.0054 - factorized_top_k/top_50_categorical_accuracy: 0.0250 - factorized_top_k/top_100_categorical_accuracy: 0.0506 - loss: 6950.9226 - regularization_loss: 0.0000e+00 - total_loss: 6950.9226\n"
          ]
        }
      ],
      "source": [
        "eval_metrics_retrieval = model_retrieval.evaluate(test_ds_cache, return_dict=True)"
      ]
    },
    {
      "cell_type": "code",
      "execution_count": 30,
      "metadata": {},
      "outputs": [
        {
          "data": {
            "text/html": [
              "<div>\n",
              "<style scoped>\n",
              "    .dataframe tbody tr th:only-of-type {\n",
              "        vertical-align: middle;\n",
              "    }\n",
              "\n",
              "    .dataframe tbody tr th {\n",
              "        vertical-align: top;\n",
              "    }\n",
              "\n",
              "    .dataframe thead th {\n",
              "        text-align: right;\n",
              "    }\n",
              "</style>\n",
              "<table border=\"1\" class=\"dataframe\">\n",
              "  <thead>\n",
              "    <tr style=\"text-align: right;\">\n",
              "      <th></th>\n",
              "      <th>Metrics</th>\n",
              "      <th>Value</th>\n",
              "    </tr>\n",
              "  </thead>\n",
              "  <tbody>\n",
              "    <tr>\n",
              "      <th>0</th>\n",
              "      <td>mean_squared_error</td>\n",
              "      <td>14.950477</td>\n",
              "    </tr>\n",
              "    <tr>\n",
              "      <th>1</th>\n",
              "      <td>root_mean_squared_error</td>\n",
              "      <td>3.866569</td>\n",
              "    </tr>\n",
              "    <tr>\n",
              "      <th>2</th>\n",
              "      <td>mean_absolute_error</td>\n",
              "      <td>3.727047</td>\n",
              "    </tr>\n",
              "    <tr>\n",
              "      <th>3</th>\n",
              "      <td>factorized_top_k/top_1_categorical_accuracy</td>\n",
              "      <td>0.000000</td>\n",
              "    </tr>\n",
              "    <tr>\n",
              "      <th>4</th>\n",
              "      <td>factorized_top_k/top_5_categorical_accuracy</td>\n",
              "      <td>0.002556</td>\n",
              "    </tr>\n",
              "    <tr>\n",
              "      <th>5</th>\n",
              "      <td>factorized_top_k/top_10_categorical_accuracy</td>\n",
              "      <td>0.005446</td>\n",
              "    </tr>\n",
              "    <tr>\n",
              "      <th>6</th>\n",
              "      <td>factorized_top_k/top_50_categorical_accuracy</td>\n",
              "      <td>0.025006</td>\n",
              "    </tr>\n",
              "    <tr>\n",
              "      <th>7</th>\n",
              "      <td>factorized_top_k/top_100_categorical_accuracy</td>\n",
              "      <td>0.050567</td>\n",
              "    </tr>\n",
              "    <tr>\n",
              "      <th>8</th>\n",
              "      <td>loss</td>\n",
              "      <td>6900.078613</td>\n",
              "    </tr>\n",
              "    <tr>\n",
              "      <th>9</th>\n",
              "      <td>regularization_loss</td>\n",
              "      <td>0.000000</td>\n",
              "    </tr>\n",
              "    <tr>\n",
              "      <th>10</th>\n",
              "      <td>total_loss</td>\n",
              "      <td>6900.078613</td>\n",
              "    </tr>\n",
              "  </tbody>\n",
              "</table>\n",
              "</div>"
            ],
            "text/plain": [
              "                                          Metrics        Value\n",
              "0                              mean_squared_error    14.950477\n",
              "1                         root_mean_squared_error     3.866569\n",
              "2                             mean_absolute_error     3.727047\n",
              "3     factorized_top_k/top_1_categorical_accuracy     0.000000\n",
              "4     factorized_top_k/top_5_categorical_accuracy     0.002556\n",
              "5    factorized_top_k/top_10_categorical_accuracy     0.005446\n",
              "6    factorized_top_k/top_50_categorical_accuracy     0.025006\n",
              "7   factorized_top_k/top_100_categorical_accuracy     0.050567\n",
              "8                                            loss  6900.078613\n",
              "9                             regularization_loss     0.000000\n",
              "10                                     total_loss  6900.078613"
            ]
          },
          "metadata": {},
          "output_type": "display_data"
        }
      ],
      "source": [
        "display(pd.DataFrame(eval_metrics_retrieval.items(), columns=['Metrics', 'Value']))"
      ]
    },
    {
      "cell_type": "code",
      "execution_count": 13,
      "metadata": {},
      "outputs": [
        {
          "name": "stdout",
          "output_type": "stream",
          "text": [
            "top-100 accuracy: 0.050566792488098145\n",
            "RMSE: 3.8665692806243896\n",
            "MAE: 3.7270469665527344\n"
          ]
        }
      ],
      "source": [
        "top100acc = eval_metrics_retrieval['factorized_top_k/top_100_categorical_accuracy']\n",
        "rmse_m = eval_metrics_retrieval['root_mean_squared_error']\n",
        "mae_m = eval_metrics_retrieval['mean_absolute_error']\n",
        "\n",
        "print(f\"top-100 accuracy:\", top100acc)\n",
        "print(f\"RMSE:\", rmse_m)\n",
        "print(f\"MAE:\", mae_m)"
      ]
    },
    {
      "attachments": {},
      "cell_type": "markdown",
      "metadata": {},
      "source": [
        "### retrieval_w = 0 rating_w = 1.0"
      ]
    },
    {
      "cell_type": "code",
      "execution_count": 14,
      "metadata": {},
      "outputs": [
        {
          "name": "stdout",
          "output_type": "stream",
          "text": [
            "Epoch 1/10\n",
            "36/36 [==============================] - 34s 902ms/step - mean_squared_error: 13.6827 - root_mean_squared_error: 3.6990 - mean_absolute_error: 3.5438 - factorized_top_k/top_1_categorical_accuracy: 2.7781e-05 - factorized_top_k/top_5_categorical_accuracy: 1.6669e-04 - factorized_top_k/top_10_categorical_accuracy: 2.2225e-04 - factorized_top_k/top_50_categorical_accuracy: 8.8899e-04 - factorized_top_k/top_100_categorical_accuracy: 0.0020 - loss: 13.7306 - regularization_loss: 0.0000e+00 - total_loss: 13.7306\n",
            "Epoch 2/10\n",
            "36/36 [==============================] - 37s 1s/step - mean_squared_error: 13.6827 - root_mean_squared_error: 3.6990 - mean_absolute_error: 3.5438 - factorized_top_k/top_1_categorical_accuracy: 2.7781e-05 - factorized_top_k/top_5_categorical_accuracy: 1.6669e-04 - factorized_top_k/top_10_categorical_accuracy: 2.2225e-04 - factorized_top_k/top_50_categorical_accuracy: 8.8899e-04 - factorized_top_k/top_100_categorical_accuracy: 0.0020 - loss: 13.7306 - regularization_loss: 0.0000e+00 - total_loss: 13.7306\n",
            "Epoch 3/10\n",
            "36/36 [==============================] - 36s 1s/step - mean_squared_error: 13.6827 - root_mean_squared_error: 3.6990 - mean_absolute_error: 3.5438 - factorized_top_k/top_1_categorical_accuracy: 2.7781e-05 - factorized_top_k/top_5_categorical_accuracy: 1.6669e-04 - factorized_top_k/top_10_categorical_accuracy: 2.2225e-04 - factorized_top_k/top_50_categorical_accuracy: 8.8899e-04 - factorized_top_k/top_100_categorical_accuracy: 0.0020 - loss: 13.7306 - regularization_loss: 0.0000e+00 - total_loss: 13.7306\n",
            "Epoch 4/10\n",
            "36/36 [==============================] - 36s 1s/step - mean_squared_error: 13.6827 - root_mean_squared_error: 3.6990 - mean_absolute_error: 3.5438 - factorized_top_k/top_1_categorical_accuracy: 2.7781e-05 - factorized_top_k/top_5_categorical_accuracy: 1.6669e-04 - factorized_top_k/top_10_categorical_accuracy: 2.2225e-04 - factorized_top_k/top_50_categorical_accuracy: 8.8899e-04 - factorized_top_k/top_100_categorical_accuracy: 0.0020 - loss: 13.7306 - regularization_loss: 0.0000e+00 - total_loss: 13.7306\n",
            "Epoch 5/10\n",
            "36/36 [==============================] - 37s 1s/step - mean_squared_error: 13.6827 - root_mean_squared_error: 3.6990 - mean_absolute_error: 3.5438 - factorized_top_k/top_1_categorical_accuracy: 2.7781e-05 - factorized_top_k/top_5_categorical_accuracy: 1.6669e-04 - factorized_top_k/top_10_categorical_accuracy: 2.2225e-04 - factorized_top_k/top_50_categorical_accuracy: 8.8899e-04 - factorized_top_k/top_100_categorical_accuracy: 0.0020 - loss: 13.7306 - regularization_loss: 0.0000e+00 - total_loss: 13.7306\n",
            "Epoch 6/10\n",
            "36/36 [==============================] - 39s 1s/step - mean_squared_error: 13.6827 - root_mean_squared_error: 3.6990 - mean_absolute_error: 3.5438 - factorized_top_k/top_1_categorical_accuracy: 2.7781e-05 - factorized_top_k/top_5_categorical_accuracy: 1.6669e-04 - factorized_top_k/top_10_categorical_accuracy: 2.2225e-04 - factorized_top_k/top_50_categorical_accuracy: 8.8899e-04 - factorized_top_k/top_100_categorical_accuracy: 0.0020 - loss: 13.7306 - regularization_loss: 0.0000e+00 - total_loss: 13.7306\n",
            "Epoch 7/10\n",
            "36/36 [==============================] - 37s 1s/step - mean_squared_error: 13.6827 - root_mean_squared_error: 3.6990 - mean_absolute_error: 3.5438 - factorized_top_k/top_1_categorical_accuracy: 2.7781e-05 - factorized_top_k/top_5_categorical_accuracy: 1.6669e-04 - factorized_top_k/top_10_categorical_accuracy: 2.2225e-04 - factorized_top_k/top_50_categorical_accuracy: 8.8899e-04 - factorized_top_k/top_100_categorical_accuracy: 0.0020 - loss: 13.7306 - regularization_loss: 0.0000e+00 - total_loss: 13.7306\n",
            "Epoch 8/10\n",
            "36/36 [==============================] - 40s 1s/step - mean_squared_error: 13.6827 - root_mean_squared_error: 3.6990 - mean_absolute_error: 3.5438 - factorized_top_k/top_1_categorical_accuracy: 2.7781e-05 - factorized_top_k/top_5_categorical_accuracy: 1.6669e-04 - factorized_top_k/top_10_categorical_accuracy: 2.2225e-04 - factorized_top_k/top_50_categorical_accuracy: 8.8899e-04 - factorized_top_k/top_100_categorical_accuracy: 0.0020 - loss: 13.7306 - regularization_loss: 0.0000e+00 - total_loss: 13.7306\n",
            "Epoch 9/10\n",
            "36/36 [==============================] - 38s 1s/step - mean_squared_error: 13.6827 - root_mean_squared_error: 3.6990 - mean_absolute_error: 3.5438 - factorized_top_k/top_1_categorical_accuracy: 2.7781e-05 - factorized_top_k/top_5_categorical_accuracy: 1.6669e-04 - factorized_top_k/top_10_categorical_accuracy: 2.2225e-04 - factorized_top_k/top_50_categorical_accuracy: 8.8899e-04 - factorized_top_k/top_100_categorical_accuracy: 0.0020 - loss: 13.7306 - regularization_loss: 0.0000e+00 - total_loss: 13.7306\n",
            "Epoch 10/10\n",
            "36/36 [==============================] - 40s 1s/step - mean_squared_error: 13.6827 - root_mean_squared_error: 3.6990 - mean_absolute_error: 3.5438 - factorized_top_k/top_1_categorical_accuracy: 2.7781e-05 - factorized_top_k/top_5_categorical_accuracy: 1.6669e-04 - factorized_top_k/top_10_categorical_accuracy: 2.2225e-04 - factorized_top_k/top_50_categorical_accuracy: 8.8899e-04 - factorized_top_k/top_100_categorical_accuracy: 0.0020 - loss: 13.7306 - regularization_loss: 0.0000e+00 - total_loss: 13.7306\n"
          ]
        }
      ],
      "source": [
        "model_rating = CollabModel(rating_w=1.0, retrieval_w=0, embedding_dim=64, L1_num=256, L2_num=128, L3_num=32, act_func=\"relu\")\n",
        "model_rating.compile(optimizer=tf.keras.optimizers.Adagrad(0.2))\n",
        "\n",
        "train_ds_cache = train_ds.shuffle(10_000).batch(1_000).cache()\n",
        "test_ds_cache = test_ds.batch(1_000).cache()\n",
        "\n",
        "history_rating = model_rating.fit(train_ds_cache, epochs=10)"
      ]
    },
    {
      "cell_type": "code",
      "execution_count": 15,
      "metadata": {},
      "outputs": [
        {
          "name": "stdout",
          "output_type": "stream",
          "text": [
            "9/9 [==============================] - 10s 899ms/step - mean_squared_error: 14.0987 - root_mean_squared_error: 3.7548 - mean_absolute_error: 3.6132 - factorized_top_k/top_1_categorical_accuracy: 0.0000e+00 - factorized_top_k/top_5_categorical_accuracy: 3.3341e-04 - factorized_top_k/top_10_categorical_accuracy: 5.5568e-04 - factorized_top_k/top_50_categorical_accuracy: 8.8909e-04 - factorized_top_k/top_100_categorical_accuracy: 0.0019 - loss: 14.0196 - regularization_loss: 0.0000e+00 - total_loss: 14.0196\n"
          ]
        }
      ],
      "source": [
        "eval_metrics_rating = model_rating.evaluate(test_ds_cache, return_dict=True)"
      ]
    },
    {
      "cell_type": "code",
      "execution_count": 31,
      "metadata": {},
      "outputs": [
        {
          "data": {
            "text/html": [
              "<div>\n",
              "<style scoped>\n",
              "    .dataframe tbody tr th:only-of-type {\n",
              "        vertical-align: middle;\n",
              "    }\n",
              "\n",
              "    .dataframe tbody tr th {\n",
              "        vertical-align: top;\n",
              "    }\n",
              "\n",
              "    .dataframe thead th {\n",
              "        text-align: right;\n",
              "    }\n",
              "</style>\n",
              "<table border=\"1\" class=\"dataframe\">\n",
              "  <thead>\n",
              "    <tr style=\"text-align: right;\">\n",
              "      <th></th>\n",
              "      <th>Metrics</th>\n",
              "      <th>Value</th>\n",
              "    </tr>\n",
              "  </thead>\n",
              "  <tbody>\n",
              "    <tr>\n",
              "      <th>0</th>\n",
              "      <td>mean_squared_error</td>\n",
              "      <td>14.098697</td>\n",
              "    </tr>\n",
              "    <tr>\n",
              "      <th>1</th>\n",
              "      <td>root_mean_squared_error</td>\n",
              "      <td>3.754806</td>\n",
              "    </tr>\n",
              "    <tr>\n",
              "      <th>2</th>\n",
              "      <td>mean_absolute_error</td>\n",
              "      <td>3.613183</td>\n",
              "    </tr>\n",
              "    <tr>\n",
              "      <th>3</th>\n",
              "      <td>factorized_top_k/top_1_categorical_accuracy</td>\n",
              "      <td>0.000000</td>\n",
              "    </tr>\n",
              "    <tr>\n",
              "      <th>4</th>\n",
              "      <td>factorized_top_k/top_5_categorical_accuracy</td>\n",
              "      <td>0.000333</td>\n",
              "    </tr>\n",
              "    <tr>\n",
              "      <th>5</th>\n",
              "      <td>factorized_top_k/top_10_categorical_accuracy</td>\n",
              "      <td>0.000556</td>\n",
              "    </tr>\n",
              "    <tr>\n",
              "      <th>6</th>\n",
              "      <td>factorized_top_k/top_50_categorical_accuracy</td>\n",
              "      <td>0.000889</td>\n",
              "    </tr>\n",
              "    <tr>\n",
              "      <th>7</th>\n",
              "      <td>factorized_top_k/top_100_categorical_accuracy</td>\n",
              "      <td>0.001889</td>\n",
              "    </tr>\n",
              "    <tr>\n",
              "      <th>8</th>\n",
              "      <td>loss</td>\n",
              "      <td>14.098697</td>\n",
              "    </tr>\n",
              "    <tr>\n",
              "      <th>9</th>\n",
              "      <td>regularization_loss</td>\n",
              "      <td>0.000000</td>\n",
              "    </tr>\n",
              "    <tr>\n",
              "      <th>10</th>\n",
              "      <td>total_loss</td>\n",
              "      <td>14.098697</td>\n",
              "    </tr>\n",
              "  </tbody>\n",
              "</table>\n",
              "</div>"
            ],
            "text/plain": [
              "                                          Metrics      Value\n",
              "0                              mean_squared_error  14.098697\n",
              "1                         root_mean_squared_error   3.754806\n",
              "2                             mean_absolute_error   3.613183\n",
              "3     factorized_top_k/top_1_categorical_accuracy   0.000000\n",
              "4     factorized_top_k/top_5_categorical_accuracy   0.000333\n",
              "5    factorized_top_k/top_10_categorical_accuracy   0.000556\n",
              "6    factorized_top_k/top_50_categorical_accuracy   0.000889\n",
              "7   factorized_top_k/top_100_categorical_accuracy   0.001889\n",
              "8                                            loss  14.098697\n",
              "9                             regularization_loss   0.000000\n",
              "10                                     total_loss  14.098697"
            ]
          },
          "metadata": {},
          "output_type": "display_data"
        }
      ],
      "source": [
        "display(pd.DataFrame(eval_metrics_rating.items(), columns=['Metrics', 'Value']))"
      ]
    },
    {
      "cell_type": "code",
      "execution_count": 16,
      "metadata": {},
      "outputs": [
        {
          "name": "stdout",
          "output_type": "stream",
          "text": [
            "top-100 accuracy: 0.0018893086817115545\n",
            "RMSE: 3.75480580329895\n",
            "MAE: 3.61318302154541\n"
          ]
        }
      ],
      "source": [
        "top100acc = eval_metrics_rating['factorized_top_k/top_100_categorical_accuracy']\n",
        "rmse_m = eval_metrics_rating['root_mean_squared_error']\n",
        "mae_m = eval_metrics_rating['mean_absolute_error']\n",
        "\n",
        "print(f\"top-100 accuracy:\", top100acc)\n",
        "print(f\"RMSE:\", rmse_m)\n",
        "print(f\"MAE:\", mae_m)"
      ]
    },
    {
      "attachments": {},
      "cell_type": "markdown",
      "metadata": {},
      "source": [
        "### Plotting train process"
      ]
    },
    {
      "cell_type": "code",
      "execution_count": null,
      "metadata": {},
      "outputs": [],
      "source": [
        "display(history.history)"
      ]
    },
    {
      "cell_type": "code",
      "execution_count": 48,
      "metadata": {},
      "outputs": [
        {
          "data": {
            "image/png": "[encoded data removed]",
            "text/plain": [
              "<Figure size 640x480 with 1 Axes>"
            ]
          },
          "metadata": {},
          "output_type": "display_data"
        }
      ],
      "source": [
        "plt.plot(history.history['root_mean_squared_error'])\n",
        "# plt.title('model accuracy')\n",
        "plt.ylabel('root_mean_squared_error')\n",
        "plt.xlabel('epoch')\n",
        "plt.legend(['train', 'val'], loc='upper left')\n",
        "plt.show()\n"
      ]
    },
    {
      "cell_type": "code",
      "execution_count": 47,
      "metadata": {},
      "outputs": [
        {
          "data": {
            "image/png": "[encoded data removed]",
            "text/plain": [
              "<Figure size 640x480 with 1 Axes>"
            ]
          },
          "metadata": {},
          "output_type": "display_data"
        }
      ],
      "source": [
        "plt.plot(history.history['factorized_top_k/top_100_categorical_accuracy'])\n",
        "plt.ylabel('top_100_categorical_accuracy')\n",
        "plt.xlabel('epoch')\n",
        "plt.legend(['train', 'val'], loc='upper left')\n",
        "plt.show()"
      ]
    },
    {
      "cell_type": "code",
      "execution_count": 45,
      "metadata": {},
      "outputs": [
        {
          "data": {
            "image/png": "[encoded data removed]",
            "text/plain": [
              "<Figure size 640x480 with 1 Axes>"
            ]
          },
          "metadata": {},
          "output_type": "display_data"
        }
      ],
      "source": [
        "plt.plot(history.history['factorized_top_k/top_5_categorical_accuracy'])\n",
        "plt.ylabel('top_5_categorical_accuracy')\n",
        "plt.xlabel('epoch')\n",
        "plt.legend(['train', 'val'], loc='upper left')\n",
        "plt.show()"
      ]
    },
    {
      "cell_type": "code",
      "execution_count": 46,
      "metadata": {},
      "outputs": [
        {
          "data": {
            "image/png": "[encoded data removed]",
            "text/plain": [
              "<Figure size 640x480 with 1 Axes>"
            ]
          },
          "metadata": {},
          "output_type": "display_data"
        }
      ],
      "source": [
        "plt.plot(history.history['mean_absolute_error'])\n",
        "plt.ylabel('mean_absolute_error')\n",
        "plt.xlabel('epoch')\n",
        "plt.legend(['train', 'val'], loc='upper left')\n",
        "plt.show()"
      ]
    },
    {
      "attachments": {},
      "cell_type": "markdown",
      "metadata": {},
      "source": [
        "## 6. Using the model"
      ]
    },
    {
      "cell_type": "code",
      "execution_count": 30,
      "metadata": {
        "id": "JAP7l4fd92-N"
      },
      "outputs": [],
      "source": [
        "movies = tf.data.Dataset.from_tensor_slices(dict(df_movies_cleaned[['original_title']]))\n",
        "movies = movies.map(lambda x: x[\"original_title\"])"
      ]
    },
    {
      "cell_type": "code",
      "execution_count": 31,
      "metadata": {
        "colab": {
          "base_uri": "https://localhost:8080/"
        },
        "id": "pdna8fl1827E",
        "outputId": "795a79e7-cbb3-46c2-b382-4329c1dfbaad"
      },
      "outputs": [
        {
          "data": {
            "text/plain": [
              "<tensorflow_recommenders.layers.factorized_top_k.BruteForce at 0x7f1acd755a60>"
            ]
          },
          "execution_count": 31,
          "metadata": {},
          "output_type": "execute_result"
        }
      ],
      "source": [
        "index = tfrs.layers.factorized_top_k.BruteForce(model.user_model)\n",
        "# recommends movies out of the entire movies dataset.\n",
        "index.index_from_dataset(\n",
        "  tf.data.Dataset.zip((movies.batch(100), movies.batch(100).map(model.movie_model)))\n",
        ")"
      ]
    },
    {
      "cell_type": "code",
      "execution_count": 32,
      "metadata": {
        "colab": {
          "base_uri": "https://localhost:8080/"
        },
        "id": "JSRtDxHF83Xo",
        "outputId": "9237d2f6-c9b7-4844-a0d4-1d1522853c4b"
      },
      "outputs": [
        {
          "data": {
            "text/plain": [
              "<tensorflow_recommenders.layers.factorized_top_k.BruteForce at 0x7f1acd69f8b0>"
            ]
          },
          "execution_count": 32,
          "metadata": {},
          "output_type": "execute_result"
        }
      ],
      "source": [
        "# Movie model index\n",
        "index_M = tfrs.layers.factorized_top_k.BruteForce(model.movie_model)\n",
        "# recommends movies out of the entire movies dataset.\n",
        "index_M.index_from_dataset(\n",
        "  tf.data.Dataset.zip((movies.batch(100), movies.batch(100).map(model.movie_model)))\n",
        ")"
      ]
    },
    {
      "cell_type": "code",
      "execution_count": 41,
      "metadata": {
        "id": "cZfIqKRh84jL"
      },
      "outputs": [],
      "source": [
        "# Recommendation function\n",
        "# [@usrID]: num string user id\n",
        "# [@showRating]: boolean to decide if showing rating.\n",
        "def get_recommend(usrID, showRating):\n",
        "  _, titles = index(tf.constant([usrID]))\n",
        "  pred_movies = pd.DataFrame({'original_title': [i.decode('utf-8') for i in titles[0,:5].numpy()]})\n",
        "  display(pred_movies)\n"
      ]
    },
    {
      "cell_type": "code",
      "execution_count": 34,
      "metadata": {
        "colab": {
          "base_uri": "https://localhost:8080/",
          "height": 206
        },
        "id": "Bfizt_Yf85_n",
        "outputId": "583e4d10-7eb4-4cbd-a9a7-370aac2baf61"
      },
      "outputs": [
        {
          "data": {
            "text/html": [
              "<div>\n",
              "<style scoped>\n",
              "    .dataframe tbody tr th:only-of-type {\n",
              "        vertical-align: middle;\n",
              "    }\n",
              "\n",
              "    .dataframe tbody tr th {\n",
              "        vertical-align: top;\n",
              "    }\n",
              "\n",
              "    .dataframe thead th {\n",
              "        text-align: right;\n",
              "    }\n",
              "</style>\n",
              "<table border=\"1\" class=\"dataframe\">\n",
              "  <thead>\n",
              "    <tr style=\"text-align: right;\">\n",
              "      <th></th>\n",
              "      <th>original_title</th>\n",
              "    </tr>\n",
              "  </thead>\n",
              "  <tbody>\n",
              "    <tr>\n",
              "      <th>0</th>\n",
              "      <td>Kurz und schmerzlos</td>\n",
              "    </tr>\n",
              "    <tr>\n",
              "      <th>1</th>\n",
              "      <td>The Wanderers</td>\n",
              "    </tr>\n",
              "    <tr>\n",
              "      <th>2</th>\n",
              "      <td>The Greatest Story Ever Told</td>\n",
              "    </tr>\n",
              "    <tr>\n",
              "      <th>3</th>\n",
              "      <td>La révolution française</td>\n",
              "    </tr>\n",
              "    <tr>\n",
              "      <th>4</th>\n",
              "      <td>Jezebel</td>\n",
              "    </tr>\n",
              "  </tbody>\n",
              "</table>\n",
              "</div>"
            ],
            "text/plain": [
              "                 original_title\n",
              "0           Kurz und schmerzlos\n",
              "1                 The Wanderers\n",
              "2  The Greatest Story Ever Told\n",
              "3       La révolution française\n",
              "4                       Jezebel"
            ]
          },
          "metadata": {},
          "output_type": "display_data"
        }
      ],
      "source": [
        "get_recommend('123', False)"
      ]
    },
    {
      "cell_type": "code",
      "execution_count": 39,
      "metadata": {
        "id": "2SPIeoIl87Wx"
      },
      "outputs": [],
      "source": [
        "# Recommendation function\n",
        "# [@usrID]: num string user id\n",
        "# [@showRating]: boolean to decide if showing rating.\n",
        "def M_get_recommend(movie_titles, showRating):\n",
        "  _, titles = index_M(tf.constant([movie_titles]))\n",
        "  pred_movies = pd.DataFrame({'original_title': [i.decode('utf-8') for i in titles[0,:5].numpy()]})\n",
        "  display(pred_movies)"
      ]
    },
    {
      "cell_type": "code",
      "execution_count": 40,
      "metadata": {
        "colab": {
          "base_uri": "https://localhost:8080/",
          "height": 206
        },
        "id": "POBWBZ4888iJ",
        "outputId": "47ed6ad3-e56b-4197-87b9-565401a2702b"
      },
      "outputs": [
        {
          "data": {
            "text/html": [
              "<div>\n",
              "<style scoped>\n",
              "    .dataframe tbody tr th:only-of-type {\n",
              "        vertical-align: middle;\n",
              "    }\n",
              "\n",
              "    .dataframe tbody tr th {\n",
              "        vertical-align: top;\n",
              "    }\n",
              "\n",
              "    .dataframe thead th {\n",
              "        text-align: right;\n",
              "    }\n",
              "</style>\n",
              "<table border=\"1\" class=\"dataframe\">\n",
              "  <thead>\n",
              "    <tr style=\"text-align: right;\">\n",
              "      <th></th>\n",
              "      <th>original_title</th>\n",
              "    </tr>\n",
              "  </thead>\n",
              "  <tbody>\n",
              "    <tr>\n",
              "      <th>0</th>\n",
              "      <td>Rocky III</td>\n",
              "    </tr>\n",
              "    <tr>\n",
              "      <th>1</th>\n",
              "      <td>Rocky V</td>\n",
              "    </tr>\n",
              "    <tr>\n",
              "      <th>2</th>\n",
              "      <td>Sweet Sixteen</td>\n",
              "    </tr>\n",
              "    <tr>\n",
              "      <th>3</th>\n",
              "      <td>The Discovery of Heaven</td>\n",
              "    </tr>\n",
              "    <tr>\n",
              "      <th>4</th>\n",
              "      <td>Rocky IV</td>\n",
              "    </tr>\n",
              "  </tbody>\n",
              "</table>\n",
              "</div>"
            ],
            "text/plain": [
              "            original_title\n",
              "0                Rocky III\n",
              "1                  Rocky V\n",
              "2            Sweet Sixteen\n",
              "3  The Discovery of Heaven\n",
              "4                 Rocky IV"
            ]
          },
          "metadata": {},
          "output_type": "display_data"
        }
      ],
      "source": [
        "M_get_recommend('Rocky III', False)"
      ]
    }
  ],
  "metadata": {
    "colab": {
      "provenance": []
    },
    "kernelspec": {
      "display_name": "Python 3",
      "name": "python3"
    },
    "language_info": {
      "codemirror_mode": {
        "name": "ipython",
        "version": 3
      },
      "file_extension": ".py",
      "mimetype": "text/x-python",
      "name": "python",
      "nbconvert_exporter": "python",
      "pygments_lexer": "ipython3",
      "version": "3.9.16"
    }
  },
  "nbformat": 4,
  "nbformat_minor": 0
}
