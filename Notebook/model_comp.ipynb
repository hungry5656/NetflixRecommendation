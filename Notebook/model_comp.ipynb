{
  "cells": [
    {
      "attachments": {},
      "cell_type": "markdown",
      "metadata": {
        "id": "3PgRD3bU5-0-"
      },
      "source": [
        "# Netflix Recommendation System Comparison\n"
      ]
    },
    {
      "attachments": {},
      "cell_type": "markdown",
      "metadata": {
        "id": "HQdmJZKV6ON5"
      },
      "source": [
        "## 1.Library import"
      ]
    },
    {
      "cell_type": "code",
      "execution_count": 2,
      "metadata": {
        "id": "FdPZbruc4XHr"
      },
      "outputs": [],
      "source": [
        "\n",
        "\n",
        "import os\n",
        "import logging\n",
        "os.environ['TF_CPP_MIN_LOG_LEVEL'] = '3'\n",
        "\n",
        "# from wordcloud import WordCloud\n",
        "import random\n",
        "import pandas as pd\n",
        "import numpy as np\n",
        "import tensorflow as tf\n",
        "import tensorflow_recommenders as tfrs\n",
        "from tensorflow.keras.metrics import MeanAbsoluteError, RootMeanSquaredError, MeanSquaredError\n",
        "import sklearn\n",
        "from matplotlib import pyplot as plt\n",
        "from typing import Dict, Text\n",
        "\n",
        "tf.get_logger().setLevel('ERROR')\n",
        "# tf.logging.set_verbosity(tf.logging.ERROR)\n",
        "logging.getLogger('tensorflow').setLevel(logging.FATAL)\n",
        "\n"
      ]
    },
    {
      "attachments": {},
      "cell_type": "markdown",
      "metadata": {
        "id": "dCaFOCTs6UYf"
      },
      "source": [
        "## 2. Data Preprocessing"
      ]
    },
    {
      "cell_type": "code",
      "execution_count": 4,
      "metadata": {
        "colab": {
          "base_uri": "https://localhost:8080/",
          "height": 1000
        },
        "id": "-C2JNf7w4ZvJ",
        "outputId": "2896bdf3-1d3b-4867-9b4e-55aa2ca975a3"
      },
      "outputs": [
        {
          "name": "stderr",
          "output_type": "stream",
          "text": [
            "/tmp/ipykernel_193093/480806534.py:4: DtypeWarning: Columns (10) have mixed types. Specify dtype option on import or set low_memory=False.\n",
            "  df_movies = pd.read_csv(movies_path).drop([19730, 29503, 35587])\n"
          ]
        },
        {
          "data": {
            "text/html": [
              "<div>\n",
              "<style scoped>\n",
              "    .dataframe tbody tr th:only-of-type {\n",
              "        vertical-align: middle;\n",
              "    }\n",
              "\n",
              "    .dataframe tbody tr th {\n",
              "        vertical-align: top;\n",
              "    }\n",
              "\n",
              "    .dataframe thead th {\n",
              "        text-align: right;\n",
              "    }\n",
              "</style>\n",
              "<table border=\"1\" class=\"dataframe\">\n",
              "  <thead>\n",
              "    <tr style=\"text-align: right;\">\n",
              "      <th></th>\n",
              "      <th>id</th>\n",
              "      <th>original_title</th>\n",
              "    </tr>\n",
              "  </thead>\n",
              "  <tbody>\n",
              "    <tr>\n",
              "      <th>0</th>\n",
              "      <td>862</td>\n",
              "      <td>Toy Story</td>\n",
              "    </tr>\n",
              "    <tr>\n",
              "      <th>1</th>\n",
              "      <td>8844</td>\n",
              "      <td>Jumanji</td>\n",
              "    </tr>\n",
              "    <tr>\n",
              "      <th>2</th>\n",
              "      <td>15602</td>\n",
              "      <td>Grumpier Old Men</td>\n",
              "    </tr>\n",
              "    <tr>\n",
              "      <th>3</th>\n",
              "      <td>31357</td>\n",
              "      <td>Waiting to Exhale</td>\n",
              "    </tr>\n",
              "    <tr>\n",
              "      <th>4</th>\n",
              "      <td>11862</td>\n",
              "      <td>Father of the Bride Part II</td>\n",
              "    </tr>\n",
              "  </tbody>\n",
              "</table>\n",
              "</div>"
            ],
            "text/plain": [
              "      id               original_title\n",
              "0    862                    Toy Story\n",
              "1   8844                      Jumanji\n",
              "2  15602             Grumpier Old Men\n",
              "3  31357            Waiting to Exhale\n",
              "4  11862  Father of the Bride Part II"
            ]
          },
          "metadata": {},
          "output_type": "display_data"
        },
        {
          "data": {
            "text/html": [
              "<div>\n",
              "<style scoped>\n",
              "    .dataframe tbody tr th:only-of-type {\n",
              "        vertical-align: middle;\n",
              "    }\n",
              "\n",
              "    .dataframe tbody tr th {\n",
              "        vertical-align: top;\n",
              "    }\n",
              "\n",
              "    .dataframe thead th {\n",
              "        text-align: right;\n",
              "    }\n",
              "</style>\n",
              "<table border=\"1\" class=\"dataframe\">\n",
              "  <thead>\n",
              "    <tr style=\"text-align: right;\">\n",
              "      <th></th>\n",
              "      <th>movieId</th>\n",
              "      <th>userId</th>\n",
              "      <th>rating</th>\n",
              "    </tr>\n",
              "  </thead>\n",
              "  <tbody>\n",
              "    <tr>\n",
              "      <th>0</th>\n",
              "      <td>31</td>\n",
              "      <td>1</td>\n",
              "      <td>2.5</td>\n",
              "    </tr>\n",
              "    <tr>\n",
              "      <th>1</th>\n",
              "      <td>1029</td>\n",
              "      <td>1</td>\n",
              "      <td>3.0</td>\n",
              "    </tr>\n",
              "    <tr>\n",
              "      <th>2</th>\n",
              "      <td>1061</td>\n",
              "      <td>1</td>\n",
              "      <td>3.0</td>\n",
              "    </tr>\n",
              "    <tr>\n",
              "      <th>3</th>\n",
              "      <td>1129</td>\n",
              "      <td>1</td>\n",
              "      <td>2.0</td>\n",
              "    </tr>\n",
              "    <tr>\n",
              "      <th>4</th>\n",
              "      <td>1172</td>\n",
              "      <td>1</td>\n",
              "      <td>4.0</td>\n",
              "    </tr>\n",
              "  </tbody>\n",
              "</table>\n",
              "</div>"
            ],
            "text/plain": [
              "   movieId  userId  rating\n",
              "0       31       1     2.5\n",
              "1     1029       1     3.0\n",
              "2     1061       1     3.0\n",
              "3     1129       1     2.0\n",
              "4     1172       1     4.0"
            ]
          },
          "metadata": {},
          "output_type": "display_data"
        },
        {
          "name": "stderr",
          "output_type": "stream",
          "text": [
            "/tmp/ipykernel_193093/480806534.py:11: SettingWithCopyWarning: \n",
            "A value is trying to be set on a copy of a slice from a DataFrame.\n",
            "Try using .loc[row_indexer,col_indexer] = value instead\n",
            "\n",
            "See the caveats in the documentation: https://pandas.pydata.org/pandas-docs/stable/user_guide/indexing.html#returning-a-view-versus-a-copy\n",
            "  df_movies_cleaned['id'] = df_movies_cleaned['id'].astype('int64')\n",
            "/tmp/ipykernel_193093/480806534.py:13: SettingWithCopyWarning: \n",
            "A value is trying to be set on a copy of a slice from a DataFrame.\n",
            "Try using .loc[row_indexer,col_indexer] = value instead\n",
            "\n",
            "See the caveats in the documentation: https://pandas.pydata.org/pandas-docs/stable/user_guide/indexing.html#returning-a-view-versus-a-copy\n",
            "  df_movies_cleaned.loc[:, 'id'] = pd.to_numeric(df_movies_cleaned['id'], errors='coerce').astype('Int64')\n",
            "/tmp/ipykernel_193093/480806534.py:13: DeprecationWarning: In a future version, `df.iloc[:, i] = newvals` will attempt to set the values inplace instead of always setting a new array. To retain the old behavior, use either `df[df.columns[i]] = newvals` or, if columns are non-unique, `df.isetitem(i, newvals)`\n",
            "  df_movies_cleaned.loc[:, 'id'] = pd.to_numeric(df_movies_cleaned['id'], errors='coerce').astype('Int64')\n"
          ]
        },
        {
          "data": {
            "text/html": [
              "<div>\n",
              "<style scoped>\n",
              "    .dataframe tbody tr th:only-of-type {\n",
              "        vertical-align: middle;\n",
              "    }\n",
              "\n",
              "    .dataframe tbody tr th {\n",
              "        vertical-align: top;\n",
              "    }\n",
              "\n",
              "    .dataframe thead th {\n",
              "        text-align: right;\n",
              "    }\n",
              "</style>\n",
              "<table border=\"1\" class=\"dataframe\">\n",
              "  <thead>\n",
              "    <tr style=\"text-align: right;\">\n",
              "      <th></th>\n",
              "      <th>id</th>\n",
              "      <th>original_title</th>\n",
              "    </tr>\n",
              "  </thead>\n",
              "  <tbody>\n",
              "    <tr>\n",
              "      <th>0</th>\n",
              "      <td>862</td>\n",
              "      <td>Toy Story</td>\n",
              "    </tr>\n",
              "    <tr>\n",
              "      <th>1</th>\n",
              "      <td>8844</td>\n",
              "      <td>Jumanji</td>\n",
              "    </tr>\n",
              "    <tr>\n",
              "      <th>2</th>\n",
              "      <td>15602</td>\n",
              "      <td>Grumpier Old Men</td>\n",
              "    </tr>\n",
              "    <tr>\n",
              "      <th>3</th>\n",
              "      <td>31357</td>\n",
              "      <td>Waiting to Exhale</td>\n",
              "    </tr>\n",
              "    <tr>\n",
              "      <th>4</th>\n",
              "      <td>11862</td>\n",
              "      <td>Father of the Bride Part II</td>\n",
              "    </tr>\n",
              "  </tbody>\n",
              "</table>\n",
              "</div>"
            ],
            "text/plain": [
              "      id               original_title\n",
              "0    862                    Toy Story\n",
              "1   8844                      Jumanji\n",
              "2  15602             Grumpier Old Men\n",
              "3  31357            Waiting to Exhale\n",
              "4  11862  Father of the Bride Part II"
            ]
          },
          "metadata": {},
          "output_type": "display_data"
        },
        {
          "data": {
            "text/plain": [
              "count         44994.0\n",
              "mean      6010.754901\n",
              "std      15918.243916\n",
              "min               2.0\n",
              "25%             500.0\n",
              "50%            1394.0\n",
              "75%            2805.0\n",
              "max          160718.0\n",
              "Name: id, dtype: Float64"
            ]
          },
          "metadata": {},
          "output_type": "display_data"
        },
        {
          "data": {
            "text/html": [
              "<div>\n",
              "<style scoped>\n",
              "    .dataframe tbody tr th:only-of-type {\n",
              "        vertical-align: middle;\n",
              "    }\n",
              "\n",
              "    .dataframe tbody tr th {\n",
              "        vertical-align: top;\n",
              "    }\n",
              "\n",
              "    .dataframe thead th {\n",
              "        text-align: right;\n",
              "    }\n",
              "</style>\n",
              "<table border=\"1\" class=\"dataframe\">\n",
              "  <thead>\n",
              "    <tr style=\"text-align: right;\">\n",
              "      <th></th>\n",
              "      <th>userId</th>\n",
              "      <th>rating</th>\n",
              "      <th>id</th>\n",
              "      <th>original_title</th>\n",
              "    </tr>\n",
              "  </thead>\n",
              "  <tbody>\n",
              "    <tr>\n",
              "      <th>0</th>\n",
              "      <td>1</td>\n",
              "      <td>2.5</td>\n",
              "      <td>1371</td>\n",
              "      <td>Rocky III</td>\n",
              "    </tr>\n",
              "    <tr>\n",
              "      <th>1</th>\n",
              "      <td>1</td>\n",
              "      <td>1.0</td>\n",
              "      <td>1405</td>\n",
              "      <td>Greed</td>\n",
              "    </tr>\n",
              "    <tr>\n",
              "      <th>2</th>\n",
              "      <td>1</td>\n",
              "      <td>4.0</td>\n",
              "      <td>2105</td>\n",
              "      <td>American Pie</td>\n",
              "    </tr>\n",
              "    <tr>\n",
              "      <th>3</th>\n",
              "      <td>1</td>\n",
              "      <td>2.0</td>\n",
              "      <td>2193</td>\n",
              "      <td>My Tutor</td>\n",
              "    </tr>\n",
              "    <tr>\n",
              "      <th>4</th>\n",
              "      <td>1</td>\n",
              "      <td>2.0</td>\n",
              "      <td>2294</td>\n",
              "      <td>Jay and Silent Bob Strike Back</td>\n",
              "    </tr>\n",
              "  </tbody>\n",
              "</table>\n",
              "</div>"
            ],
            "text/plain": [
              "   userId  rating    id                  original_title\n",
              "0       1     2.5  1371                       Rocky III\n",
              "1       1     1.0  1405                           Greed\n",
              "2       1     4.0  2105                    American Pie\n",
              "3       1     2.0  2193                        My Tutor\n",
              "4       1     2.0  2294  Jay and Silent Bob Strike Back"
            ]
          },
          "metadata": {},
          "output_type": "display_data"
        }
      ],
      "source": [
        "movies_path = '../dataset/movies_metadata.csv'\n",
        "rating_path = '../dataset/ratings_small.csv'\n",
        "\n",
        "df_movies = pd.read_csv(movies_path).drop([19730, 29503, 35587])\n",
        "df_rating = pd.read_csv(rating_path)\n",
        "\n",
        "df_movies_cleaned = df_movies[['id', 'original_title']]\n",
        "df_rating_cleaned = df_rating[['movieId', 'userId', 'rating']]\n",
        "display(df_movies_cleaned.head(5))\n",
        "display(df_rating_cleaned.head(5))\n",
        "df_movies_cleaned['id'] = df_movies_cleaned['id'].astype('int64')\n",
        "\n",
        "df_movies_cleaned.loc[:, 'id'] = pd.to_numeric(df_movies_cleaned['id'], errors='coerce').astype('Int64')\n",
        "df_movies_cleaned = df_movies_cleaned.dropna(subset=['id']) # remove any line with NaN\n",
        "display(df_movies_cleaned.head(5))\n",
        "\n",
        "merged_dataset = pd.merge(df_rating_cleaned, df_movies_cleaned[['id', 'original_title']], left_on='movieId', right_on='id', how='left')\n",
        "\n",
        "merged_dataset = merged_dataset[~merged_dataset['id'].isna()]\n",
        "merged_dataset.dropna(inplace=True)\n",
        "merged_dataset.drop('movieId', axis=1, inplace=True)\n",
        "display(merged_dataset['id'].describe())\n",
        "dataset_size = merged_dataset.shape[0] # count final size for dataset\n",
        "\n",
        "merged_dataset.reset_index(drop=True, inplace=True)\n",
        "\n",
        "display(merged_dataset.head())\n",
        "\n",
        "df_movies_cleaned = df_movies_cleaned[~df_movies_cleaned['original_title'].duplicated()]\n",
        "df_movies_cleaned['original_title'].head()\n",
        "\n",
        "merged_dataset['userId'] = merged_dataset['userId'].astype(str)\n",
        "# df_movies_cleaned['original_title'] = df_movies_cleaned['original_title'].astype(str)\n",
        "\n",
        "rating_dict = dict(merged_dataset[['userId', 'original_title', 'rating']])\n",
        "movies_dict = dict(df_movies_cleaned[['original_title']])\n",
        "\n",
        "# Transfer to tf.tensor_slice\n",
        "ratings_tf = tf.data.Dataset.from_tensor_slices(rating_dict)\n",
        "movies_tf = tf.data.Dataset.from_tensor_slices(movies_dict)\n",
        "\n",
        "movies_tf = movies_tf.map(lambda x: x[\"original_title\"])\n",
        "\n",
        "ratings_tf = ratings_tf.map(lambda x: {\n",
        "    \"original_title\": x[\"original_title\"],\n",
        "    \"rating\": float(x[\"rating\"]),\n",
        "    \"userId\": x[\"userId\"]\n",
        "})\n",
        "\n",
        "def slice_df_data(data_tf, total_size, test_rate=0.2):\n",
        "    test_size = int(total_size * test_rate)\n",
        "    train_size = total_size - test_size\n",
        "    return data_tf.take(train_size), data_tf.skip(train_size).take(test_size)\n",
        "\n",
        "train_ds, test_ds = slice_df_data(ratings_tf, dataset_size)\n",
        "usrID_lookup = np.unique(np.concatenate([merged_dataset['userId'].to_numpy()]))\n",
        "title_lookup = np.unique(np.concatenate([df_movies_cleaned['original_title']]))"
      ]
    },
    {
      "attachments": {},
      "cell_type": "markdown",
      "metadata": {
        "id": "moyzn_176fzZ"
      },
      "source": [
        "## 3. Model construction"
      ]
    },
    {
      "cell_type": "code",
      "execution_count": 6,
      "metadata": {
        "id": "QLSqClvp6gYP"
      },
      "outputs": [],
      "source": [
        "# customized model for collaborative-based system\n",
        "class CollabModel(tfrs.models.Model):\n",
        "  def __init__(self, rating_w, retrieval_w, embedding_dim=64, L1_num=256, L2_num=128, L3_num=32, act_func=\"relu\") -> None:\n",
        "    super().__init__()\n",
        "    embedding_dim = embedding_dim # number of dimension for embedding\n",
        "\n",
        "    self.movie_model: tf.keras.layers.Layer = tf.keras.Sequential([\n",
        "      tf.keras.layers.StringLookup(\n",
        "        vocabulary=title_lookup, mask_token=None),\n",
        "      tf.keras.layers.Embedding(len(title_lookup) + 1, embedding_dim)\n",
        "    ])\n",
        "    self.user_model: tf.keras.layers.Layer = tf.keras.Sequential([\n",
        "      tf.keras.layers.StringLookup(\n",
        "        vocabulary=usrID_lookup, mask_token=None),\n",
        "      tf.keras.layers.Embedding(len(usrID_lookup) + 1, embedding_dim)\n",
        "    ])\n",
        "    self.rating_model = tf.keras.Sequential([\n",
        "        tf.keras.layers.Dense(L1_num, activation=act_func), # first layer\n",
        "        tf.keras.layers.Dense(L2_num, activation=act_func), # second layer\n",
        "        tf.keras.layers.Dense(L3_num, activation=act_func),# third layer\n",
        "        tf.keras.layers.Dense(1), # output layer\n",
        "    ])\n",
        "\n",
        "    self.rating_eval: tf.keras.layers.Layer = tfrs.tasks.Ranking(\n",
        "        loss = MeanSquaredError(),\n",
        "        metrics = [RootMeanSquaredError(), MeanAbsoluteError()],\n",
        "    )\n",
        "    self.retrieval_eval: tf.keras.layers.Layer = tfrs.tasks.Retrieval(\n",
        "        metrics=tfrs.metrics.FactorizedTopK(\n",
        "            candidates=movies_tf.batch(128).map(self.movie_model)\n",
        "        )\n",
        "    )\n",
        "\n",
        "    self.rating_weight = rating_w\n",
        "    self.retrieval_weight = retrieval_w\n",
        "\n",
        "  # overloading call function\n",
        "  def call(self, features: Dict[Text, tf.Tensor]) -> tf.Tensor:\n",
        "    user_embeddings = self.user_model(features[\"userId\"])\n",
        "    movie_embeddings = self.movie_model(features[\"original_title\"])\n",
        "    \n",
        "    return (\n",
        "        user_embeddings,\n",
        "        movie_embeddings,\n",
        "        self.rating_model(\n",
        "            tf.concat([user_embeddings, movie_embeddings], axis=1)\n",
        "        ),\n",
        "    )\n",
        "\n",
        "  # overloading compute_loss function\n",
        "  def compute_loss(self, features: Dict[Text, tf.Tensor], training=False) -> tf.Tensor: \n",
        "    label_r = features.pop(\"rating\")\n",
        "    user_embeddings, movie_embeddings, rating_pred = self(features)\n",
        "    rating_loss = self.rating_eval(labels=label_r, predictions=rating_pred)\n",
        "    retrieval_loss = self.retrieval_eval(user_embeddings, movie_embeddings)\n",
        "\n",
        "    return (self.rating_weight * rating_loss\n",
        "            + self.retrieval_weight * retrieval_loss)"
      ]
    },
    {
      "attachments": {},
      "cell_type": "markdown",
      "metadata": {
        "id": "awfSm8ju6lwj"
      },
      "source": [
        "## 4. Model training"
      ]
    },
    {
      "cell_type": "code",
      "execution_count": 18,
      "metadata": {
        "colab": {
          "base_uri": "https://localhost:8080/"
        },
        "id": "fGL3tKTr6mRs",
        "outputId": "d81be200-d7c9-4dad-ca7d-56388a38a474"
      },
      "outputs": [
        {
          "name": "stdout",
          "output_type": "stream",
          "text": [
            "Epoch 1/10\n",
            "36/36 [==============================] - 31s 833ms/step - mean_squared_error: 13.7927 - root_mean_squared_error: 3.7139 - mean_absolute_error: 3.5578 - factorized_top_k/top_1_categorical_accuracy: 3.3337e-04 - factorized_top_k/top_5_categorical_accuracy: 0.0056 - factorized_top_k/top_10_categorical_accuracy: 0.0147 - factorized_top_k/top_50_categorical_accuracy: 0.0938 - factorized_top_k/top_100_categorical_accuracy: 0.1733 - loss: 6783.9349 - regularization_loss: 0.0000e+00 - total_loss: 6783.9349\n",
            "Epoch 2/10\n",
            "36/36 [==============================] - 32s 886ms/step - mean_squared_error: 13.8271 - root_mean_squared_error: 3.7185 - mean_absolute_error: 3.5615 - factorized_top_k/top_1_categorical_accuracy: 4.1671e-04 - factorized_top_k/top_5_categorical_accuracy: 0.0126 - factorized_top_k/top_10_categorical_accuracy: 0.0329 - factorized_top_k/top_50_categorical_accuracy: 0.1874 - factorized_top_k/top_100_categorical_accuracy: 0.3151 - loss: 6325.9913 - regularization_loss: 0.0000e+00 - total_loss: 6325.9913\n",
            "Epoch 3/10\n",
            "36/36 [==============================] - 33s 909ms/step - mean_squared_error: 13.8243 - root_mean_squared_error: 3.7181 - mean_absolute_error: 3.5609 - factorized_top_k/top_1_categorical_accuracy: 3.0559e-04 - factorized_top_k/top_5_categorical_accuracy: 0.0176 - factorized_top_k/top_10_categorical_accuracy: 0.0508 - factorized_top_k/top_50_categorical_accuracy: 0.2622 - factorized_top_k/top_100_categorical_accuracy: 0.4018 - loss: 5998.5162 - regularization_loss: 0.0000e+00 - total_loss: 5998.5162\n",
            "Epoch 4/10\n",
            "36/36 [==============================] - 34s 955ms/step - mean_squared_error: 13.8126 - root_mean_squared_error: 3.7165 - mean_absolute_error: 3.5590 - factorized_top_k/top_1_categorical_accuracy: 9.7233e-04 - factorized_top_k/top_5_categorical_accuracy: 0.0294 - factorized_top_k/top_10_categorical_accuracy: 0.0711 - factorized_top_k/top_50_categorical_accuracy: 0.3084 - factorized_top_k/top_100_categorical_accuracy: 0.4557 - loss: 5778.6098 - regularization_loss: 0.0000e+00 - total_loss: 5778.6098\n",
            "Epoch 5/10\n",
            "36/36 [==============================] - 74s 2s/step - mean_squared_error: 13.8032 - root_mean_squared_error: 3.7153 - mean_absolute_error: 3.5575 - factorized_top_k/top_1_categorical_accuracy: 0.0039 - factorized_top_k/top_5_categorical_accuracy: 0.0357 - factorized_top_k/top_10_categorical_accuracy: 0.0816 - factorized_top_k/top_50_categorical_accuracy: 0.3490 - factorized_top_k/top_100_categorical_accuracy: 0.5095 - loss: 5640.8902 - regularization_loss: 0.0000e+00 - total_loss: 5640.8902\n",
            "Epoch 6/10\n",
            "36/36 [==============================] - 59s 2s/step - mean_squared_error: 13.7960 - root_mean_squared_error: 3.7143 - mean_absolute_error: 3.5562 - factorized_top_k/top_1_categorical_accuracy: 0.0022 - factorized_top_k/top_5_categorical_accuracy: 0.0359 - factorized_top_k/top_10_categorical_accuracy: 0.0858 - factorized_top_k/top_50_categorical_accuracy: 0.3774 - factorized_top_k/top_100_categorical_accuracy: 0.5481 - loss: 5547.8356 - regularization_loss: 0.0000e+00 - total_loss: 5547.8356\n",
            "Epoch 7/10\n",
            "36/36 [==============================] - 57s 2s/step - mean_squared_error: 13.7910 - root_mean_squared_error: 3.7136 - mean_absolute_error: 3.5553 - factorized_top_k/top_1_categorical_accuracy: 0.0035 - factorized_top_k/top_5_categorical_accuracy: 0.0380 - factorized_top_k/top_10_categorical_accuracy: 0.0907 - factorized_top_k/top_50_categorical_accuracy: 0.3950 - factorized_top_k/top_100_categorical_accuracy: 0.5765 - loss: 5480.7764 - regularization_loss: 0.0000e+00 - total_loss: 5480.7764\n",
            "Epoch 8/10\n",
            "36/36 [==============================] - 51s 1s/step - mean_squared_error: 13.7867 - root_mean_squared_error: 3.7130 - mean_absolute_error: 3.5545 - factorized_top_k/top_1_categorical_accuracy: 0.0026 - factorized_top_k/top_5_categorical_accuracy: 0.0367 - factorized_top_k/top_10_categorical_accuracy: 0.0911 - factorized_top_k/top_50_categorical_accuracy: 0.4106 - factorized_top_k/top_100_categorical_accuracy: 0.5960 - loss: 5429.3516 - regularization_loss: 0.0000e+00 - total_loss: 5429.3516\n",
            "Epoch 9/10\n",
            "36/36 [==============================] - 45s 1s/step - mean_squared_error: 13.7835 - root_mean_squared_error: 3.7126 - mean_absolute_error: 3.5539 - factorized_top_k/top_1_categorical_accuracy: 0.0035 - factorized_top_k/top_5_categorical_accuracy: 0.0392 - factorized_top_k/top_10_categorical_accuracy: 0.0945 - factorized_top_k/top_50_categorical_accuracy: 0.4214 - factorized_top_k/top_100_categorical_accuracy: 0.6105 - loss: 5387.7437 - regularization_loss: 0.0000e+00 - total_loss: 5387.7437\n",
            "Epoch 10/10\n",
            "36/36 [==============================] - 48s 1s/step - mean_squared_error: 13.7807 - root_mean_squared_error: 3.7122 - mean_absolute_error: 3.5534 - factorized_top_k/top_1_categorical_accuracy: 0.0028 - factorized_top_k/top_5_categorical_accuracy: 0.0381 - factorized_top_k/top_10_categorical_accuracy: 0.0951 - factorized_top_k/top_50_categorical_accuracy: 0.4292 - factorized_top_k/top_100_categorical_accuracy: 0.6222 - loss: 5353.7418 - regularization_loss: 0.0000e+00 - total_loss: 5353.7418\n"
          ]
        }
      ],
      "source": [
        "model = CollabModel(rating_w=1.0, retrieval_w=1.0, embedding_dim=64, L1_num=256, L2_num=128, L3_num=32, act_func=\"relu\")\n",
        "model.compile(optimizer=tf.keras.optimizers.Adagrad(0.2))\n",
        "\n",
        "train_ds_cache = train_ds.shuffle(10_000).batch(1_000).cache()\n",
        "test_ds_cache = test_ds.batch(1_000).cache()\n",
        "\n",
        "history = model.fit(train_ds_cache, epochs=10)"
      ]
    },
    {
      "cell_type": "code",
      "execution_count": 59,
      "metadata": {},
      "outputs": [
        {
          "name": "stdout",
          "output_type": "stream",
          "text": [
            "Model: \"collab_model_3\"\n",
            "_________________________________________________________________\n",
            " Layer (type)                Output Shape              Param #   \n",
            "=================================================================\n",
            " sequential_9 (Sequential)   (None, 64)                2775808   \n",
            "                                                                 \n",
            " sequential_10 (Sequential)  (None, 64)                43008     \n",
            "                                                                 \n",
            " sequential_11 (Sequential)  (None, 1)                 70081     \n",
            "                                                                 \n",
            " ranking_3 (Ranking)         multiple                  0         \n",
            "                                                                 \n",
            " retrieval_3 (Retrieval)     multiple                  1         \n",
            "                                                                 \n",
            "=================================================================\n",
            "Total params: 2,888,898\n",
            "Trainable params: 2,888,897\n",
            "Non-trainable params: 1\n",
            "_________________________________________________________________\n"
          ]
        }
      ],
      "source": [
        "model.summary()"
      ]
    },
    {
      "cell_type": "code",
      "execution_count": 58,
      "metadata": {
        "id": "QQVKPP6X6rL7"
      },
      "outputs": [],
      "source": [
        "# cpy_model = CollabModel(rating_w=1.0, retrieval_w=1.0, embedding_dim=64, L1_num=256, L2_num=128, L3_num=32, act_func=\"relu\")\n",
        "# cpy_model = tf.keras.models.clone_model(model)\n",
        "\n",
        "# # cpy_model.retrieval_eval = tfrs.tasks.Retrieval()\n",
        "# # # cpy_model.rating_eval = tfrs.tasks.Ranking()\n",
        "# # cpy_model.compile()\n",
        "# cpy_model.compile(optimizer=tf.keras.optimizers.Adagrad(0.2))\n",
        "save_path = '../model/MRS_v2_e64_20_ep5.tf'\n",
        "model.save_weights(filepath=save_path, save_format='tf')"
      ]
    },
    {
      "attachments": {},
      "cell_type": "markdown",
      "metadata": {},
      "source": [
        "## 5. Model Evaluation"
      ]
    },
    {
      "attachments": {},
      "cell_type": "markdown",
      "metadata": {},
      "source": [
        "### retrieval_w = 1.0 rating_w = 1.0"
      ]
    },
    {
      "cell_type": "code",
      "execution_count": null,
      "metadata": {
        "colab": {
          "base_uri": "https://localhost:8080/"
        },
        "id": "o4t4cn7j806A",
        "outputId": "8e48601b-2e19-47e7-b012-75692ab23183"
      },
      "outputs": [],
      "source": [
        "metrics = model.evaluate(test_ds_cache, return_dict=True)"
      ]
    },
    {
      "cell_type": "code",
      "execution_count": 24,
      "metadata": {},
      "outputs": [
        {
          "name": "stdout",
          "output_type": "stream",
          "text": [
            "\n",
            "Retrieval top-10 accuracy: 0.005\n",
            "Ranking RMSE: 3.777\n",
            "Ranking MAE: 3.633\n"
          ]
        }
      ],
      "source": [
        "print(f\"\\nRetrieval top-10 accuracy: {metrics['factorized_top_k/top_10_categorical_accuracy']:.3f}\")\n",
        "print(f\"Ranking RMSE: {metrics['root_mean_squared_error']:.3f}\")\n",
        "print(f\"Ranking MAE: {metrics['mean_absolute_error']:.3f}\")"
      ]
    },
    {
      "attachments": {},
      "cell_type": "markdown",
      "metadata": {},
      "source": [
        "### retrieval_w = 1.0 rating_w = 0"
      ]
    },
    {
      "cell_type": "code",
      "execution_count": null,
      "metadata": {},
      "outputs": [],
      "source": []
    },
    {
      "attachments": {},
      "cell_type": "markdown",
      "metadata": {},
      "source": [
        "### retrieval_w = 0 rating_w = 1.0"
      ]
    },
    {
      "cell_type": "code",
      "execution_count": null,
      "metadata": {},
      "outputs": [],
      "source": []
    },
    {
      "attachments": {},
      "cell_type": "markdown",
      "metadata": {},
      "source": [
        "### Plotting train process"
      ]
    },
    {
      "cell_type": "code",
      "execution_count": null,
      "metadata": {},
      "outputs": [],
      "source": [
        "display(history.history)"
      ]
    },
    {
      "cell_type": "code",
      "execution_count": 27,
      "metadata": {},
      "outputs": [
        {
          "data": {
            "image/png": "[encoded data removed]",
            "text/plain": [
              "<Figure size 640x480 with 1 Axes>"
            ]
          },
          "metadata": {},
          "output_type": "display_data"
        }
      ],
      "source": [
        "plt.plot(history.history['mean_squared_error'])\n",
        "# plt.title('model accuracy')\n",
        "plt.ylabel('mean_squared_error')\n",
        "plt.xlabel('epoch')\n",
        "plt.legend(['train', 'val'], loc='upper left')\n",
        "plt.show()\n"
      ]
    },
    {
      "cell_type": "code",
      "execution_count": 28,
      "metadata": {},
      "outputs": [
        {
          "data": {
            "image/png": "[encoded data removed]",
            "text/plain": [
              "<Figure size 640x480 with 1 Axes>"
            ]
          },
          "metadata": {},
          "output_type": "display_data"
        }
      ],
      "source": [
        "plt.plot(history.history['factorized_top_k/top_100_categorical_accuracy'])\n",
        "plt.ylabel('top_100_categorical_accuracy')\n",
        "plt.xlabel('epoch')\n",
        "plt.legend(['train', 'val'], loc='upper left')\n",
        "plt.show()"
      ]
    },
    {
      "cell_type": "code",
      "execution_count": 42,
      "metadata": {},
      "outputs": [
        {
          "data": {
            "image/png": "[encoded data removed]",
            "text/plain": [
              "<Figure size 640x480 with 1 Axes>"
            ]
          },
          "metadata": {},
          "output_type": "display_data"
        }
      ],
      "source": [
        "plt.plot(history.history['factorized_top_k/top_5_categorical_accuracy'])\n",
        "plt.ylabel('top_5_categorical_accuracy')\n",
        "plt.xlabel('epoch')\n",
        "plt.legend(['train', 'val'], loc='upper left')\n",
        "plt.show()"
      ]
    },
    {
      "cell_type": "code",
      "execution_count": 29,
      "metadata": {},
      "outputs": [
        {
          "data": {
            "image/png": "[encoded data removed]",
            "text/plain": [
              "<Figure size 640x480 with 1 Axes>"
            ]
          },
          "metadata": {},
          "output_type": "display_data"
        }
      ],
      "source": [
        "plt.plot(history.history['mean_absolute_error'])\n",
        "plt.ylabel('mean_absolute_error')\n",
        "plt.xlabel('epoch')\n",
        "plt.legend(['train', 'val'], loc='upper left')\n",
        "plt.show()"
      ]
    },
    {
      "attachments": {},
      "cell_type": "markdown",
      "metadata": {},
      "source": [
        "## 6. Using the model"
      ]
    },
    {
      "cell_type": "code",
      "execution_count": 30,
      "metadata": {
        "id": "JAP7l4fd92-N"
      },
      "outputs": [],
      "source": [
        "movies = tf.data.Dataset.from_tensor_slices(dict(df_movies_cleaned[['original_title']]))\n",
        "movies = movies.map(lambda x: x[\"original_title\"])"
      ]
    },
    {
      "cell_type": "code",
      "execution_count": 31,
      "metadata": {
        "colab": {
          "base_uri": "https://localhost:8080/"
        },
        "id": "pdna8fl1827E",
        "outputId": "795a79e7-cbb3-46c2-b382-4329c1dfbaad"
      },
      "outputs": [
        {
          "data": {
            "text/plain": [
              "<tensorflow_recommenders.layers.factorized_top_k.BruteForce at 0x7f1acd755a60>"
            ]
          },
          "execution_count": 31,
          "metadata": {},
          "output_type": "execute_result"
        }
      ],
      "source": [
        "index = tfrs.layers.factorized_top_k.BruteForce(model.user_model)\n",
        "# recommends movies out of the entire movies dataset.\n",
        "index.index_from_dataset(\n",
        "  tf.data.Dataset.zip((movies.batch(100), movies.batch(100).map(model.movie_model)))\n",
        ")"
      ]
    },
    {
      "cell_type": "code",
      "execution_count": 32,
      "metadata": {
        "colab": {
          "base_uri": "https://localhost:8080/"
        },
        "id": "JSRtDxHF83Xo",
        "outputId": "9237d2f6-c9b7-4844-a0d4-1d1522853c4b"
      },
      "outputs": [
        {
          "data": {
            "text/plain": [
              "<tensorflow_recommenders.layers.factorized_top_k.BruteForce at 0x7f1acd69f8b0>"
            ]
          },
          "execution_count": 32,
          "metadata": {},
          "output_type": "execute_result"
        }
      ],
      "source": [
        "# Movie model index\n",
        "index_M = tfrs.layers.factorized_top_k.BruteForce(model.movie_model)\n",
        "# recommends movies out of the entire movies dataset.\n",
        "index_M.index_from_dataset(\n",
        "  tf.data.Dataset.zip((movies.batch(100), movies.batch(100).map(model.movie_model)))\n",
        ")"
      ]
    },
    {
      "cell_type": "code",
      "execution_count": 41,
      "metadata": {
        "id": "cZfIqKRh84jL"
      },
      "outputs": [],
      "source": [
        "# Recommendation function\n",
        "# [@usrID]: num string user id\n",
        "# [@showRating]: boolean to decide if showing rating.\n",
        "def get_recommend(usrID, showRating):\n",
        "  _, titles = index(tf.constant([usrID]))\n",
        "  pred_movies = pd.DataFrame({'original_title': [i.decode('utf-8') for i in titles[0,:5].numpy()]})\n",
        "  display(pred_movies)\n"
      ]
    },
    {
      "cell_type": "code",
      "execution_count": 34,
      "metadata": {
        "colab": {
          "base_uri": "https://localhost:8080/",
          "height": 206
        },
        "id": "Bfizt_Yf85_n",
        "outputId": "583e4d10-7eb4-4cbd-a9a7-370aac2baf61"
      },
      "outputs": [
        {
          "data": {
            "text/html": [
              "<div>\n",
              "<style scoped>\n",
              "    .dataframe tbody tr th:only-of-type {\n",
              "        vertical-align: middle;\n",
              "    }\n",
              "\n",
              "    .dataframe tbody tr th {\n",
              "        vertical-align: top;\n",
              "    }\n",
              "\n",
              "    .dataframe thead th {\n",
              "        text-align: right;\n",
              "    }\n",
              "</style>\n",
              "<table border=\"1\" class=\"dataframe\">\n",
              "  <thead>\n",
              "    <tr style=\"text-align: right;\">\n",
              "      <th></th>\n",
              "      <th>original_title</th>\n",
              "    </tr>\n",
              "  </thead>\n",
              "  <tbody>\n",
              "    <tr>\n",
              "      <th>0</th>\n",
              "      <td>Kurz und schmerzlos</td>\n",
              "    </tr>\n",
              "    <tr>\n",
              "      <th>1</th>\n",
              "      <td>The Wanderers</td>\n",
              "    </tr>\n",
              "    <tr>\n",
              "      <th>2</th>\n",
              "      <td>The Greatest Story Ever Told</td>\n",
              "    </tr>\n",
              "    <tr>\n",
              "      <th>3</th>\n",
              "      <td>La révolution française</td>\n",
              "    </tr>\n",
              "    <tr>\n",
              "      <th>4</th>\n",
              "      <td>Jezebel</td>\n",
              "    </tr>\n",
              "  </tbody>\n",
              "</table>\n",
              "</div>"
            ],
            "text/plain": [
              "                 original_title\n",
              "0           Kurz und schmerzlos\n",
              "1                 The Wanderers\n",
              "2  The Greatest Story Ever Told\n",
              "3       La révolution française\n",
              "4                       Jezebel"
            ]
          },
          "metadata": {},
          "output_type": "display_data"
        }
      ],
      "source": [
        "get_recommend('123', False)"
      ]
    },
    {
      "cell_type": "code",
      "execution_count": 39,
      "metadata": {
        "id": "2SPIeoIl87Wx"
      },
      "outputs": [],
      "source": [
        "# Recommendation function\n",
        "# [@usrID]: num string user id\n",
        "# [@showRating]: boolean to decide if showing rating.\n",
        "def M_get_recommend(movie_titles, showRating):\n",
        "  _, titles = index_M(tf.constant([movie_titles]))\n",
        "  pred_movies = pd.DataFrame({'original_title': [i.decode('utf-8') for i in titles[0,:5].numpy()]})\n",
        "  display(pred_movies)"
      ]
    },
    {
      "cell_type": "code",
      "execution_count": 40,
      "metadata": {
        "colab": {
          "base_uri": "https://localhost:8080/",
          "height": 206
        },
        "id": "POBWBZ4888iJ",
        "outputId": "47ed6ad3-e56b-4197-87b9-565401a2702b"
      },
      "outputs": [
        {
          "data": {
            "text/html": [
              "<div>\n",
              "<style scoped>\n",
              "    .dataframe tbody tr th:only-of-type {\n",
              "        vertical-align: middle;\n",
              "    }\n",
              "\n",
              "    .dataframe tbody tr th {\n",
              "        vertical-align: top;\n",
              "    }\n",
              "\n",
              "    .dataframe thead th {\n",
              "        text-align: right;\n",
              "    }\n",
              "</style>\n",
              "<table border=\"1\" class=\"dataframe\">\n",
              "  <thead>\n",
              "    <tr style=\"text-align: right;\">\n",
              "      <th></th>\n",
              "      <th>original_title</th>\n",
              "    </tr>\n",
              "  </thead>\n",
              "  <tbody>\n",
              "    <tr>\n",
              "      <th>0</th>\n",
              "      <td>Rocky III</td>\n",
              "    </tr>\n",
              "    <tr>\n",
              "      <th>1</th>\n",
              "      <td>Rocky V</td>\n",
              "    </tr>\n",
              "    <tr>\n",
              "      <th>2</th>\n",
              "      <td>Sweet Sixteen</td>\n",
              "    </tr>\n",
              "    <tr>\n",
              "      <th>3</th>\n",
              "      <td>The Discovery of Heaven</td>\n",
              "    </tr>\n",
              "    <tr>\n",
              "      <th>4</th>\n",
              "      <td>Rocky IV</td>\n",
              "    </tr>\n",
              "  </tbody>\n",
              "</table>\n",
              "</div>"
            ],
            "text/plain": [
              "            original_title\n",
              "0                Rocky III\n",
              "1                  Rocky V\n",
              "2            Sweet Sixteen\n",
              "3  The Discovery of Heaven\n",
              "4                 Rocky IV"
            ]
          },
          "metadata": {},
          "output_type": "display_data"
        }
      ],
      "source": [
        "M_get_recommend('Rocky III', False)"
      ]
    }
  ],
  "metadata": {
    "colab": {
      "provenance": []
    },
    "kernelspec": {
      "display_name": "Python 3",
      "name": "python3"
    },
    "language_info": {
      "codemirror_mode": {
        "name": "ipython",
        "version": 3
      },
      "file_extension": ".py",
      "mimetype": "text/x-python",
      "name": "python",
      "nbconvert_exporter": "python",
      "pygments_lexer": "ipython3",
      "version": "3.9.16"
    }
  },
  "nbformat": 4,
  "nbformat_minor": 0
}
