{
 "cells": [
  {
   "attachments": {},
   "cell_type": "markdown",
   "metadata": {},
   "source": [
    "# load_model_testing"
   ]
  },
  {
   "cell_type": "code",
   "execution_count": 1,
   "metadata": {},
   "outputs": [
    {
     "name": "stderr",
     "output_type": "stream",
     "text": [
      "2023-05-30 16:43:14.442353: I tensorflow/core/platform/cpu_feature_guard.cc:193] This TensorFlow binary is optimized with oneAPI Deep Neural Network Library (oneDNN) to use the following CPU instructions in performance-critical operations:  SSE4.1 SSE4.2 AVX AVX2 AVX512F AVX512_VNNI FMA\n",
      "To enable them in other operations, rebuild TensorFlow with the appropriate compiler flags.\n"
     ]
    }
   ],
   "source": [
    "## Library\n",
    "import pandas as pd\n",
    "import numpy as np\n",
    "import collections\n",
    "import tensorflow as tf\n",
    "import tensorflow_recommenders as tfrs\n",
    "from tensorflow.keras.metrics import MeanAbsoluteError, RootMeanSquaredError, MeanSquaredError\n",
    "import sklearn\n",
    "from matplotlib import pyplot as plt\n",
    "from typing import Dict, Text"
   ]
  },
  {
   "attachments": {},
   "cell_type": "markdown",
   "metadata": {},
   "source": [
    "## Data initialize"
   ]
  },
  {
   "cell_type": "code",
   "execution_count": 2,
   "metadata": {},
   "outputs": [
    {
     "name": "stderr",
     "output_type": "stream",
     "text": [
      "/tmp/ipykernel_212605/1630367309.py:4: DtypeWarning: Columns (10) have mixed types. Specify dtype option on import or set low_memory=False.\n",
      "  df_movies = pd.read_csv(movies_path).drop([19730, 29503, 35587])\n"
     ]
    },
    {
     "data": {
      "text/html": [
       "<div>\n",
       "<style scoped>\n",
       "    .dataframe tbody tr th:only-of-type {\n",
       "        vertical-align: middle;\n",
       "    }\n",
       "\n",
       "    .dataframe tbody tr th {\n",
       "        vertical-align: top;\n",
       "    }\n",
       "\n",
       "    .dataframe thead th {\n",
       "        text-align: right;\n",
       "    }\n",
       "</style>\n",
       "<table border=\"1\" class=\"dataframe\">\n",
       "  <thead>\n",
       "    <tr style=\"text-align: right;\">\n",
       "      <th></th>\n",
       "      <th>id</th>\n",
       "      <th>original_title</th>\n",
       "    </tr>\n",
       "  </thead>\n",
       "  <tbody>\n",
       "    <tr>\n",
       "      <th>0</th>\n",
       "      <td>862</td>\n",
       "      <td>Toy Story</td>\n",
       "    </tr>\n",
       "    <tr>\n",
       "      <th>1</th>\n",
       "      <td>8844</td>\n",
       "      <td>Jumanji</td>\n",
       "    </tr>\n",
       "    <tr>\n",
       "      <th>2</th>\n",
       "      <td>15602</td>\n",
       "      <td>Grumpier Old Men</td>\n",
       "    </tr>\n",
       "    <tr>\n",
       "      <th>3</th>\n",
       "      <td>31357</td>\n",
       "      <td>Waiting to Exhale</td>\n",
       "    </tr>\n",
       "    <tr>\n",
       "      <th>4</th>\n",
       "      <td>11862</td>\n",
       "      <td>Father of the Bride Part II</td>\n",
       "    </tr>\n",
       "  </tbody>\n",
       "</table>\n",
       "</div>"
      ],
      "text/plain": [
       "      id               original_title\n",
       "0    862                    Toy Story\n",
       "1   8844                      Jumanji\n",
       "2  15602             Grumpier Old Men\n",
       "3  31357            Waiting to Exhale\n",
       "4  11862  Father of the Bride Part II"
      ]
     },
     "metadata": {},
     "output_type": "display_data"
    },
    {
     "data": {
      "text/html": [
       "<div>\n",
       "<style scoped>\n",
       "    .dataframe tbody tr th:only-of-type {\n",
       "        vertical-align: middle;\n",
       "    }\n",
       "\n",
       "    .dataframe tbody tr th {\n",
       "        vertical-align: top;\n",
       "    }\n",
       "\n",
       "    .dataframe thead th {\n",
       "        text-align: right;\n",
       "    }\n",
       "</style>\n",
       "<table border=\"1\" class=\"dataframe\">\n",
       "  <thead>\n",
       "    <tr style=\"text-align: right;\">\n",
       "      <th></th>\n",
       "      <th>movieId</th>\n",
       "      <th>userId</th>\n",
       "      <th>rating</th>\n",
       "    </tr>\n",
       "  </thead>\n",
       "  <tbody>\n",
       "    <tr>\n",
       "      <th>0</th>\n",
       "      <td>31</td>\n",
       "      <td>1</td>\n",
       "      <td>2.5</td>\n",
       "    </tr>\n",
       "    <tr>\n",
       "      <th>1</th>\n",
       "      <td>1029</td>\n",
       "      <td>1</td>\n",
       "      <td>3.0</td>\n",
       "    </tr>\n",
       "    <tr>\n",
       "      <th>2</th>\n",
       "      <td>1061</td>\n",
       "      <td>1</td>\n",
       "      <td>3.0</td>\n",
       "    </tr>\n",
       "    <tr>\n",
       "      <th>3</th>\n",
       "      <td>1129</td>\n",
       "      <td>1</td>\n",
       "      <td>2.0</td>\n",
       "    </tr>\n",
       "    <tr>\n",
       "      <th>4</th>\n",
       "      <td>1172</td>\n",
       "      <td>1</td>\n",
       "      <td>4.0</td>\n",
       "    </tr>\n",
       "  </tbody>\n",
       "</table>\n",
       "</div>"
      ],
      "text/plain": [
       "   movieId  userId  rating\n",
       "0       31       1     2.5\n",
       "1     1029       1     3.0\n",
       "2     1061       1     3.0\n",
       "3     1129       1     2.0\n",
       "4     1172       1     4.0"
      ]
     },
     "metadata": {},
     "output_type": "display_data"
    },
    {
     "name": "stderr",
     "output_type": "stream",
     "text": [
      "/tmp/ipykernel_212605/1630367309.py:11: SettingWithCopyWarning: \n",
      "A value is trying to be set on a copy of a slice from a DataFrame.\n",
      "Try using .loc[row_indexer,col_indexer] = value instead\n",
      "\n",
      "See the caveats in the documentation: https://pandas.pydata.org/pandas-docs/stable/user_guide/indexing.html#returning-a-view-versus-a-copy\n",
      "  df_movies_cleaned['id'] = df_movies_cleaned['id'].astype('int64')\n",
      "/tmp/ipykernel_212605/1630367309.py:13: SettingWithCopyWarning: \n",
      "A value is trying to be set on a copy of a slice from a DataFrame.\n",
      "Try using .loc[row_indexer,col_indexer] = value instead\n",
      "\n",
      "See the caveats in the documentation: https://pandas.pydata.org/pandas-docs/stable/user_guide/indexing.html#returning-a-view-versus-a-copy\n",
      "  df_movies_cleaned.loc[:, 'id'] = pd.to_numeric(df_movies_cleaned['id'], errors='coerce').astype('Int64')\n",
      "/tmp/ipykernel_212605/1630367309.py:13: DeprecationWarning: In a future version, `df.iloc[:, i] = newvals` will attempt to set the values inplace instead of always setting a new array. To retain the old behavior, use either `df[df.columns[i]] = newvals` or, if columns are non-unique, `df.isetitem(i, newvals)`\n",
      "  df_movies_cleaned.loc[:, 'id'] = pd.to_numeric(df_movies_cleaned['id'], errors='coerce').astype('Int64')\n"
     ]
    },
    {
     "data": {
      "text/html": [
       "<div>\n",
       "<style scoped>\n",
       "    .dataframe tbody tr th:only-of-type {\n",
       "        vertical-align: middle;\n",
       "    }\n",
       "\n",
       "    .dataframe tbody tr th {\n",
       "        vertical-align: top;\n",
       "    }\n",
       "\n",
       "    .dataframe thead th {\n",
       "        text-align: right;\n",
       "    }\n",
       "</style>\n",
       "<table border=\"1\" class=\"dataframe\">\n",
       "  <thead>\n",
       "    <tr style=\"text-align: right;\">\n",
       "      <th></th>\n",
       "      <th>id</th>\n",
       "      <th>original_title</th>\n",
       "    </tr>\n",
       "  </thead>\n",
       "  <tbody>\n",
       "    <tr>\n",
       "      <th>0</th>\n",
       "      <td>862</td>\n",
       "      <td>Toy Story</td>\n",
       "    </tr>\n",
       "    <tr>\n",
       "      <th>1</th>\n",
       "      <td>8844</td>\n",
       "      <td>Jumanji</td>\n",
       "    </tr>\n",
       "    <tr>\n",
       "      <th>2</th>\n",
       "      <td>15602</td>\n",
       "      <td>Grumpier Old Men</td>\n",
       "    </tr>\n",
       "    <tr>\n",
       "      <th>3</th>\n",
       "      <td>31357</td>\n",
       "      <td>Waiting to Exhale</td>\n",
       "    </tr>\n",
       "    <tr>\n",
       "      <th>4</th>\n",
       "      <td>11862</td>\n",
       "      <td>Father of the Bride Part II</td>\n",
       "    </tr>\n",
       "  </tbody>\n",
       "</table>\n",
       "</div>"
      ],
      "text/plain": [
       "      id               original_title\n",
       "0    862                    Toy Story\n",
       "1   8844                      Jumanji\n",
       "2  15602             Grumpier Old Men\n",
       "3  31357            Waiting to Exhale\n",
       "4  11862  Father of the Bride Part II"
      ]
     },
     "metadata": {},
     "output_type": "display_data"
    },
    {
     "data": {
      "text/plain": [
       "count         44994.0\n",
       "mean      6010.754901\n",
       "std      15918.243916\n",
       "min               2.0\n",
       "25%             500.0\n",
       "50%            1394.0\n",
       "75%            2805.0\n",
       "max          160718.0\n",
       "Name: id, dtype: Float64"
      ]
     },
     "metadata": {},
     "output_type": "display_data"
    },
    {
     "data": {
      "text/html": [
       "<div>\n",
       "<style scoped>\n",
       "    .dataframe tbody tr th:only-of-type {\n",
       "        vertical-align: middle;\n",
       "    }\n",
       "\n",
       "    .dataframe tbody tr th {\n",
       "        vertical-align: top;\n",
       "    }\n",
       "\n",
       "    .dataframe thead th {\n",
       "        text-align: right;\n",
       "    }\n",
       "</style>\n",
       "<table border=\"1\" class=\"dataframe\">\n",
       "  <thead>\n",
       "    <tr style=\"text-align: right;\">\n",
       "      <th></th>\n",
       "      <th>userId</th>\n",
       "      <th>rating</th>\n",
       "      <th>id</th>\n",
       "      <th>original_title</th>\n",
       "    </tr>\n",
       "  </thead>\n",
       "  <tbody>\n",
       "    <tr>\n",
       "      <th>0</th>\n",
       "      <td>1</td>\n",
       "      <td>2.5</td>\n",
       "      <td>1371</td>\n",
       "      <td>Rocky III</td>\n",
       "    </tr>\n",
       "    <tr>\n",
       "      <th>1</th>\n",
       "      <td>1</td>\n",
       "      <td>1.0</td>\n",
       "      <td>1405</td>\n",
       "      <td>Greed</td>\n",
       "    </tr>\n",
       "    <tr>\n",
       "      <th>2</th>\n",
       "      <td>1</td>\n",
       "      <td>4.0</td>\n",
       "      <td>2105</td>\n",
       "      <td>American Pie</td>\n",
       "    </tr>\n",
       "    <tr>\n",
       "      <th>3</th>\n",
       "      <td>1</td>\n",
       "      <td>2.0</td>\n",
       "      <td>2193</td>\n",
       "      <td>My Tutor</td>\n",
       "    </tr>\n",
       "    <tr>\n",
       "      <th>4</th>\n",
       "      <td>1</td>\n",
       "      <td>2.0</td>\n",
       "      <td>2294</td>\n",
       "      <td>Jay and Silent Bob Strike Back</td>\n",
       "    </tr>\n",
       "  </tbody>\n",
       "</table>\n",
       "</div>"
      ],
      "text/plain": [
       "   userId  rating    id                  original_title\n",
       "0       1     2.5  1371                       Rocky III\n",
       "1       1     1.0  1405                           Greed\n",
       "2       1     4.0  2105                    American Pie\n",
       "3       1     2.0  2193                        My Tutor\n",
       "4       1     2.0  2294  Jay and Silent Bob Strike Back"
      ]
     },
     "metadata": {},
     "output_type": "display_data"
    },
    {
     "name": "stderr",
     "output_type": "stream",
     "text": [
      "2023-05-30 16:43:18.698593: I tensorflow/core/platform/cpu_feature_guard.cc:193] This TensorFlow binary is optimized with oneAPI Deep Neural Network Library (oneDNN) to use the following CPU instructions in performance-critical operations:  SSE4.1 SSE4.2 AVX AVX2 AVX512F AVX512_VNNI FMA\n",
      "To enable them in other operations, rebuild TensorFlow with the appropriate compiler flags.\n"
     ]
    },
    {
     "name": "stdout",
     "output_type": "stream",
     "text": [
      "WARNING:tensorflow:From /home/hungry5656/anaconda3/envs/tf/lib/python3.10/site-packages/tensorflow/python/autograph/pyct/static_analysis/liveness.py:83: Analyzer.lamba_check (from tensorflow.python.autograph.pyct.static_analysis.liveness) is deprecated and will be removed after 2023-09-23.\n",
      "Instructions for updating:\n",
      "Lambda fuctions will be no more assumed to be used in the statement where they are used, or at least in the same block. https://github.com/tensorflow/tensorflow/issues/56089\n"
     ]
    },
    {
     "name": "stderr",
     "output_type": "stream",
     "text": [
      "2023-05-30 16:43:18.705186: I tensorflow/core/common_runtime/process_util.cc:146] Creating new thread pool with default inter op setting: 2. Tune using inter_op_parallelism_threads for best performance.\n"
     ]
    }
   ],
   "source": [
    "movies_path = '../dataset/movies_metadata.csv'\n",
    "rating_path = '../dataset/ratings_small.csv'\n",
    "\n",
    "df_movies = pd.read_csv(movies_path).drop([19730, 29503, 35587])\n",
    "df_rating = pd.read_csv(rating_path)\n",
    "\n",
    "df_movies_cleaned = df_movies[['id', 'original_title']]\n",
    "df_rating_cleaned = df_rating[['movieId', 'userId', 'rating']]\n",
    "display(df_movies_cleaned.head(5))\n",
    "display(df_rating_cleaned.head(5))\n",
    "df_movies_cleaned['id'] = df_movies_cleaned['id'].astype('int64')\n",
    "\n",
    "df_movies_cleaned.loc[:, 'id'] = pd.to_numeric(df_movies_cleaned['id'], errors='coerce').astype('Int64')\n",
    "df_movies_cleaned = df_movies_cleaned.dropna(subset=['id']) # remove any line with NaN\n",
    "display(df_movies_cleaned.head(5))\n",
    "\n",
    "merged_dataset = pd.merge(df_rating_cleaned, df_movies_cleaned[['id', 'original_title']], left_on='movieId', right_on='id', how='left')\n",
    "\n",
    "merged_dataset = merged_dataset[~merged_dataset['id'].isna()]\n",
    "merged_dataset.dropna(inplace=True)\n",
    "merged_dataset.drop('movieId', axis=1, inplace=True)\n",
    "display(merged_dataset['id'].describe())\n",
    "dataset_size = merged_dataset.shape[0] # count final size for dataset\n",
    "\n",
    "merged_dataset.reset_index(drop=True, inplace=True)\n",
    "\n",
    "display(merged_dataset.head())\n",
    "\n",
    "df_movies_cleaned = df_movies_cleaned[~df_movies_cleaned['original_title'].duplicated()]\n",
    "df_movies_cleaned['original_title'].head()\n",
    "\n",
    "merged_dataset['userId'] = merged_dataset['userId'].astype(str)\n",
    "# df_movies_cleaned['original_title'] = df_movies_cleaned['original_title'].astype(str)\n",
    "\n",
    "rating_dict = dict(merged_dataset[['userId', 'original_title', 'rating']])\n",
    "movies_dict = dict(df_movies_cleaned[['original_title']])\n",
    "\n",
    "# Transfer to tf.tensor_slice\n",
    "ratings_tf = tf.data.Dataset.from_tensor_slices(rating_dict)\n",
    "movies_tf = tf.data.Dataset.from_tensor_slices(movies_dict)\n",
    "\n",
    "movies_tf = movies_tf.map(lambda x: x[\"original_title\"])\n",
    "\n",
    "ratings_tf = ratings_tf.map(lambda x: {\n",
    "    \"original_title\": x[\"original_title\"],\n",
    "    \"rating\": float(x[\"rating\"]),\n",
    "    \"userId\": x[\"userId\"]\n",
    "})\n",
    "def slice_df_data(data_tf, total_size, test_rate=0.2):\n",
    "    test_size = int(total_size * test_rate)\n",
    "    train_size = total_size - test_size\n",
    "    return data_tf.take(train_size), data_tf.skip(train_size).take(test_size)\n",
    "\n",
    "train_ds, test_ds = slice_df_data(ratings_tf, dataset_size)\n",
    "usrID_lookup = np.unique(np.concatenate([merged_dataset['userId'].to_numpy()]))\n",
    "title_lookup = np.unique(np.concatenate([df_movies_cleaned['original_title']]))"
   ]
  },
  {
   "attachments": {},
   "cell_type": "markdown",
   "metadata": {},
   "source": [
    "## Model definition"
   ]
  },
  {
   "cell_type": "code",
   "execution_count": 3,
   "metadata": {},
   "outputs": [],
   "source": [
    "# customized model for collaborative-based system\n",
    "class CollabModel(tfrs.models.Model):\n",
    "  def __init__(self, rating_w, retrieval_w, embedding_dim=64, L1_num=256, L2_num=128, L3_num=32, act_func=\"relu\") -> None:\n",
    "    super().__init__()\n",
    "    embedding_dim = embedding_dim # number of dimension for embedding\n",
    "\n",
    "    self.movie_model: tf.keras.layers.Layer = tf.keras.Sequential([\n",
    "      tf.keras.layers.StringLookup(\n",
    "        vocabulary=title_lookup, mask_token=None),\n",
    "      tf.keras.layers.Embedding(len(title_lookup) + 1, embedding_dim)\n",
    "    ])\n",
    "    self.user_model: tf.keras.layers.Layer = tf.keras.Sequential([\n",
    "      tf.keras.layers.StringLookup(\n",
    "        vocabulary=usrID_lookup, mask_token=None),\n",
    "      tf.keras.layers.Embedding(len(usrID_lookup) + 1, embedding_dim)\n",
    "    ])\n",
    "    self.rating_model = tf.keras.Sequential([\n",
    "        tf.keras.layers.Dense(L1_num, activation=act_func), # first layer\n",
    "        tf.keras.layers.Dense(L2_num, activation=act_func), # second layer\n",
    "        tf.keras.layers.Dense(L3_num, activation=act_func),# third layer\n",
    "        tf.keras.layers.Dense(1), # output layer\n",
    "    ])\n",
    "\n",
    "    self.rating_eval: tf.keras.layers.Layer = tfrs.tasks.Ranking(\n",
    "        loss = MeanSquaredError(),\n",
    "        metrics = [RootMeanSquaredError(), MeanAbsoluteError()],\n",
    "    )\n",
    "    self.retrieval_eval: tf.keras.layers.Layer = tfrs.tasks.Retrieval(\n",
    "        metrics=tfrs.metrics.FactorizedTopK(\n",
    "            candidates=movies_tf.batch(128).map(self.movie_model)\n",
    "        )\n",
    "    )\n",
    "\n",
    "    self.rating_weight = rating_w\n",
    "    self.retrieval_weight = retrieval_w\n",
    "\n",
    "  # overloading call function\n",
    "  def call(self, features: Dict[Text, tf.Tensor]) -> tf.Tensor:\n",
    "    user_embeddings = self.user_model(features[\"userId\"])\n",
    "    movie_embeddings = self.movie_model(features[\"original_title\"])\n",
    "    \n",
    "    return (\n",
    "        user_embeddings,\n",
    "        movie_embeddings,\n",
    "        self.rating_model(\n",
    "            tf.concat([user_embeddings, movie_embeddings], axis=1)\n",
    "        ),\n",
    "    )\n",
    "\n",
    "  # overloading compute_loss function\n",
    "  def compute_loss(self, features: Dict[Text, tf.Tensor], training=False) -> tf.Tensor: \n",
    "    label_r = features.pop(\"rating\")\n",
    "    user_embeddings, movie_embeddings, rating_pred = self(features)\n",
    "    rating_loss = self.rating_eval(labels=label_r, predictions=rating_pred)\n",
    "    retrieval_loss = self.retrieval_eval(user_embeddings, movie_embeddings)\n",
    "\n",
    "    return (self.rating_weight * rating_loss\n",
    "            + self.retrieval_weight * retrieval_loss)"
   ]
  },
  {
   "attachments": {},
   "cell_type": "markdown",
   "metadata": {},
   "source": [
    "## Load model data"
   ]
  },
  {
   "cell_type": "code",
   "execution_count": 4,
   "metadata": {},
   "outputs": [
    {
     "name": "stdout",
     "output_type": "stream",
     "text": [
      "Model: \"collab_model\"\n",
      "_________________________________________________________________\n",
      " Layer (type)                Output Shape              Param #   \n",
      "=================================================================\n",
      " sequential (Sequential)     (None, 64)                2775808   \n",
      "                                                                 \n",
      " sequential_1 (Sequential)   (None, 64)                43008     \n",
      "                                                                 \n",
      " sequential_2 (Sequential)   (None, 1)                 70081     \n",
      "                                                                 \n",
      " ranking (Ranking)           multiple                  0         \n",
      "                                                                 \n",
      " retrieval (Retrieval)       multiple                  1         \n",
      "                                                                 \n",
      "=================================================================\n",
      "Total params: 2,888,898\n",
      "Trainable params: 2,888,897\n",
      "Non-trainable params: 1\n",
      "_________________________________________________________________\n"
     ]
    }
   ],
   "source": [
    "load_path = '../model/MRS_v2_e64_20_ep5.tf'\n",
    "\n",
    "model = CollabModel(rating_w=1.0, retrieval_w=1.0, embedding_dim=64, L1_num=256, L2_num=128, L3_num=32, act_func=\"relu\")\n",
    "model.compile(optimizer=tf.keras.optimizers.Adagrad(0.2))\n",
    "model.built = True\n",
    "model.user_model.build(input_shape=[None])\n",
    "# model.user_model.build = True\n",
    "# model.movie_model.build(input_shape=[None,64])\n",
    "model.rating_model.build(input_shape=[None, 128])\n",
    "model.rating_eval.build(input_shape=[1])\n",
    "model.retrieval_eval.build(input_shape=[1])\n",
    "model.load_weights(load_path).expect_partial()\n",
    "\n",
    "model.summary()"
   ]
  },
  {
   "attachments": {},
   "cell_type": "markdown",
   "metadata": {},
   "source": [
    "## Test model"
   ]
  },
  {
   "cell_type": "code",
   "execution_count": 6,
   "metadata": {},
   "outputs": [],
   "source": [
    "movies = tf.data.Dataset.from_tensor_slices(dict(df_movies_cleaned[['original_title']]))\n",
    "movies = movies.map(lambda x: x[\"original_title\"])"
   ]
  },
  {
   "cell_type": "code",
   "execution_count": 7,
   "metadata": {},
   "outputs": [
    {
     "data": {
      "text/plain": [
       "<tensorflow_recommenders.layers.factorized_top_k.BruteForce at 0x7fe58807e8c0>"
      ]
     },
     "execution_count": 7,
     "metadata": {},
     "output_type": "execute_result"
    }
   ],
   "source": [
    "index = tfrs.layers.factorized_top_k.BruteForce(model.user_model)\n",
    "# recommends movies out of the entire movies dataset.\n",
    "index.index_from_dataset(\n",
    "  tf.data.Dataset.zip((movies.batch(100), movies.batch(100).map(model.movie_model)))\n",
    ")"
   ]
  },
  {
   "cell_type": "code",
   "execution_count": 8,
   "metadata": {},
   "outputs": [],
   "source": [
    "# Recommendation function\n",
    "# [@usrID]: num string user id\n",
    "# [@showRating]: boolean to decide if showing rating.\n",
    "def get_recommend(usrID, showRating):\n",
    "  _, titles = index(tf.constant([usrID]))\n",
    "  pred_movies = pd.DataFrame({'original_title': [i.decode('utf-8') for i in titles[0,:5].numpy()]})\n",
    "  display(pred_movies)"
   ]
  },
  {
   "cell_type": "code",
   "execution_count": 9,
   "metadata": {},
   "outputs": [
    {
     "name": "stderr",
     "output_type": "stream",
     "text": [
      "2023-05-30 16:44:55.693482: W tensorflow/core/framework/op_kernel.cc:1807] OP_REQUIRES failed at cast_op.cc:121 : UNIMPLEMENTED: Cast string to float is not supported\n"
     ]
    },
    {
     "ename": "UnimplementedError",
     "evalue": "Exception encountered when calling layer 'sequential_1' (type Sequential).\n\n{{function_node __wrapped__Cast_device_/job:localhost/replica:0/task:0/device:CPU:0}} Cast string to float is not supported [Op:Cast]\n\nCall arguments received by layer 'sequential_1' (type Sequential):\n  • inputs=tf.Tensor(shape=(1,), dtype=string)\n  • training=None\n  • mask=None",
     "output_type": "error",
     "traceback": [
      "\u001b[0;31m---------------------------------------------------------------------------\u001b[0m",
      "\u001b[0;31mUnimplementedError\u001b[0m                        Traceback (most recent call last)",
      "Cell \u001b[0;32mIn[9], line 1\u001b[0m\n\u001b[0;32m----> 1\u001b[0m get_recommend(\u001b[39m'\u001b[39;49m\u001b[39m123\u001b[39;49m\u001b[39m'\u001b[39;49m, \u001b[39mFalse\u001b[39;49;00m)\n",
      "Cell \u001b[0;32mIn[8], line 5\u001b[0m, in \u001b[0;36mget_recommend\u001b[0;34m(usrID, showRating)\u001b[0m\n\u001b[1;32m      4\u001b[0m \u001b[39mdef\u001b[39;00m \u001b[39mget_recommend\u001b[39m(usrID, showRating):\n\u001b[0;32m----> 5\u001b[0m   _, titles \u001b[39m=\u001b[39m index(tf\u001b[39m.\u001b[39;49mconstant([usrID]))\n\u001b[1;32m      6\u001b[0m   pred_movies \u001b[39m=\u001b[39m pd\u001b[39m.\u001b[39mDataFrame({\u001b[39m'\u001b[39m\u001b[39moriginal_title\u001b[39m\u001b[39m'\u001b[39m: [i\u001b[39m.\u001b[39mdecode(\u001b[39m'\u001b[39m\u001b[39mutf-8\u001b[39m\u001b[39m'\u001b[39m) \u001b[39mfor\u001b[39;00m i \u001b[39min\u001b[39;00m titles[\u001b[39m0\u001b[39m,:\u001b[39m5\u001b[39m]\u001b[39m.\u001b[39mnumpy()]})\n\u001b[1;32m      7\u001b[0m   display(pred_movies)\n",
      "File \u001b[0;32m~/anaconda3/envs/tf/lib/python3.10/site-packages/keras/utils/traceback_utils.py:70\u001b[0m, in \u001b[0;36mfilter_traceback.<locals>.error_handler\u001b[0;34m(*args, **kwargs)\u001b[0m\n\u001b[1;32m     67\u001b[0m     filtered_tb \u001b[39m=\u001b[39m _process_traceback_frames(e\u001b[39m.\u001b[39m__traceback__)\n\u001b[1;32m     68\u001b[0m     \u001b[39m# To get the full stack trace, call:\u001b[39;00m\n\u001b[1;32m     69\u001b[0m     \u001b[39m# `tf.debugging.disable_traceback_filtering()`\u001b[39;00m\n\u001b[0;32m---> 70\u001b[0m     \u001b[39mraise\u001b[39;00m e\u001b[39m.\u001b[39mwith_traceback(filtered_tb) \u001b[39mfrom\u001b[39;00m \u001b[39mNone\u001b[39m\n\u001b[1;32m     71\u001b[0m \u001b[39mfinally\u001b[39;00m:\n\u001b[1;32m     72\u001b[0m     \u001b[39mdel\u001b[39;00m filtered_tb\n",
      "File \u001b[0;32m~/anaconda3/envs/tf/lib/python3.10/site-packages/tensorflow_recommenders/layers/factorized_top_k.py:584\u001b[0m, in \u001b[0;36mBruteForce.call\u001b[0;34m(self, queries, k)\u001b[0m\n\u001b[1;32m    580\u001b[0m   \u001b[39mraise\u001b[39;00m \u001b[39mValueError\u001b[39;00m(\u001b[39m\"\u001b[39m\u001b[39mThe `index` method must be called first to \u001b[39m\u001b[39m\"\u001b[39m\n\u001b[1;32m    581\u001b[0m                    \u001b[39m\"\u001b[39m\u001b[39mcreate the retrieval index.\u001b[39m\u001b[39m\"\u001b[39m)\n\u001b[1;32m    583\u001b[0m \u001b[39mif\u001b[39;00m \u001b[39mself\u001b[39m\u001b[39m.\u001b[39mquery_model \u001b[39mis\u001b[39;00m \u001b[39mnot\u001b[39;00m \u001b[39mNone\u001b[39;00m:\n\u001b[0;32m--> 584\u001b[0m   queries \u001b[39m=\u001b[39m \u001b[39mself\u001b[39;49m\u001b[39m.\u001b[39;49mquery_model(queries)\n\u001b[1;32m    586\u001b[0m scores \u001b[39m=\u001b[39m \u001b[39mself\u001b[39m\u001b[39m.\u001b[39m_compute_score(queries, \u001b[39mself\u001b[39m\u001b[39m.\u001b[39m_candidates)\n\u001b[1;32m    588\u001b[0m values, indices \u001b[39m=\u001b[39m tf\u001b[39m.\u001b[39mmath\u001b[39m.\u001b[39mtop_k(scores, k\u001b[39m=\u001b[39mk)\n",
      "\u001b[0;31mUnimplementedError\u001b[0m: Exception encountered when calling layer 'sequential_1' (type Sequential).\n\n{{function_node __wrapped__Cast_device_/job:localhost/replica:0/task:0/device:CPU:0}} Cast string to float is not supported [Op:Cast]\n\nCall arguments received by layer 'sequential_1' (type Sequential):\n  • inputs=tf.Tensor(shape=(1,), dtype=string)\n  • training=None\n  • mask=None"
     ]
    }
   ],
   "source": [
    "get_recommend('123', False)"
   ]
  }
 ],
 "metadata": {
  "kernelspec": {
   "display_name": "tf",
   "language": "python",
   "name": "python3"
  },
  "language_info": {
   "codemirror_mode": {
    "name": "ipython",
    "version": 3
   },
   "file_extension": ".py",
   "mimetype": "text/x-python",
   "name": "python",
   "nbconvert_exporter": "python",
   "pygments_lexer": "ipython3",
   "version": "3.10.11"
  },
  "orig_nbformat": 4
 },
 "nbformat": 4,
 "nbformat_minor": 2
}
