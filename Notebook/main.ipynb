{
 "cells": [
  {
   "attachments": {},
   "cell_type": "markdown",
   "metadata": {},
   "source": [
    "# Netflix Recommendation System\n",
    "## Background\n",
    "\n"
   ]
  },
  {
   "attachments": {},
   "cell_type": "markdown",
   "metadata": {},
   "source": [
    "## 1.Library import"
   ]
  },
  {
   "cell_type": "code",
   "execution_count": 8,
   "metadata": {},
   "outputs": [
    {
     "ename": "ModuleNotFoundError",
     "evalue": "No module named 'wordcloud'",
     "output_type": "error",
     "traceback": [
      "\u001b[0;31m---------------------------------------------------------------------------\u001b[0m",
      "\u001b[0;31mModuleNotFoundError\u001b[0m                       Traceback (most recent call last)",
      "Cell \u001b[0;32mIn[8], line 5\u001b[0m\n\u001b[1;32m      2\u001b[0m \u001b[39mimport\u001b[39;00m \u001b[39mlogging\u001b[39;00m\n\u001b[1;32m      3\u001b[0m os\u001b[39m.\u001b[39menviron[\u001b[39m'\u001b[39m\u001b[39mTF_CPP_MIN_LOG_LEVEL\u001b[39m\u001b[39m'\u001b[39m] \u001b[39m=\u001b[39m \u001b[39m'\u001b[39m\u001b[39m3\u001b[39m\u001b[39m'\u001b[39m\n\u001b[0;32m----> 5\u001b[0m \u001b[39mfrom\u001b[39;00m \u001b[39mwordcloud\u001b[39;00m \u001b[39mimport\u001b[39;00m WordCloud\n\u001b[1;32m      6\u001b[0m \u001b[39mimport\u001b[39;00m \u001b[39mrandom\u001b[39;00m\n\u001b[1;32m      7\u001b[0m \u001b[39mimport\u001b[39;00m \u001b[39mpandas\u001b[39;00m \u001b[39mas\u001b[39;00m \u001b[39mpd\u001b[39;00m\n",
      "\u001b[0;31mModuleNotFoundError\u001b[0m: No module named 'wordcloud'"
     ]
    }
   ],
   "source": [
    "import os\n",
    "import logging\n",
    "os.environ['TF_CPP_MIN_LOG_LEVEL'] = '3'\n",
    "\n",
    "from wordcloud import WordCloud\n",
    "import random\n",
    "import pandas as pd\n",
    "import numpy as np\n",
    "import collections\n",
    "import tensorflow as tf\n",
    "import tensorflow_recommenders as tfrs\n",
    "from tensorflow.keras.metrics import MeanAbsoluteError, RootMeanSquaredError, MeanSquaredError\n",
    "import sklearn\n",
    "from matplotlib import pyplot as plt\n",
    "from typing import Dict, Text\n",
    "\n",
    "tf.get_logger().setLevel('ERROR')\n",
    "# tf.logging.set_verbosity(tf.logging.ERROR)\n",
    "logging.getLogger('tensorflow').setLevel(logging.FATAL)"
   ]
  },
  {
   "attachments": {},
   "cell_type": "markdown",
   "metadata": {},
   "source": [
    "## 2. Data Preprocessing"
   ]
  },
  {
   "cell_type": "code",
   "execution_count": 9,
   "metadata": {},
   "outputs": [
    {
     "ename": "KeyError",
     "evalue": "'[19730, 29503, 35587] not found in axis'",
     "output_type": "error",
     "traceback": [
      "\u001b[0;31m---------------------------------------------------------------------------\u001b[0m",
      "\u001b[0;31mKeyError\u001b[0m                                  Traceback (most recent call last)",
      "Cell \u001b[0;32mIn[9], line 4\u001b[0m\n\u001b[1;32m      1\u001b[0m movies_path \u001b[39m=\u001b[39m \u001b[39m'\u001b[39m\u001b[39m../dataset/movies_metadata.csv\u001b[39m\u001b[39m'\u001b[39m\n\u001b[1;32m      2\u001b[0m rating_path \u001b[39m=\u001b[39m \u001b[39m'\u001b[39m\u001b[39m../dataset/ratings_small.csv\u001b[39m\u001b[39m'\u001b[39m\n\u001b[0;32m----> 4\u001b[0m df_movies \u001b[39m=\u001b[39m pd\u001b[39m.\u001b[39;49mread_csv(movies_path)\u001b[39m.\u001b[39;49mdrop([\u001b[39m19730\u001b[39;49m, \u001b[39m29503\u001b[39;49m, \u001b[39m35587\u001b[39;49m])\n\u001b[1;32m      5\u001b[0m df_rating \u001b[39m=\u001b[39m pd\u001b[39m.\u001b[39mread_csv(rating_path)\n\u001b[1;32m      7\u001b[0m df_movies_cleaned \u001b[39m=\u001b[39m df_movies[[\u001b[39m'\u001b[39m\u001b[39mid\u001b[39m\u001b[39m'\u001b[39m, \u001b[39m'\u001b[39m\u001b[39moriginal_title\u001b[39m\u001b[39m'\u001b[39m]]\n",
      "File \u001b[0;32m/opt/homebrew/Caskroom/miniconda/base/lib/python3.10/site-packages/pandas/util/_decorators.py:331\u001b[0m, in \u001b[0;36mdeprecate_nonkeyword_arguments.<locals>.decorate.<locals>.wrapper\u001b[0;34m(*args, **kwargs)\u001b[0m\n\u001b[1;32m    325\u001b[0m \u001b[39mif\u001b[39;00m \u001b[39mlen\u001b[39m(args) \u001b[39m>\u001b[39m num_allow_args:\n\u001b[1;32m    326\u001b[0m     warnings\u001b[39m.\u001b[39mwarn(\n\u001b[1;32m    327\u001b[0m         msg\u001b[39m.\u001b[39mformat(arguments\u001b[39m=\u001b[39m_format_argument_list(allow_args)),\n\u001b[1;32m    328\u001b[0m         \u001b[39mFutureWarning\u001b[39;00m,\n\u001b[1;32m    329\u001b[0m         stacklevel\u001b[39m=\u001b[39mfind_stack_level(),\n\u001b[1;32m    330\u001b[0m     )\n\u001b[0;32m--> 331\u001b[0m \u001b[39mreturn\u001b[39;00m func(\u001b[39m*\u001b[39;49margs, \u001b[39m*\u001b[39;49m\u001b[39m*\u001b[39;49mkwargs)\n",
      "File \u001b[0;32m/opt/homebrew/Caskroom/miniconda/base/lib/python3.10/site-packages/pandas/core/frame.py:5399\u001b[0m, in \u001b[0;36mDataFrame.drop\u001b[0;34m(self, labels, axis, index, columns, level, inplace, errors)\u001b[0m\n\u001b[1;32m   5251\u001b[0m \u001b[39m@deprecate_nonkeyword_arguments\u001b[39m(version\u001b[39m=\u001b[39m\u001b[39mNone\u001b[39;00m, allowed_args\u001b[39m=\u001b[39m[\u001b[39m\"\u001b[39m\u001b[39mself\u001b[39m\u001b[39m\"\u001b[39m, \u001b[39m\"\u001b[39m\u001b[39mlabels\u001b[39m\u001b[39m\"\u001b[39m])\n\u001b[1;32m   5252\u001b[0m \u001b[39mdef\u001b[39;00m \u001b[39mdrop\u001b[39m(  \u001b[39m# type: ignore[override]\u001b[39;00m\n\u001b[1;32m   5253\u001b[0m     \u001b[39mself\u001b[39m,\n\u001b[0;32m   (...)\u001b[0m\n\u001b[1;32m   5260\u001b[0m     errors: IgnoreRaise \u001b[39m=\u001b[39m \u001b[39m\"\u001b[39m\u001b[39mraise\u001b[39m\u001b[39m\"\u001b[39m,\n\u001b[1;32m   5261\u001b[0m ) \u001b[39m-\u001b[39m\u001b[39m>\u001b[39m DataFrame \u001b[39m|\u001b[39m \u001b[39mNone\u001b[39;00m:\n\u001b[1;32m   5262\u001b[0m \u001b[39m    \u001b[39m\u001b[39m\"\"\"\u001b[39;00m\n\u001b[1;32m   5263\u001b[0m \u001b[39m    Drop specified labels from rows or columns.\u001b[39;00m\n\u001b[1;32m   5264\u001b[0m \n\u001b[0;32m   (...)\u001b[0m\n\u001b[1;32m   5397\u001b[0m \u001b[39m            weight  1.0     0.8\u001b[39;00m\n\u001b[1;32m   5398\u001b[0m \u001b[39m    \"\"\"\u001b[39;00m\n\u001b[0;32m-> 5399\u001b[0m     \u001b[39mreturn\u001b[39;00m \u001b[39msuper\u001b[39;49m()\u001b[39m.\u001b[39;49mdrop(\n\u001b[1;32m   5400\u001b[0m         labels\u001b[39m=\u001b[39;49mlabels,\n\u001b[1;32m   5401\u001b[0m         axis\u001b[39m=\u001b[39;49maxis,\n\u001b[1;32m   5402\u001b[0m         index\u001b[39m=\u001b[39;49mindex,\n\u001b[1;32m   5403\u001b[0m         columns\u001b[39m=\u001b[39;49mcolumns,\n\u001b[1;32m   5404\u001b[0m         level\u001b[39m=\u001b[39;49mlevel,\n\u001b[1;32m   5405\u001b[0m         inplace\u001b[39m=\u001b[39;49minplace,\n\u001b[1;32m   5406\u001b[0m         errors\u001b[39m=\u001b[39;49merrors,\n\u001b[1;32m   5407\u001b[0m     )\n",
      "File \u001b[0;32m/opt/homebrew/Caskroom/miniconda/base/lib/python3.10/site-packages/pandas/util/_decorators.py:331\u001b[0m, in \u001b[0;36mdeprecate_nonkeyword_arguments.<locals>.decorate.<locals>.wrapper\u001b[0;34m(*args, **kwargs)\u001b[0m\n\u001b[1;32m    325\u001b[0m \u001b[39mif\u001b[39;00m \u001b[39mlen\u001b[39m(args) \u001b[39m>\u001b[39m num_allow_args:\n\u001b[1;32m    326\u001b[0m     warnings\u001b[39m.\u001b[39mwarn(\n\u001b[1;32m    327\u001b[0m         msg\u001b[39m.\u001b[39mformat(arguments\u001b[39m=\u001b[39m_format_argument_list(allow_args)),\n\u001b[1;32m    328\u001b[0m         \u001b[39mFutureWarning\u001b[39;00m,\n\u001b[1;32m    329\u001b[0m         stacklevel\u001b[39m=\u001b[39mfind_stack_level(),\n\u001b[1;32m    330\u001b[0m     )\n\u001b[0;32m--> 331\u001b[0m \u001b[39mreturn\u001b[39;00m func(\u001b[39m*\u001b[39;49margs, \u001b[39m*\u001b[39;49m\u001b[39m*\u001b[39;49mkwargs)\n",
      "File \u001b[0;32m/opt/homebrew/Caskroom/miniconda/base/lib/python3.10/site-packages/pandas/core/generic.py:4505\u001b[0m, in \u001b[0;36mNDFrame.drop\u001b[0;34m(self, labels, axis, index, columns, level, inplace, errors)\u001b[0m\n\u001b[1;32m   4503\u001b[0m \u001b[39mfor\u001b[39;00m axis, labels \u001b[39min\u001b[39;00m axes\u001b[39m.\u001b[39mitems():\n\u001b[1;32m   4504\u001b[0m     \u001b[39mif\u001b[39;00m labels \u001b[39mis\u001b[39;00m \u001b[39mnot\u001b[39;00m \u001b[39mNone\u001b[39;00m:\n\u001b[0;32m-> 4505\u001b[0m         obj \u001b[39m=\u001b[39m obj\u001b[39m.\u001b[39;49m_drop_axis(labels, axis, level\u001b[39m=\u001b[39;49mlevel, errors\u001b[39m=\u001b[39;49merrors)\n\u001b[1;32m   4507\u001b[0m \u001b[39mif\u001b[39;00m inplace:\n\u001b[1;32m   4508\u001b[0m     \u001b[39mself\u001b[39m\u001b[39m.\u001b[39m_update_inplace(obj)\n",
      "File \u001b[0;32m/opt/homebrew/Caskroom/miniconda/base/lib/python3.10/site-packages/pandas/core/generic.py:4546\u001b[0m, in \u001b[0;36mNDFrame._drop_axis\u001b[0;34m(self, labels, axis, level, errors, only_slice)\u001b[0m\n\u001b[1;32m   4544\u001b[0m         new_axis \u001b[39m=\u001b[39m axis\u001b[39m.\u001b[39mdrop(labels, level\u001b[39m=\u001b[39mlevel, errors\u001b[39m=\u001b[39merrors)\n\u001b[1;32m   4545\u001b[0m     \u001b[39melse\u001b[39;00m:\n\u001b[0;32m-> 4546\u001b[0m         new_axis \u001b[39m=\u001b[39m axis\u001b[39m.\u001b[39;49mdrop(labels, errors\u001b[39m=\u001b[39;49merrors)\n\u001b[1;32m   4547\u001b[0m     indexer \u001b[39m=\u001b[39m axis\u001b[39m.\u001b[39mget_indexer(new_axis)\n\u001b[1;32m   4549\u001b[0m \u001b[39m# Case for non-unique axis\u001b[39;00m\n\u001b[1;32m   4550\u001b[0m \u001b[39melse\u001b[39;00m:\n",
      "File \u001b[0;32m/opt/homebrew/Caskroom/miniconda/base/lib/python3.10/site-packages/pandas/core/indexes/base.py:6934\u001b[0m, in \u001b[0;36mIndex.drop\u001b[0;34m(self, labels, errors)\u001b[0m\n\u001b[1;32m   6932\u001b[0m \u001b[39mif\u001b[39;00m mask\u001b[39m.\u001b[39many():\n\u001b[1;32m   6933\u001b[0m     \u001b[39mif\u001b[39;00m errors \u001b[39m!=\u001b[39m \u001b[39m\"\u001b[39m\u001b[39mignore\u001b[39m\u001b[39m\"\u001b[39m:\n\u001b[0;32m-> 6934\u001b[0m         \u001b[39mraise\u001b[39;00m \u001b[39mKeyError\u001b[39;00m(\u001b[39mf\u001b[39m\u001b[39m\"\u001b[39m\u001b[39m{\u001b[39;00m\u001b[39mlist\u001b[39m(labels[mask])\u001b[39m}\u001b[39;00m\u001b[39m not found in axis\u001b[39m\u001b[39m\"\u001b[39m)\n\u001b[1;32m   6935\u001b[0m     indexer \u001b[39m=\u001b[39m indexer[\u001b[39m~\u001b[39mmask]\n\u001b[1;32m   6936\u001b[0m \u001b[39mreturn\u001b[39;00m \u001b[39mself\u001b[39m\u001b[39m.\u001b[39mdelete(indexer)\n",
      "\u001b[0;31mKeyError\u001b[0m: '[19730, 29503, 35587] not found in axis'"
     ]
    }
   ],
   "source": [
    "movies_path = '../dataset/movies_metadata.csv'\n",
    "rating_path = '../dataset/ratings_small.csv'\n",
    "\n",
    "df_movies = pd.read_csv(movies_path).drop([19730, 29503, 35587])\n",
    "df_rating = pd.read_csv(rating_path)\n",
    "\n",
    "df_movies_cleaned = df_movies[['id', 'original_title']]\n",
    "df_rating_cleaned = df_rating[['movieId', 'userId', 'rating']]\n",
    "display(df_movies_cleaned.head(5))\n",
    "display(df_rating_cleaned.head(5))\n",
    "df_movies_cleaned['id'] = df_movies_cleaned['id'].astype('int64')\n",
    "\n",
    "df_movies_cleaned.loc[:, 'id'] = pd.to_numeric(df_movies_cleaned['id'], errors='coerce').astype('Int64')\n",
    "df_movies_cleaned = df_movies_cleaned.dropna(subset=['id']) # remove any line with NaN\n",
    "display(df_movies_cleaned.head(5))\n",
    "\n",
    "merged_dataset = pd.merge(df_rating_cleaned, df_movies_cleaned[['id', 'original_title']], left_on='movieId', right_on='id', how='left')\n",
    "\n",
    "merged_dataset = merged_dataset[~merged_dataset['id'].isna()]\n",
    "merged_dataset.dropna(inplace=True)\n",
    "merged_dataset.drop('movieId', axis=1, inplace=True)\n",
    "display(merged_dataset['id'].describe())\n",
    "dataset_size = merged_dataset.shape[0] # count final size for dataset\n",
    "\n",
    "merged_dataset.reset_index(drop=True, inplace=True)\n",
    "\n",
    "display(merged_dataset.head())\n",
    "\n",
    "df_movies_cleaned = df_movies_cleaned[~df_movies_cleaned['original_title'].duplicated()]\n",
    "df_movies_cleaned['original_title'].head()\n",
    "\n",
    "merged_dataset['userId'] = merged_dataset['userId'].astype(str)\n",
    "# df_movies_cleaned['original_title'] = df_movies_cleaned['original_title'].astype(str)\n",
    "\n",
    "rating_dict = dict(merged_dataset[['userId', 'original_title', 'rating']])\n",
    "movies_dict = dict(df_movies_cleaned[['original_title']])\n",
    "\n",
    "# Transfer to tf.tensor_slice\n",
    "ratings_tf = tf.data.Dataset.from_tensor_slices(rating_dict)\n",
    "movies_tf = tf.data.Dataset.from_tensor_slices(movies_dict)\n",
    "\n",
    "movies_tf = movies_tf.map(lambda x: x[\"original_title\"])\n",
    "\n",
    "ratings_tf = ratings_tf.map(lambda x: {\n",
    "    \"original_title\": x[\"original_title\"],\n",
    "    \"rating\": float(x[\"rating\"]),\n",
    "    \"userId\": x[\"userId\"]\n",
    "})\n",
    "def slice_df_data(data_tf, total_size, test_rate=0.2):\n",
    "    test_size = int(total_size * test_rate)\n",
    "    train_size = total_size - test_size\n",
    "    return data_tf.take(train_size), data_tf.skip(train_size).take(test_size)\n",
    "\n",
    "train_ds, test_ds = slice_df_data(ratings_tf, dataset_size)\n",
    "usrID_lookup = np.unique(np.concatenate([merged_dataset['userId'].to_numpy()]))\n",
    "title_lookup = np.unique(np.concatenate([df_movies_cleaned['original_title']]))"
   ]
  },
  {
   "attachments": {},
   "cell_type": "markdown",
   "metadata": {},
   "source": [
    "## Data Visualization"
   ]
  },
  {
   "cell_type": "code",
   "execution_count": null,
   "metadata": {},
   "outputs": [],
   "source": [
    "#visulaize overall ratings\n",
    "plt.figure(figsize= (25, 10))\n",
    "plt.hist(x=[merged_dataset.userId], bins = 500)\n",
    "plt.title(\"Overall rating by users\")\n",
    "plt.show()"
   ]
  },
  {
   "cell_type": "code",
   "execution_count": null,
   "metadata": {},
   "outputs": [],
   "source": [
    "#Filter the ratingings for one a specific movie, e.g. \"Rocky III\"\n",
    "movieData = merged_dataset[merged_dataset['original_title'] == \"Rocky III\"]\n",
    "\n",
    "# Create the histogram plot\n",
    "plt.figure(figsize=(8, 6))\n",
    "plt.hist(x=movieData['rating'], bins=np.arange(0, 5.5, 0.5), edgecolor='black', alpha=0.7, color='steelblue')\n",
    "plt.xlabel('Rating', fontsize=12)\n",
    "plt.ylabel('Frequency', fontsize=12)\n",
    "plt.title('Distribution of Ratings - Rocky III', fontsize=14)\n",
    "plt.xticks(np.arange(0, 5.5, 0.5), fontsize=10)\n",
    "plt.yticks(fontsize=10)\n",
    "plt.grid(axis='y', linestyle='--', alpha=0.5)\n",
    "plt.tight_layout()\n",
    "plt.show()\n"
   ]
  },
  {
   "cell_type": "code",
   "execution_count": null,
   "metadata": {},
   "outputs": [],
   "source": [
    "#the scatter plot visualizes the relationship between user IDs and ratings for a random subset of 100 users\n",
    "\n",
    "# Select a random sample of 100 unique user IDs\n",
    "random_users = np.random.choice(merged_dataset['userId'].unique(), size=100, replace=False)\n",
    "\n",
    "# Filter the dataset to include ratings from the random users\n",
    "random_subset = merged_dataset[merged_dataset['userId'].isin(random_users)]\n",
    "\n",
    "# Create the scatter plot\n",
    "plt.figure(figsize=(12, 8))\n",
    "plt.scatter(x=random_subset['userId'], y=random_subset['rating'], s=50, alpha=0.7, color='dodgerblue', edgecolor='k', linewidth=0.5)\n",
    "plt.xlabel('')  # Leave x-axis label blank\n",
    "plt.xlabel('User ID', fontsize=12)\n",
    "plt.ylabel('Rating', fontsize=12)\n",
    "plt.title('User Ratings by Movie ID (Random 100 Users)', fontsize=14)\n",
    "plt.xticks(fontsize=10)\n",
    "plt.yticks(fontsize=10)\n",
    "plt.grid(True, linestyle='--', alpha=0.5)\n",
    "plt.tight_layout()\n",
    "plt.show()\n"
   ]
  },
  {
   "cell_type": "code",
   "execution_count": null,
   "metadata": {},
   "outputs": [],
   "source": [
    "# generate a word cloud visualization that represents the top 25 most highly rated movies with their realtion to rating\n",
    "\n",
    "# Calculate the average rating for each movie\n",
    "avg_rating_data = merged_dataset.groupby('original_title')['rating'].mean().reset_index()\n",
    "\n",
    "# Sort the data to get the top 25 most rated movies\n",
    "top_rated_movies = avg_rating_data.nlargest(25, 'rating')\n",
    "\n",
    "# Create a dictionary with movie titles as keys and average ratings as values\n",
    "rating_dict = dict(zip(top_rated_movies['original_title'], top_rated_movies['rating']))\n",
    "\n",
    "# Generate the word cloud\n",
    "wordcloud = WordCloud(background_color='white', colormap='YlGnBu', max_words=50).generate_from_frequencies(rating_dict)\n",
    "\n",
    "\n",
    "def vibrant_color_func(word, font_size, position, orientation, random_state=None, **kwargs):\n",
    "    return \"rgb({}, {}, {})\".format(random.randint(0, 255), random.randint(0, 255), random.randint(0, 255))\n",
    "\n",
    "# Plot the word cloud with vibrant colors\n",
    "plt.figure(figsize=(12, 10))\n",
    "plt.imshow(wordcloud.recolor(color_func=vibrant_color_func), interpolation='bilinear')\n",
    "plt.axis('off')\n",
    "plt.title('Top 25 Most Rated Movies - Word Cloud', fontsize=16)\n",
    "plt.show()\n"
   ]
  },
  {
   "attachments": {},
   "cell_type": "markdown",
   "metadata": {},
   "source": [
    "## 3. Model construction"
   ]
  },
  {
   "cell_type": "code",
   "execution_count": 11,
   "metadata": {},
   "outputs": [],
   "source": [
    "# customized model for collaborative-based system\n",
    "class CollabModel(tfrs.models.Model):\n",
    "  def __init__(self, rating_w, retrieval_w, embedding_dim=64, L1_num=256, L2_num=128, L3_num=32, act_func=\"relu\") -> None:\n",
    "    super().__init__()\n",
    "    embedding_dim = embedding_dim # number of dimension for embedding\n",
    "\n",
    "    self.movie_model: tf.keras.layers.Layer = tf.keras.Sequential([\n",
    "      tf.keras.layers.StringLookup(\n",
    "        vocabulary=title_lookup, mask_token=None),\n",
    "      tf.keras.layers.Embedding(len(title_lookup) + 1, embedding_dim)\n",
    "    ])\n",
    "    self.user_model: tf.keras.layers.Layer = tf.keras.Sequential([\n",
    "      tf.keras.layers.StringLookup(\n",
    "        vocabulary=usrID_lookup, mask_token=None),\n",
    "      tf.keras.layers.Embedding(len(usrID_lookup) + 1, embedding_dim)\n",
    "    ])\n",
    "    self.rating_model = tf.keras.Sequential([\n",
    "        tf.keras.layers.Dense(L1_num, activation=act_func), # first layer\n",
    "        tf.keras.layers.Dense(L2_num, activation=act_func), # second layer\n",
    "        tf.keras.layers.Dense(L3_num, activation=act_func),# third layer\n",
    "        tf.keras.layers.Dense(1), # output layer\n",
    "    ])\n",
    "\n",
    "    self.rating_eval: tf.keras.layers.Layer = tfrs.tasks.Ranking(\n",
    "        loss = MeanSquaredError(),\n",
    "        metrics = [RootMeanSquaredError(), MeanAbsoluteError()],\n",
    "    )\n",
    "    self.retrieval_eval: tf.keras.layers.Layer = tfrs.tasks.Retrieval(\n",
    "        metrics=tfrs.metrics.FactorizedTopK(\n",
    "            candidates=movies_tf.batch(128).map(self.movie_model)\n",
    "        )\n",
    "    )\n",
    "\n",
    "    self.rating_weight = rating_w\n",
    "    self.retrieval_weight = retrieval_w\n",
    "\n",
    "  # overloading call function\n",
    "  def call(self, features: Dict[Text, tf.Tensor]) -> tf.Tensor:\n",
    "    user_embeddings = self.user_model(features[\"userId\"])\n",
    "    movie_embeddings = self.movie_model(features[\"original_title\"])\n",
    "    \n",
    "    return (\n",
    "        user_embeddings,\n",
    "        movie_embeddings,\n",
    "        self.rating_model(\n",
    "            tf.concat([user_embeddings, movie_embeddings], axis=1)\n",
    "        ),\n",
    "    )\n",
    "\n",
    "  # overloading compute_loss function\n",
    "  def compute_loss(self, features: Dict[Text, tf.Tensor], training=False) -> tf.Tensor: \n",
    "    label_r = features.pop(\"rating\")\n",
    "    user_embeddings, movie_embeddings, rating_pred = self(features)\n",
    "    rating_loss = self.rating_eval(labels=label_r, predictions=rating_pred)\n",
    "    retrieval_loss = self.retrieval_eval(user_embeddings, movie_embeddings)\n",
    "\n",
    "    return (self.rating_weight * rating_loss\n",
    "            + self.retrieval_weight * retrieval_loss)"
   ]
  },
  {
   "attachments": {},
   "cell_type": "markdown",
   "metadata": {},
   "source": [
    "## 4. Model training"
   ]
  },
  {
   "cell_type": "code",
   "execution_count": 14,
   "metadata": {},
   "outputs": [
    {
     "name": "stdout",
     "output_type": "stream",
     "text": [
      "Epoch 1/3\n",
      "36/36 [==============================] - 37s 994ms/step - mean_squared_error: 13.5502 - root_mean_squared_error: 3.6811 - mean_absolute_error: 3.5256 - factorized_top_k/top_1_categorical_accuracy: 8.3343e-04 - factorized_top_k/top_5_categorical_accuracy: 0.0096 - factorized_top_k/top_10_categorical_accuracy: 0.0220 - factorized_top_k/top_50_categorical_accuracy: 0.1047 - factorized_top_k/top_100_categorical_accuracy: 0.1675 - loss: 6845.5895 - regularization_loss: 0.0000e+00 - total_loss: 6845.5895\n",
      "Epoch 2/3\n",
      "36/36 [==============================] - 37s 1s/step - mean_squared_error: 13.3460 - root_mean_squared_error: 3.6532 - mean_absolute_error: 3.4978 - factorized_top_k/top_1_categorical_accuracy: 0.0010 - factorized_top_k/top_5_categorical_accuracy: 0.0194 - factorized_top_k/top_10_categorical_accuracy: 0.0416 - factorized_top_k/top_50_categorical_accuracy: 0.1885 - factorized_top_k/top_100_categorical_accuracy: 0.3016 - loss: 6532.1861 - regularization_loss: 0.0000e+00 - total_loss: 6532.1861\n",
      "Epoch 3/3\n",
      "36/36 [==============================] - 37s 1s/step - mean_squared_error: 13.2719 - root_mean_squared_error: 3.6431 - mean_absolute_error: 3.4870 - factorized_top_k/top_1_categorical_accuracy: 8.3343e-04 - factorized_top_k/top_5_categorical_accuracy: 0.0231 - factorized_top_k/top_10_categorical_accuracy: 0.0511 - factorized_top_k/top_50_categorical_accuracy: 0.2182 - factorized_top_k/top_100_categorical_accuracy: 0.3418 - loss: 6318.7631 - regularization_loss: 0.0000e+00 - total_loss: 6318.7631\n"
     ]
    },
    {
     "data": {
      "text/plain": [
       "<keras.callbacks.History at 0x7f3ff67cd7f0>"
      ]
     },
     "execution_count": 14,
     "metadata": {},
     "output_type": "execute_result"
    }
   ],
   "source": [
    "model = CollabModel(rating_w=1.0, retrieval_w=1.0, embedding_dim=32, L1_num=256, L2_num=128, L3_num=32, act_func=\"relu\")\n",
    "model.compile(optimizer=tf.keras.optimizers.Adagrad(0.1))\n",
    "\n",
    "train_ds_cache = train_ds.shuffle(10_000).batch(1_000).cache()\n",
    "test_ds_cache = test_ds.batch(1_000).cache()\n",
    "\n",
    "model.fit(train_ds_cache, epochs=3)"
   ]
  },
  {
   "cell_type": "code",
   "execution_count": 15,
   "metadata": {},
   "outputs": [],
   "source": [
    "save_path = '../model/MRS_v2_e32.h5'\n",
    "model.save_weights(save_path)"
   ]
  },
  {
   "attachments": {},
   "cell_type": "markdown",
   "metadata": {},
   "source": [
    "## 5. Model evaluation"
   ]
  },
  {
   "cell_type": "code",
   "execution_count": null,
   "metadata": {},
   "outputs": [],
   "source": []
  }
 ],
 "metadata": {
  "kernelspec": {
   "display_name": "tf",
   "language": "python",
   "name": "python3"
  },
  "language_info": {
   "codemirror_mode": {
    "name": "ipython",
    "version": 3
   },
   "file_extension": ".py",
   "mimetype": "text/x-python",
   "name": "python",
   "nbconvert_exporter": "python",
   "pygments_lexer": "ipython3",
   "version": "3.10.10"
  },
  "orig_nbformat": 4
 },
 "nbformat": 4,
 "nbformat_minor": 2
}
